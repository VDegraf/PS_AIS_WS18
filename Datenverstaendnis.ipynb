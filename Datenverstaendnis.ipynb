{
 "cells": [
  {
   "cell_type": "code",
   "execution_count": 1,
   "metadata": {},
   "outputs": [],
   "source": [
    "import numpy as np\n",
    "import pandas as pd\n",
    "import gzip"
   ]
  },
  {
   "cell_type": "code",
   "execution_count": 2,
   "metadata": {},
   "outputs": [],
   "source": [
    "def parse(path):\n",
    "  g = gzip.open(path, 'rb')\n",
    "  for l in g:\n",
    "    yield eval(l)\n",
    "\n",
    "def getDF(path):\n",
    "  i = 0\n",
    "  df = {}\n",
    "  for d in parse(path):\n",
    "    df[i] = d\n",
    "    i += 1\n",
    "  return pd.DataFrame.from_dict(df, orient='index')\n",
    "\n",
    "path = './Rumprobieren/data/data.json.gz'\n",
    "df = getDF(path)\n"
   ]
  },
  {
   "cell_type": "code",
   "execution_count": 3,
   "metadata": {},
   "outputs": [
    {
     "data": {
      "text/plain": [
       "(10261, 9)"
      ]
     },
     "execution_count": 3,
     "metadata": {},
     "output_type": "execute_result"
    }
   ],
   "source": [
    "df.shape"
   ]
  },
  {
   "cell_type": "code",
   "execution_count": 4,
   "metadata": {},
   "outputs": [
    {
     "data": {
      "text/html": [
       "<div>\n",
       "<style scoped>\n",
       "    .dataframe tbody tr th:only-of-type {\n",
       "        vertical-align: middle;\n",
       "    }\n",
       "\n",
       "    .dataframe tbody tr th {\n",
       "        vertical-align: top;\n",
       "    }\n",
       "\n",
       "    .dataframe thead th {\n",
       "        text-align: right;\n",
       "    }\n",
       "</style>\n",
       "<table border=\"1\" class=\"dataframe\">\n",
       "  <thead>\n",
       "    <tr style=\"text-align: right;\">\n",
       "      <th></th>\n",
       "      <th>overall</th>\n",
       "      <th>unixReviewTime</th>\n",
       "    </tr>\n",
       "  </thead>\n",
       "  <tbody>\n",
       "    <tr>\n",
       "      <th>count</th>\n",
       "      <td>10261.000000</td>\n",
       "      <td>1.026100e+04</td>\n",
       "    </tr>\n",
       "    <tr>\n",
       "      <th>mean</th>\n",
       "      <td>4.488744</td>\n",
       "      <td>1.360606e+09</td>\n",
       "    </tr>\n",
       "    <tr>\n",
       "      <th>std</th>\n",
       "      <td>0.894642</td>\n",
       "      <td>3.779735e+07</td>\n",
       "    </tr>\n",
       "    <tr>\n",
       "      <th>min</th>\n",
       "      <td>1.000000</td>\n",
       "      <td>1.095466e+09</td>\n",
       "    </tr>\n",
       "    <tr>\n",
       "      <th>25%</th>\n",
       "      <td>4.000000</td>\n",
       "      <td>1.343434e+09</td>\n",
       "    </tr>\n",
       "    <tr>\n",
       "      <th>50%</th>\n",
       "      <td>5.000000</td>\n",
       "      <td>1.368490e+09</td>\n",
       "    </tr>\n",
       "    <tr>\n",
       "      <th>75%</th>\n",
       "      <td>5.000000</td>\n",
       "      <td>1.388966e+09</td>\n",
       "    </tr>\n",
       "    <tr>\n",
       "      <th>max</th>\n",
       "      <td>5.000000</td>\n",
       "      <td>1.405987e+09</td>\n",
       "    </tr>\n",
       "  </tbody>\n",
       "</table>\n",
       "</div>"
      ],
      "text/plain": [
       "            overall  unixReviewTime\n",
       "count  10261.000000    1.026100e+04\n",
       "mean       4.488744    1.360606e+09\n",
       "std        0.894642    3.779735e+07\n",
       "min        1.000000    1.095466e+09\n",
       "25%        4.000000    1.343434e+09\n",
       "50%        5.000000    1.368490e+09\n",
       "75%        5.000000    1.388966e+09\n",
       "max        5.000000    1.405987e+09"
      ]
     },
     "execution_count": 4,
     "metadata": {},
     "output_type": "execute_result"
    }
   ],
   "source": [
    "df.describe()"
   ]
  },
  {
   "cell_type": "code",
   "execution_count": 5,
   "metadata": {},
   "outputs": [
    {
     "data": {
      "text/html": [
       "<div>\n",
       "<style scoped>\n",
       "    .dataframe tbody tr th:only-of-type {\n",
       "        vertical-align: middle;\n",
       "    }\n",
       "\n",
       "    .dataframe tbody tr th {\n",
       "        vertical-align: top;\n",
       "    }\n",
       "\n",
       "    .dataframe thead th {\n",
       "        text-align: right;\n",
       "    }\n",
       "</style>\n",
       "<table border=\"1\" class=\"dataframe\">\n",
       "  <thead>\n",
       "    <tr style=\"text-align: right;\">\n",
       "      <th></th>\n",
       "      <th>reviewerID</th>\n",
       "      <th>asin</th>\n",
       "      <th>reviewerName</th>\n",
       "      <th>helpful</th>\n",
       "      <th>reviewText</th>\n",
       "      <th>overall</th>\n",
       "      <th>summary</th>\n",
       "      <th>unixReviewTime</th>\n",
       "      <th>reviewTime</th>\n",
       "    </tr>\n",
       "  </thead>\n",
       "  <tbody>\n",
       "    <tr>\n",
       "      <th>0</th>\n",
       "      <td>A2IBPI20UZIR0U</td>\n",
       "      <td>1384719342</td>\n",
       "      <td>cassandra tu \"Yeah, well, that's just like, u...</td>\n",
       "      <td>[0, 0]</td>\n",
       "      <td>Not much to write about here, but it does exac...</td>\n",
       "      <td>5.0</td>\n",
       "      <td>good</td>\n",
       "      <td>1393545600</td>\n",
       "      <td>02 28, 2014</td>\n",
       "    </tr>\n",
       "    <tr>\n",
       "      <th>1</th>\n",
       "      <td>A14VAT5EAX3D9S</td>\n",
       "      <td>1384719342</td>\n",
       "      <td>Jake</td>\n",
       "      <td>[13, 14]</td>\n",
       "      <td>The product does exactly as it should and is q...</td>\n",
       "      <td>5.0</td>\n",
       "      <td>Jake</td>\n",
       "      <td>1363392000</td>\n",
       "      <td>03 16, 2013</td>\n",
       "    </tr>\n",
       "    <tr>\n",
       "      <th>2</th>\n",
       "      <td>A195EZSQDW3E21</td>\n",
       "      <td>1384719342</td>\n",
       "      <td>Rick Bennette \"Rick Bennette\"</td>\n",
       "      <td>[1, 1]</td>\n",
       "      <td>The primary job of this device is to block the...</td>\n",
       "      <td>5.0</td>\n",
       "      <td>It Does The Job Well</td>\n",
       "      <td>1377648000</td>\n",
       "      <td>08 28, 2013</td>\n",
       "    </tr>\n",
       "    <tr>\n",
       "      <th>3</th>\n",
       "      <td>A2C00NNG1ZQQG2</td>\n",
       "      <td>1384719342</td>\n",
       "      <td>RustyBill \"Sunday Rocker\"</td>\n",
       "      <td>[0, 0]</td>\n",
       "      <td>Nice windscreen protects my MXL mic and preven...</td>\n",
       "      <td>5.0</td>\n",
       "      <td>GOOD WINDSCREEN FOR THE MONEY</td>\n",
       "      <td>1392336000</td>\n",
       "      <td>02 14, 2014</td>\n",
       "    </tr>\n",
       "    <tr>\n",
       "      <th>4</th>\n",
       "      <td>A94QU4C90B1AX</td>\n",
       "      <td>1384719342</td>\n",
       "      <td>SEAN MASLANKA</td>\n",
       "      <td>[0, 0]</td>\n",
       "      <td>This pop filter is great. It looks and perform...</td>\n",
       "      <td>5.0</td>\n",
       "      <td>No more pops when I record my vocals.</td>\n",
       "      <td>1392940800</td>\n",
       "      <td>02 21, 2014</td>\n",
       "    </tr>\n",
       "  </tbody>\n",
       "</table>\n",
       "</div>"
      ],
      "text/plain": [
       "       reviewerID        asin  \\\n",
       "0  A2IBPI20UZIR0U  1384719342   \n",
       "1  A14VAT5EAX3D9S  1384719342   \n",
       "2  A195EZSQDW3E21  1384719342   \n",
       "3  A2C00NNG1ZQQG2  1384719342   \n",
       "4   A94QU4C90B1AX  1384719342   \n",
       "\n",
       "                                       reviewerName   helpful  \\\n",
       "0  cassandra tu \"Yeah, well, that's just like, u...    [0, 0]   \n",
       "1                                              Jake  [13, 14]   \n",
       "2                     Rick Bennette \"Rick Bennette\"    [1, 1]   \n",
       "3                         RustyBill \"Sunday Rocker\"    [0, 0]   \n",
       "4                                     SEAN MASLANKA    [0, 0]   \n",
       "\n",
       "                                          reviewText  overall  \\\n",
       "0  Not much to write about here, but it does exac...      5.0   \n",
       "1  The product does exactly as it should and is q...      5.0   \n",
       "2  The primary job of this device is to block the...      5.0   \n",
       "3  Nice windscreen protects my MXL mic and preven...      5.0   \n",
       "4  This pop filter is great. It looks and perform...      5.0   \n",
       "\n",
       "                                 summary  unixReviewTime   reviewTime  \n",
       "0                                   good      1393545600  02 28, 2014  \n",
       "1                                   Jake      1363392000  03 16, 2013  \n",
       "2                   It Does The Job Well      1377648000  08 28, 2013  \n",
       "3          GOOD WINDSCREEN FOR THE MONEY      1392336000  02 14, 2014  \n",
       "4  No more pops when I record my vocals.      1392940800  02 21, 2014  "
      ]
     },
     "execution_count": 5,
     "metadata": {},
     "output_type": "execute_result"
    }
   ],
   "source": [
    "df.head()"
   ]
  },
  {
   "cell_type": "code",
   "execution_count": 6,
   "metadata": {},
   "outputs": [
    {
     "data": {
      "text/plain": [
       "92349"
      ]
     },
     "execution_count": 6,
     "metadata": {},
     "output_type": "execute_result"
    }
   ],
   "source": [
    "df.size"
   ]
  },
  {
   "cell_type": "code",
   "execution_count": 7,
   "metadata": {},
   "outputs": [
    {
     "name": "stdout",
     "output_type": "stream",
     "text": [
      "<class 'pandas.core.frame.DataFrame'>\n",
      "Int64Index: 10261 entries, 0 to 10260\n",
      "Data columns (total 9 columns):\n",
      "reviewerID        10261 non-null object\n",
      "asin              10261 non-null object\n",
      "reviewerName      10234 non-null object\n",
      "helpful           10261 non-null object\n",
      "reviewText        10261 non-null object\n",
      "overall           10261 non-null float64\n",
      "summary           10261 non-null object\n",
      "unixReviewTime    10261 non-null int64\n",
      "reviewTime        10261 non-null object\n",
      "dtypes: float64(1), int64(1), object(7)\n",
      "memory usage: 801.6+ KB\n"
     ]
    }
   ],
   "source": [
    "df.info()"
   ]
  },
  {
   "cell_type": "code",
   "execution_count": 8,
   "metadata": {},
   "outputs": [
    {
     "data": {
      "text/html": [
       "<div>\n",
       "<style scoped>\n",
       "    .dataframe tbody tr th:only-of-type {\n",
       "        vertical-align: middle;\n",
       "    }\n",
       "\n",
       "    .dataframe tbody tr th {\n",
       "        vertical-align: top;\n",
       "    }\n",
       "\n",
       "    .dataframe thead th {\n",
       "        text-align: right;\n",
       "    }\n",
       "</style>\n",
       "<table border=\"1\" class=\"dataframe\">\n",
       "  <thead>\n",
       "    <tr style=\"text-align: right;\">\n",
       "      <th></th>\n",
       "      <th>reviewerID</th>\n",
       "      <th>asin</th>\n",
       "      <th>reviewerName</th>\n",
       "      <th>helpful</th>\n",
       "      <th>reviewText</th>\n",
       "      <th>overall</th>\n",
       "      <th>summary</th>\n",
       "      <th>unixReviewTime</th>\n",
       "      <th>reviewTime</th>\n",
       "    </tr>\n",
       "  </thead>\n",
       "  <tbody>\n",
       "    <tr>\n",
       "      <th>count</th>\n",
       "      <td>10261</td>\n",
       "      <td>10261</td>\n",
       "      <td>10234</td>\n",
       "      <td>10261</td>\n",
       "      <td>10261</td>\n",
       "      <td>10261.000000</td>\n",
       "      <td>10261</td>\n",
       "      <td>1.026100e+04</td>\n",
       "      <td>10261</td>\n",
       "    </tr>\n",
       "    <tr>\n",
       "      <th>unique</th>\n",
       "      <td>1429</td>\n",
       "      <td>900</td>\n",
       "      <td>1397</td>\n",
       "      <td>269</td>\n",
       "      <td>10255</td>\n",
       "      <td>NaN</td>\n",
       "      <td>8852</td>\n",
       "      <td>NaN</td>\n",
       "      <td>1570</td>\n",
       "    </tr>\n",
       "    <tr>\n",
       "      <th>top</th>\n",
       "      <td>ADH0O8UVJOT10</td>\n",
       "      <td>B003VWJ2K8</td>\n",
       "      <td>Amazon Customer</td>\n",
       "      <td>[0, 0]</td>\n",
       "      <td></td>\n",
       "      <td>NaN</td>\n",
       "      <td>Great</td>\n",
       "      <td>NaN</td>\n",
       "      <td>01 22, 2013</td>\n",
       "    </tr>\n",
       "    <tr>\n",
       "      <th>freq</th>\n",
       "      <td>42</td>\n",
       "      <td>163</td>\n",
       "      <td>66</td>\n",
       "      <td>6796</td>\n",
       "      <td>7</td>\n",
       "      <td>NaN</td>\n",
       "      <td>42</td>\n",
       "      <td>NaN</td>\n",
       "      <td>40</td>\n",
       "    </tr>\n",
       "    <tr>\n",
       "      <th>mean</th>\n",
       "      <td>NaN</td>\n",
       "      <td>NaN</td>\n",
       "      <td>NaN</td>\n",
       "      <td>NaN</td>\n",
       "      <td>NaN</td>\n",
       "      <td>4.488744</td>\n",
       "      <td>NaN</td>\n",
       "      <td>1.360606e+09</td>\n",
       "      <td>NaN</td>\n",
       "    </tr>\n",
       "    <tr>\n",
       "      <th>std</th>\n",
       "      <td>NaN</td>\n",
       "      <td>NaN</td>\n",
       "      <td>NaN</td>\n",
       "      <td>NaN</td>\n",
       "      <td>NaN</td>\n",
       "      <td>0.894642</td>\n",
       "      <td>NaN</td>\n",
       "      <td>3.779735e+07</td>\n",
       "      <td>NaN</td>\n",
       "    </tr>\n",
       "    <tr>\n",
       "      <th>min</th>\n",
       "      <td>NaN</td>\n",
       "      <td>NaN</td>\n",
       "      <td>NaN</td>\n",
       "      <td>NaN</td>\n",
       "      <td>NaN</td>\n",
       "      <td>1.000000</td>\n",
       "      <td>NaN</td>\n",
       "      <td>1.095466e+09</td>\n",
       "      <td>NaN</td>\n",
       "    </tr>\n",
       "    <tr>\n",
       "      <th>25%</th>\n",
       "      <td>NaN</td>\n",
       "      <td>NaN</td>\n",
       "      <td>NaN</td>\n",
       "      <td>NaN</td>\n",
       "      <td>NaN</td>\n",
       "      <td>4.000000</td>\n",
       "      <td>NaN</td>\n",
       "      <td>1.343434e+09</td>\n",
       "      <td>NaN</td>\n",
       "    </tr>\n",
       "    <tr>\n",
       "      <th>50%</th>\n",
       "      <td>NaN</td>\n",
       "      <td>NaN</td>\n",
       "      <td>NaN</td>\n",
       "      <td>NaN</td>\n",
       "      <td>NaN</td>\n",
       "      <td>5.000000</td>\n",
       "      <td>NaN</td>\n",
       "      <td>1.368490e+09</td>\n",
       "      <td>NaN</td>\n",
       "    </tr>\n",
       "    <tr>\n",
       "      <th>75%</th>\n",
       "      <td>NaN</td>\n",
       "      <td>NaN</td>\n",
       "      <td>NaN</td>\n",
       "      <td>NaN</td>\n",
       "      <td>NaN</td>\n",
       "      <td>5.000000</td>\n",
       "      <td>NaN</td>\n",
       "      <td>1.388966e+09</td>\n",
       "      <td>NaN</td>\n",
       "    </tr>\n",
       "    <tr>\n",
       "      <th>max</th>\n",
       "      <td>NaN</td>\n",
       "      <td>NaN</td>\n",
       "      <td>NaN</td>\n",
       "      <td>NaN</td>\n",
       "      <td>NaN</td>\n",
       "      <td>5.000000</td>\n",
       "      <td>NaN</td>\n",
       "      <td>1.405987e+09</td>\n",
       "      <td>NaN</td>\n",
       "    </tr>\n",
       "  </tbody>\n",
       "</table>\n",
       "</div>"
      ],
      "text/plain": [
       "           reviewerID        asin     reviewerName helpful reviewText  \\\n",
       "count           10261       10261            10234   10261      10261   \n",
       "unique           1429         900             1397     269      10255   \n",
       "top     ADH0O8UVJOT10  B003VWJ2K8  Amazon Customer  [0, 0]              \n",
       "freq               42         163               66    6796          7   \n",
       "mean              NaN         NaN              NaN     NaN        NaN   \n",
       "std               NaN         NaN              NaN     NaN        NaN   \n",
       "min               NaN         NaN              NaN     NaN        NaN   \n",
       "25%               NaN         NaN              NaN     NaN        NaN   \n",
       "50%               NaN         NaN              NaN     NaN        NaN   \n",
       "75%               NaN         NaN              NaN     NaN        NaN   \n",
       "max               NaN         NaN              NaN     NaN        NaN   \n",
       "\n",
       "             overall summary  unixReviewTime   reviewTime  \n",
       "count   10261.000000   10261    1.026100e+04        10261  \n",
       "unique           NaN    8852             NaN         1570  \n",
       "top              NaN   Great             NaN  01 22, 2013  \n",
       "freq             NaN      42             NaN           40  \n",
       "mean        4.488744     NaN    1.360606e+09          NaN  \n",
       "std         0.894642     NaN    3.779735e+07          NaN  \n",
       "min         1.000000     NaN    1.095466e+09          NaN  \n",
       "25%         4.000000     NaN    1.343434e+09          NaN  \n",
       "50%         5.000000     NaN    1.368490e+09          NaN  \n",
       "75%         5.000000     NaN    1.388966e+09          NaN  \n",
       "max         5.000000     NaN    1.405987e+09          NaN  "
      ]
     },
     "execution_count": 8,
     "metadata": {},
     "output_type": "execute_result"
    }
   ],
   "source": [
    "df.describe(include=\"all\")"
   ]
  },
  {
   "cell_type": "code",
   "execution_count": 9,
   "metadata": {},
   "outputs": [
    {
     "name": "stdout",
     "output_type": "stream",
     "text": [
      "5.0    6938\n",
      "4.0    2084\n",
      "3.0     772\n",
      "2.0     250\n",
      "1.0     217\n",
      "Name: overall, dtype: int64\n"
     ]
    }
   ],
   "source": [
    "print(df[\"overall\"].value_counts())\n",
    "df[\"overall\"].value_counts().plot.bar();"
   ]
  },
  {
   "cell_type": "code",
   "execution_count": 10,
   "metadata": {},
   "outputs": [
    {
     "name": "stdout",
     "output_type": "stream",
     "text": [
      "B003VWJ2K8    163\n",
      "B0002E1G5C    143\n",
      "B0002F7K7Y    116\n",
      "B003VWKPHC    114\n",
      "B0002H0A3S     93\n",
      "B0002CZVXM     74\n",
      "B0006NDF8A     71\n",
      "B0009G1E0K     69\n",
      "B0002E2KPC     68\n",
      "B0002GLDQM     67\n",
      "B004XNK7AI     65\n",
      "B005FKF1PY     63\n",
      "B00646MZHK     62\n",
      "B001PGXHX0     58\n",
      "B0002GMGYA     58\n",
      "B0018TIADQ     57\n",
      "B000978D58     57\n",
      "B001PGXKC8     55\n",
      "B0002D0CEO     55\n",
      "B000068NW5     52\n",
      "B0002IHFVM     49\n",
      "B000RNB720     47\n",
      "B0002OOMU8     46\n",
      "B0002CZW0Y     46\n",
      "B0002M6CVC     46\n",
      "B0002E2XCW     45\n",
      "B000PO30QM     44\n",
      "B0002E3CHC     44\n",
      "B005CX4GLE     42\n",
      "B0002D0E8S     41\n",
      "             ... \n",
      "B000P5RVRU      5\n",
      "B000SZVYLQ      5\n",
      "B000CBXZXG      5\n",
      "B002MWKOAA      5\n",
      "B000EPVXWU      5\n",
      "B001E43SK0      5\n",
      "B0002D01IG      5\n",
      "B004PFWYL4      5\n",
      "B000TGHVGQ      5\n",
      "B0002GWXKC      5\n",
      "B0002E3MRW      5\n",
      "B00352MHGA      5\n",
      "B009EOKTCM      5\n",
      "B000WYCS7M      5\n",
      "B0002E3A8S      5\n",
      "B003QTM9O2      5\n",
      "B000J3L02U      5\n",
      "B000EEHD4I      5\n",
      "B0002GZBO2      5\n",
      "B000L3FPUG      5\n",
      "B004PFWZHM      5\n",
      "B00B9060X6      5\n",
      "B005M0MUQK      5\n",
      "B007XH9432      5\n",
      "B002M8GBDI      5\n",
      "B005GZ86ZA      5\n",
      "B000EEJE4K      5\n",
      "B009S814U0      5\n",
      "B0098DFNY8      5\n",
      "B002M8EEW8      5\n",
      "Name: asin, Length: 900, dtype: int64\n"
     ]
    }
   ],
   "source": [
    "print(df[\"asin\"].value_counts())"
   ]
  },
  {
   "cell_type": "code",
   "execution_count": 11,
   "metadata": {},
   "outputs": [
    {
     "data": {
      "text/plain": [
       "11.401111111111112"
      ]
     },
     "execution_count": 11,
     "metadata": {},
     "output_type": "execute_result"
    }
   ],
   "source": [
    "# Durchschnittliche Anzahl Bewertungen pro Artikel\n",
    "df[\"asin\"].count()/(df[\"asin\"].value_counts().count())"
   ]
  },
  {
   "cell_type": "code",
   "execution_count": 15,
   "metadata": {},
   "outputs": [
    {
     "data": {
      "text/plain": [
       "4.488743787155248"
      ]
     },
     "execution_count": 15,
     "metadata": {},
     "output_type": "execute_result"
    }
   ],
   "source": [
    "# Durchschnittliche Bewertung | Median der Sterne\n",
    "df[\"overall\"].sum()/df.shape[0]"
   ]
  },
  {
   "cell_type": "code",
   "execution_count": null,
   "metadata": {},
   "outputs": [],
   "source": []
  },
  {
   "cell_type": "code",
   "execution_count": 14,
   "metadata": {},
   "outputs": [
    {
     "name": "stdout",
     "output_type": "stream",
     "text": [
      "<class 'pandas.core.frame.DataFrame'>\n",
      "Int64Index: 10261 entries, 0 to 10260\n",
      "Data columns (total 9 columns):\n",
      "reviewerID        10261 non-null object\n",
      "asin              10261 non-null object\n",
      "reviewerName      10234 non-null object\n",
      "helpful           10261 non-null object\n",
      "reviewText        10261 non-null object\n",
      "overall           10261 non-null float64\n",
      "summary           10261 non-null object\n",
      "unixReviewTime    10261 non-null int64\n",
      "reviewTime        10261 non-null object\n",
      "dtypes: float64(1), int64(1), object(7)\n",
      "memory usage: 801.6+ KB\n"
     ]
    },
    {
     "data": {
      "text/plain": [
       "4.488743787155248"
      ]
     },
     "execution_count": 14,
     "metadata": {},
     "output_type": "execute_result"
    }
   ],
   "source": [
    "import numpy as np\n",
    "import pandas as pd\n",
    "import gzip\n",
    "\n",
    "def parse(path):\n",
    "  g = gzip.open(path, 'rb')\n",
    "  for l in g:\n",
    "    yield eval(l)\n",
    "\n",
    "def getDF(path):\n",
    "  i = 0\n",
    "  df = {}\n",
    "  for d in parse(path):\n",
    "    df[i] = d\n",
    "    i += 1\n",
    "  return pd.DataFrame.from_dict(df, orient='index')\n",
    "\n",
    "path = './Rumprobieren/data/data.json.gz'\n",
    "df = getDF(path)\n",
    "\n",
    "df.shape\n",
    "\n",
    "df.info()\n",
    "\n",
    "df.describe()\n",
    "\n",
    "df.head()\n",
    "\n",
    "# Sterneverteilung\n",
    "df[\"overall\"].value_counts()\n",
    "\n",
    "# Durchschnittliche Anzahl Bewertungen pro Artikel\n",
    "df[\"asin\"].count()/(df[\"asin\"].value_counts().count())\n",
    "\n",
    "# Durchschnittliche Bewertung\n",
    "df[\"overall\"].sum()/df.shape[0]"
   ]
  },
  {
   "cell_type": "code",
   "execution_count": null,
   "metadata": {},
   "outputs": [],
   "source": []
  },
  {
   "cell_type": "code",
   "execution_count": 16,
   "metadata": {},
   "outputs": [
    {
     "data": {
      "text/plain": [
       "5.0    6938\n",
       "4.0    2084\n",
       "3.0     772\n",
       "2.0     250\n",
       "1.0     217\n",
       "Name: overall, dtype: int64"
      ]
     },
     "execution_count": 16,
     "metadata": {},
     "output_type": "execute_result"
    }
   ],
   "source": []
  },
  {
   "cell_type": "code",
   "execution_count": null,
   "metadata": {},
   "outputs": [],
   "source": []
  },
  {
   "cell_type": "code",
   "execution_count": null,
   "metadata": {},
   "outputs": [],
   "source": []
  }
 ],
 "metadata": {
  "kernelspec": {
   "display_name": "Python 3",
   "language": "python",
   "name": "python3"
  },
  "language_info": {
   "codemirror_mode": {
    "name": "ipython",
    "version": 3
   },
   "file_extension": ".py",
   "mimetype": "text/x-python",
   "name": "python",
   "nbconvert_exporter": "python",
   "pygments_lexer": "ipython3",
   "version": "3.7.0"
  }
 },
 "nbformat": 4,
 "nbformat_minor": 2
}
