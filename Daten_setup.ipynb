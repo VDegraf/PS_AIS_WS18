{
 "cells": [
  {
   "cell_type": "markdown",
   "metadata": {},
   "source": [
    "Für die Datanalyse müssen zuerst die Rohdaten beschafft werden. In diesem Notebook wird dies kurz erläut und automatisiert runtergeladen und richtig abgelegt.\n",
    "Die Review Daten sind veröffentlicht unter folgender Adresse: http://jmcauley.ucsd.edu/data/amazon/links.html"
   ]
  },
  {
   "cell_type": "markdown",
   "metadata": {},
   "source": [
    "Es gibt 24 Review Kategorien (siehe Abbildung)"
   ]
  },
  {
   "cell_type": "markdown",
   "metadata": {},
   "source": [
    "<img src='./graphics/Uebersicht_Datenauswahl.png' width=\"700\" align=\"left\" />"
   ]
  },
  {
   "cell_type": "code",
   "execution_count": 1,
   "metadata": {},
   "outputs": [],
   "source": [
    "#Basis Download URL für 5-core Reviews\n",
    "first_part_url = \"http://snap.stanford.edu/data/amazon/productGraph/categoryFiles/\"\n",
    "\n",
    "#Spezifische URL-Endung, gleichzietig auch der Name der Datei\n",
    "category = {\n",
    "\"books\" : \"reviews_Books_5.json.gz\",\n",
    "\"electronics\" : \"reviews_Electronics_5.json.gz\",\n",
    "\"movies_and_tv\" : \"reviews_Movies_and_TV_5.json.gz\",\n",
    "\"cd_and_vinyl\" : \"reviews_CDs_and_Vinyl_5.json.gz\",\n",
    "\"clothing_shoes_jewelry\" : \"reviews_Clothing_Shoes_and_Jewelry_5.json.gz\",\n",
    "\"home_and_kitchen\" : \"reviews_Home_and_Kitchen_5.json.gz\",\n",
    "\"kindle_store\" : \"reviews_Kindle_Store_5.json.gz\",\n",
    "\"sports_and_outdoors\" : \"reviews_Sports_and_Outdoors_5.json.gz\",\n",
    "\"cell_phones_and_accessories\" : \"reviews_Cell_Phones_and_Accessories_5.json.gz\",\n",
    "\"health_and_personal_care\" : \"reviews_Health_and_Personal_Care_5.json.gz\",\n",
    "\"toys_and_games\" : \"reviews_Toys_and_Games_5.json.gz\",\n",
    "\"video_games\" : \"reviews_Video_Games_5.json.gz\",\n",
    "\"tools_and_home_improvement\" : \"reviews_Tools_and_Home_Improvement_5.json.gz\",\n",
    "\"beauty\" : \"reviews_Beauty_5.json.gz\",\n",
    "\"apps_for_android\" : \"reviews_Apps_for_Android_5.json.gz\",\n",
    "\"office_products\" : \"reviews_Office_Products_5.json.gz\",\n",
    "\"pet_supplies\" : \"reviews_Pet_Supplies_5.json.gz\",\n",
    "\"automotive\" : \"reviews_Automotive_5.json.gz\",\n",
    "\"grocery_and_gourmet_food\" : \"reviews_Grocery_and_Gourmet_Food_5.json.gz\",\n",
    "\"patio_lawn_and_garden\" : \"reviews_Patio_Lawn_and_Garden_5.json.gz\",\n",
    "\"baby\" : \"reviews_Baby_5.json.gz\",\n",
    "\"digital_music\" : \"reviews_Digital_Music_5.json.gz\",\n",
    "\"musical_instruments\" : \"reviews_Musical_Instruments_5.json.gz\",\n",
    "\"amazon_instant_video\" : \"reviews_Amazon_Instant_Video_5.json.gz\" }"
   ]
  },
  {
   "cell_type": "code",
   "execution_count": 2,
   "metadata": {},
   "outputs": [],
   "source": [
    "#Ordner für RAW-Daten anlegen\n",
    "import os\n",
    "if not os.path.exists(\"./Data_raw\"):\n",
    "    os.makedirs(\"./Data_raw\")"
   ]
  },
  {
   "cell_type": "code",
   "execution_count": 3,
   "metadata": {},
   "outputs": [],
   "source": [
    "#Definition Funktion zum Downloaden\n",
    "import requests\n",
    "def download_category(path, data_name):\n",
    "    with open(path, 'wb') as f:  \n",
    "       f.write(requests.get(first_part_url + data_name).content)\n",
    "    return print(\"Der Datensatz wurde erfolgreich heruntergeladen\")"
   ]
  },
  {
   "cell_type": "code",
   "execution_count": 4,
   "metadata": {},
   "outputs": [
    {
     "name": "stdout",
     "output_type": "stream",
     "text": [
      "Der Datensatz \"reviews_Musical_Instruments_5.json.gz\" exitiert bereits\n"
     ]
    }
   ],
   "source": [
    "#Spezifischer Datensatz nach Kategorie herunterladen\n",
    "\n",
    "#Kategorie zum Downloaden auswählen (Key des Dictionaries ändern)\n",
    "data_name = category[\"musical_instruments\"]\n",
    "\n",
    "#Downloadpfad wird definiert und Dateiname ausgewählt\n",
    "path = './Data_raw/' + data_name\n",
    "\n",
    "#Abfrage ob Datensatz bereits vorhanden. Falls nicht startet der Download\n",
    "if os.path.exists(path):\n",
    "    print(\"Der Datensatz \\\"\" + data_name + \"\\\" exitiert bereits\")\n",
    "else:\n",
    "    print(\"Der Datensatz \\\"\" + data_name + \"\\\" wird heruntergeladen.\\n Dies kann ein paar Minuten dauern. \\n Sobald der Datensatz heruntergealden ist, wird eine Meldung ausgegeben\")\n",
    "    download_category(path, data_name)\n",
    "    "
   ]
  },
  {
   "cell_type": "code",
   "execution_count": 17,
   "metadata": {},
   "outputs": [
    {
     "name": "stdout",
     "output_type": "stream",
     "text": [
      "Der Datensatz \"reviews_Books_5.json.gz\" exitiert bereits\n",
      "Der Datensatz \"reviews_Electronics_5.json.gz\" exitiert bereits\n",
      "Der Datensatz \"reviews_Movies_and_TV_5.json.gz\" exitiert bereits\n",
      "Der Datensatz \"reviews_CDs_and_Vinyl_5.json.gz\" exitiert bereits\n",
      "Der Datensatz \"reviews_Clothing_Shoes_and_Jewelry_5.json.gz\" exitiert bereits\n",
      "Der Datensatz \"reviews_Home_and_Kitchen_5.json.gz\" exitiert bereits\n",
      "Der Datensatz \"reviews_Kindle_Store_5.json.gz\" exitiert bereits\n",
      "Der Datensatz \"reviews_Sports_and_Outdoors_5.json.gz\" exitiert bereits\n",
      "Der Datensatz \"reviews_Cell_Phones_and_Accessories_5.json.gz\" exitiert bereits\n",
      "Der Datensatz \"reviews_Health_and_Personal_Care_5.json.gz\" exitiert bereits\n",
      "Der Datensatz \"reviews_Toys_and_Games_5.json.gz\" exitiert bereits\n",
      "Der Datensatz \"reviews_Video_Games_5.json.gz\" exitiert bereits\n",
      "Der Datensatz \"reviews_Tools_and_Home_Improvement_5.json.gz\" exitiert bereits\n",
      "Der Datensatz \"reviews_Beauty_5.json.gz\" exitiert bereits\n",
      "Der Datensatz \"reviews_Apps_for_Android_5.json.gz\" exitiert bereits\n",
      "Der Datensatz \"reviews_Office_Products_5.json.gz\" exitiert bereits\n",
      "Der Datensatz \"reviews_Pet_Supplies_5.json.gz\" exitiert bereits\n",
      "Der Datensatz \"reviews_Automotive_5.json.gz\" exitiert bereits\n",
      "Der Datensatz \"reviews_Grocery_and_Gourmet_Food_5.json.gz\" exitiert bereits\n",
      "Der Datensatz \"reviews_Patio_Lawn_and_Garden_5.json.gz\" exitiert bereits\n",
      "Der Datensatz \"reviews_Baby_5.json.gz\" exitiert bereits\n",
      "Der Datensatz \"reviews_Digital_Music_5.json.gz\" exitiert bereits\n",
      "Der Datensatz \"reviews_Musical_Instruments_5.json.gz\" exitiert bereits\n",
      "Der Datensatz \"reviews_Amazon_Instant_Video_5.json.gz\" exitiert bereits\n"
     ]
    }
   ],
   "source": [
    "import time\n",
    "#Download aller Datensätze auf einmal\n",
    "for key in category:\n",
    "    start_time = time.time()\n",
    "    path = './Data_raw/' + category[key]\n",
    "    if os.path.exists(path):\n",
    "        print(\"Der Datensatz \\\"\" + category[key] + \"\\\" exitiert bereits\")\n",
    "    else:\n",
    "        print(\"Der Datensatz \\\"\" + category[key] + \"\\\" wird heruntergeladen.\\nDies kann einige Minuten dauern.\\nSobald der Datensatz heruntergeladen ist, wird eine Meldung ausgegeben\")\n",
    "        download_category(path, category[key])\n",
    "        #Bestimmung der Downloaddauer\n",
    "        end_time = time.time()\n",
    "        print('{:5.3f}s'.format(end_time-start_time))"
   ]
  }
 ],
 "metadata": {
  "kernelspec": {
   "display_name": "Python 3",
   "language": "python",
   "name": "python3"
  },
  "language_info": {
   "codemirror_mode": {
    "name": "ipython",
    "version": 3
   },
   "file_extension": ".py",
   "mimetype": "text/x-python",
   "name": "python",
   "nbconvert_exporter": "python",
   "pygments_lexer": "ipython3",
   "version": "3.7.0"
  }
 },
 "nbformat": 4,
 "nbformat_minor": 2
}
