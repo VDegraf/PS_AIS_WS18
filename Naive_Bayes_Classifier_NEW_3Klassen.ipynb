{
 "cells": [
  {
   "cell_type": "markdown",
   "metadata": {},
   "source": [
    "## Einsatz des Naive Bayes Classifier zur Extraktion der Top 10 Keywords pro Sterne-Klasse"
   ]
  },
  {
   "cell_type": "markdown",
   "metadata": {},
   "source": [
    "Also Basis des Notebooks wurde folgendes Videotutorial genommen: https://www.youtube.com/watch?v=5xDE06RRMFk"
   ]
  },
  {
   "cell_type": "code",
   "execution_count": 377,
   "metadata": {},
   "outputs": [],
   "source": [
    "import json\n",
    "import pandas as pd\n",
    "import re\n",
    "import numpy as np\n",
    "from nltk.corpus import stopwords\n",
    "from nltk.stem import SnowballStemmer\n",
    "from sklearn.feature_extraction.text import TfidfVectorizer\n",
    "from sklearn.svm import LinearSVC\n",
    "from sklearn.pipeline import Pipeline\n",
    "from sklearn.model_selection import train_test_split\n",
    "from sklearn.feature_selection import SelectKBest, chi2, SelectPercentile, f_classif\n",
    "from sklearn.naive_bayes import MultinomialNB\n",
    "from sklearn.naive_bayes import GaussianNB"
   ]
  },
  {
   "cell_type": "code",
   "execution_count": 378,
   "metadata": {},
   "outputs": [],
   "source": [
    "with open('config.json') as json_data_file:\n",
    "    config = json.load(json_data_file)"
   ]
  },
  {
   "cell_type": "code",
   "execution_count": 379,
   "metadata": {},
   "outputs": [
    {
     "data": {
      "text/html": [
       "<div>\n",
       "<style scoped>\n",
       "    .dataframe tbody tr th:only-of-type {\n",
       "        vertical-align: middle;\n",
       "    }\n",
       "\n",
       "    .dataframe tbody tr th {\n",
       "        vertical-align: top;\n",
       "    }\n",
       "\n",
       "    .dataframe thead th {\n",
       "        text-align: right;\n",
       "    }\n",
       "</style>\n",
       "<table border=\"1\" class=\"dataframe\">\n",
       "  <thead>\n",
       "    <tr style=\"text-align: right;\">\n",
       "      <th></th>\n",
       "      <th>review</th>\n",
       "      <th>rating</th>\n",
       "      <th>products</th>\n",
       "    </tr>\n",
       "  </thead>\n",
       "  <tbody>\n",
       "    <tr>\n",
       "      <th>0</th>\n",
       "      <td>['good', 'usa', 'company', 'stands', 'behind',...</td>\n",
       "      <td>4.0</td>\n",
       "      <td>B00KS0F4FI</td>\n",
       "    </tr>\n",
       "    <tr>\n",
       "      <th>1</th>\n",
       "      <td>['high', 'quality', 'eight', 'ply', 'hose', 'g...</td>\n",
       "      <td>5.0</td>\n",
       "      <td>B00KS0F4FI</td>\n",
       "    </tr>\n",
       "    <tr>\n",
       "      <th>2</th>\n",
       "      <td>['probably', 'one', 'best', 'hoses', 'ever', '...</td>\n",
       "      <td>4.0</td>\n",
       "      <td>B00KS0F4FI</td>\n",
       "    </tr>\n",
       "    <tr>\n",
       "      <th>3</th>\n",
       "      <td>['probably', 'bought', 'something', 'bit', 'fl...</td>\n",
       "      <td>5.0</td>\n",
       "      <td>B00KS0F4FI</td>\n",
       "    </tr>\n",
       "    <tr>\n",
       "      <th>4</th>\n",
       "      <td>['bought', 'three', '58inch', 'flexogen', 'hos...</td>\n",
       "      <td>5.0</td>\n",
       "      <td>B00KS0F4FI</td>\n",
       "    </tr>\n",
       "    <tr>\n",
       "      <th>5</th>\n",
       "      <td>['aqm', 'impressed', 'cost', 'quality', 'produ...</td>\n",
       "      <td>5.0</td>\n",
       "      <td>B00KS0F4FI</td>\n",
       "    </tr>\n",
       "    <tr>\n",
       "      <th>6</th>\n",
       "      <td>['using', 'hose', 'never', 'go', 'back', 'smal...</td>\n",
       "      <td>5.0</td>\n",
       "      <td>B00KS0F4FI</td>\n",
       "    </tr>\n",
       "    <tr>\n",
       "      <th>7</th>\n",
       "      <td>['one', 'tough', 'hose', 'thick', 'stiffthe', ...</td>\n",
       "      <td>5.0</td>\n",
       "      <td>B00KS0F4FI</td>\n",
       "    </tr>\n",
       "    <tr>\n",
       "      <th>8</th>\n",
       "      <td>['buy', 'come', 'spring', 'holding', 'well', '...</td>\n",
       "      <td>5.0</td>\n",
       "      <td>B00KS0F4FI</td>\n",
       "    </tr>\n",
       "    <tr>\n",
       "      <th>9</th>\n",
       "      <td>['far', 'good', 'really', 'time', 'test', 'hos...</td>\n",
       "      <td>4.0</td>\n",
       "      <td>B00KS0F4FI</td>\n",
       "    </tr>\n",
       "  </tbody>\n",
       "</table>\n",
       "</div>"
      ],
      "text/plain": [
       "                                              review  rating    products\n",
       "0  ['good', 'usa', 'company', 'stands', 'behind',...     4.0  B00KS0F4FI\n",
       "1  ['high', 'quality', 'eight', 'ply', 'hose', 'g...     5.0  B00KS0F4FI\n",
       "2  ['probably', 'one', 'best', 'hoses', 'ever', '...     4.0  B00KS0F4FI\n",
       "3  ['probably', 'bought', 'something', 'bit', 'fl...     5.0  B00KS0F4FI\n",
       "4  ['bought', 'three', '58inch', 'flexogen', 'hos...     5.0  B00KS0F4FI\n",
       "5  ['aqm', 'impressed', 'cost', 'quality', 'produ...     5.0  B00KS0F4FI\n",
       "6  ['using', 'hose', 'never', 'go', 'back', 'smal...     5.0  B00KS0F4FI\n",
       "7  ['one', 'tough', 'hose', 'thick', 'stiffthe', ...     5.0  B00KS0F4FI\n",
       "8  ['buy', 'come', 'spring', 'holding', 'well', '...     5.0  B00KS0F4FI\n",
       "9  ['far', 'good', 'really', 'time', 'test', 'hos...     4.0  B00KS0F4FI"
      ]
     },
     "execution_count": 379,
     "metadata": {},
     "output_type": "execute_result"
    }
   ],
   "source": [
    "data = pd.read_csv(\"./Data_filtered/reviews_Patio_Lawn_and_Garden.csv\", sep=\";\")\n",
    "data.head(10)"
   ]
  },
  {
   "cell_type": "code",
   "execution_count": 380,
   "metadata": {},
   "outputs": [
    {
     "data": {
      "text/html": [
       "<div>\n",
       "<style scoped>\n",
       "    .dataframe tbody tr th:only-of-type {\n",
       "        vertical-align: middle;\n",
       "    }\n",
       "\n",
       "    .dataframe tbody tr th {\n",
       "        vertical-align: top;\n",
       "    }\n",
       "\n",
       "    .dataframe thead th {\n",
       "        text-align: right;\n",
       "    }\n",
       "</style>\n",
       "<table border=\"1\" class=\"dataframe\">\n",
       "  <thead>\n",
       "    <tr style=\"text-align: right;\">\n",
       "      <th></th>\n",
       "      <th>review</th>\n",
       "      <th>rating</th>\n",
       "      <th>products</th>\n",
       "    </tr>\n",
       "  </thead>\n",
       "  <tbody>\n",
       "    <tr>\n",
       "      <th>0</th>\n",
       "      <td>['good', 'usa', 'company', 'stands', 'behind',...</td>\n",
       "      <td>1.0</td>\n",
       "      <td>B00KS0F4FI</td>\n",
       "    </tr>\n",
       "    <tr>\n",
       "      <th>1</th>\n",
       "      <td>['high', 'quality', 'eight', 'ply', 'hose', 'g...</td>\n",
       "      <td>2.0</td>\n",
       "      <td>B00KS0F4FI</td>\n",
       "    </tr>\n",
       "    <tr>\n",
       "      <th>2</th>\n",
       "      <td>['probably', 'one', 'best', 'hoses', 'ever', '...</td>\n",
       "      <td>1.0</td>\n",
       "      <td>B00KS0F4FI</td>\n",
       "    </tr>\n",
       "    <tr>\n",
       "      <th>3</th>\n",
       "      <td>['probably', 'bought', 'something', 'bit', 'fl...</td>\n",
       "      <td>2.0</td>\n",
       "      <td>B00KS0F4FI</td>\n",
       "    </tr>\n",
       "    <tr>\n",
       "      <th>4</th>\n",
       "      <td>['bought', 'three', '58inch', 'flexogen', 'hos...</td>\n",
       "      <td>2.0</td>\n",
       "      <td>B00KS0F4FI</td>\n",
       "    </tr>\n",
       "    <tr>\n",
       "      <th>5</th>\n",
       "      <td>['aqm', 'impressed', 'cost', 'quality', 'produ...</td>\n",
       "      <td>2.0</td>\n",
       "      <td>B00KS0F4FI</td>\n",
       "    </tr>\n",
       "    <tr>\n",
       "      <th>6</th>\n",
       "      <td>['using', 'hose', 'never', 'go', 'back', 'smal...</td>\n",
       "      <td>2.0</td>\n",
       "      <td>B00KS0F4FI</td>\n",
       "    </tr>\n",
       "    <tr>\n",
       "      <th>7</th>\n",
       "      <td>['one', 'tough', 'hose', 'thick', 'stiffthe', ...</td>\n",
       "      <td>2.0</td>\n",
       "      <td>B00KS0F4FI</td>\n",
       "    </tr>\n",
       "    <tr>\n",
       "      <th>8</th>\n",
       "      <td>['buy', 'come', 'spring', 'holding', 'well', '...</td>\n",
       "      <td>2.0</td>\n",
       "      <td>B00KS0F4FI</td>\n",
       "    </tr>\n",
       "    <tr>\n",
       "      <th>9</th>\n",
       "      <td>['far', 'good', 'really', 'time', 'test', 'hos...</td>\n",
       "      <td>1.0</td>\n",
       "      <td>B00KS0F4FI</td>\n",
       "    </tr>\n",
       "  </tbody>\n",
       "</table>\n",
       "</div>"
      ],
      "text/plain": [
       "                                              review  rating    products\n",
       "0  ['good', 'usa', 'company', 'stands', 'behind',...     1.0  B00KS0F4FI\n",
       "1  ['high', 'quality', 'eight', 'ply', 'hose', 'g...     2.0  B00KS0F4FI\n",
       "2  ['probably', 'one', 'best', 'hoses', 'ever', '...     1.0  B00KS0F4FI\n",
       "3  ['probably', 'bought', 'something', 'bit', 'fl...     2.0  B00KS0F4FI\n",
       "4  ['bought', 'three', '58inch', 'flexogen', 'hos...     2.0  B00KS0F4FI\n",
       "5  ['aqm', 'impressed', 'cost', 'quality', 'produ...     2.0  B00KS0F4FI\n",
       "6  ['using', 'hose', 'never', 'go', 'back', 'smal...     2.0  B00KS0F4FI\n",
       "7  ['one', 'tough', 'hose', 'thick', 'stiffthe', ...     2.0  B00KS0F4FI\n",
       "8  ['buy', 'come', 'spring', 'holding', 'well', '...     2.0  B00KS0F4FI\n",
       "9  ['far', 'good', 'really', 'time', 'test', 'hos...     1.0  B00KS0F4FI"
      ]
     },
     "execution_count": 380,
     "metadata": {},
     "output_type": "execute_result"
    }
   ],
   "source": [
    "# 1, 2, 3 = 0; 4 = 1; 5 = 2 (im config.json definiert)\n",
    "data[\"rating\"] = pd.cut(data[\"rating\"], bins = config[\"label_three_num\"][\"bins\"], labels = config[\"label_three_num\"][\"labels\"])\n",
    "data['rating'] = data['rating'].astype(float)\n",
    "data.head(10)"
   ]
  },
  {
   "cell_type": "code",
   "execution_count": 381,
   "metadata": {},
   "outputs": [],
   "source": [
    "X_train, X_test, y_train, y_test = train_test_split(data['review'], data['rating'], test_size=0.2)\n",
    "\n",
    "pipeline = Pipeline([('vect', TfidfVectorizer(ngram_range=(1, 2), stop_words=\"english\", sublinear_tf=True)),\n",
    "                     ('chi', SelectKBest(f_classif, k=10000)), \n",
    "                     ('clf', MultinomialNB(alpha=1.0, class_prior=None, fit_prior=False))])\n",
    "# ('chi', SelectPercentile(percentile=10)), # wählt 10% mit dem Höchsten vorkommen\n",
    "# ('clf', LinearSVC(C=1.0, penalty= \"l1\", max_iter=3000, dual=False))]) # Linear SVM Classifier aus dem Tutorium"
   ]
  },
  {
   "cell_type": "code",
   "execution_count": 382,
   "metadata": {},
   "outputs": [
    {
     "name": "stdout",
     "output_type": "stream",
     "text": [
      "top 10 keywords per class:\n",
      "0: traps mice water mouse feeder work like use product trap\n",
      "1: great works used little feeder product easy good use like\n",
      "2: grill love product works good used like easy use great\n",
      "accuracy score: 0.5532956685499059\n",
      "[2.]\n"
     ]
    }
   ],
   "source": [
    "model = pipeline.fit(X_train, y_train)\n",
    "\n",
    "vectorizer = model.named_steps['vect']\n",
    "chi = model.named_steps['chi']\n",
    "clf = model.named_steps['clf']\n",
    "\n",
    "feature_names = vectorizer.get_feature_names()\n",
    "feature_names = [feature_names[i] for i in chi.get_support(indices=True)]\n",
    "feature_names = np.asarray(feature_names)\n",
    "\n",
    "target_names = ['0', '1', '2']\n",
    "print(\"top 10 keywords per class:\")\n",
    "for i, label in enumerate(target_names):\n",
    "    top10 = np.argsort(clf.coef_[i])[-10:]\n",
    "    print(\"%s: %s\" % (label, \" \".join(feature_names[top10])))\n",
    "\n",
    "print(\"accuracy score: \" + str(model.score(X_test, y_test)))\n",
    "\n",
    "print(model.predict(['that was an awesome place. Great food!']))"
   ]
  },
  {
   "cell_type": "code",
   "execution_count": 383,
   "metadata": {},
   "outputs": [
    {
     "data": {
      "image/png": "[encoded data removed]",
      "text/plain": [
       "<Figure size 432x288 with 1 Axes>"
      ]
     },
     "metadata": {
      "needs_background": "light"
     },
     "output_type": "display_data"
    }
   ],
   "source": [
    "from sklearn.metrics import confusion_matrix\n",
    "import seaborn as sns\n",
    "import matplotlib.pyplot as plt\n",
    "\n",
    "labels = model.predict(X_test)\n",
    "target_names = ['0', '1', '2']\n",
    "mat = confusion_matrix(y_test, labels)\n",
    "sns.heatmap(mat.T, square=True, annot=True, fmt='d', cbar=False,\n",
    "            xticklabels=target_names, yticklabels=target_names)\n",
    "plt.xlabel('true label')\n",
    "plt.ylabel('predicted label');"
   ]
  },
  {
   "cell_type": "code",
   "execution_count": 384,
   "metadata": {},
   "outputs": [
    {
     "name": "stdout",
     "output_type": "stream",
     "text": [
      "[2.]\n"
     ]
    }
   ],
   "source": [
    "print(model.predict(['great']))"
   ]
  },
  {
   "cell_type": "code",
   "execution_count": 385,
   "metadata": {},
   "outputs": [
    {
     "name": "stdout",
     "output_type": "stream",
     "text": [
      "[2.]\n"
     ]
    }
   ],
   "source": [
    "print(model.predict(['bad']))"
   ]
  },
  {
   "cell_type": "code",
   "execution_count": null,
   "metadata": {},
   "outputs": [],
   "source": []
  }
 ],
 "metadata": {
  "kernelspec": {
   "display_name": "Python 3",
   "language": "python",
   "name": "python3"
  },
  "language_info": {
   "codemirror_mode": {
    "name": "ipython",
    "version": 3
   },
   "file_extension": ".py",
   "mimetype": "text/x-python",
   "name": "python",
   "nbconvert_exporter": "python",
   "pygments_lexer": "ipython3",
   "version": "3.7.0"
  }
 },
 "nbformat": 4,
 "nbformat_minor": 2
}
