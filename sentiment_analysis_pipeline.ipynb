{
 "cells": [
  {
   "cell_type": "markdown",
   "metadata": {},
   "source": [
    "## Sentiment Analysis of Amazon Review Data"
   ]
  },
  {
   "cell_type": "markdown",
   "metadata": {},
   "source": [
    "Dieses Notebook beinhaltet die komplette Sentiment Analyse auf Basis der bereinigeten Amazon Review Daten"
   ]
  },
  {
   "cell_type": "code",
   "execution_count": 1,
   "metadata": {},
   "outputs": [
    {
     "name": "stderr",
     "output_type": "stream",
     "text": [
      "C:\\Users\\Alex\\Anaconda3\\lib\\site-packages\\sklearn\\ensemble\\weight_boosting.py:29: DeprecationWarning: numpy.core.umath_tests is an internal NumPy module and should not be imported. It will be removed in a future NumPy release.\n",
      "  from numpy.core.umath_tests import inner1d\n"
     ]
    }
   ],
   "source": [
    "#Import aller benötigten Module\n",
    "import json\n",
    "import pandas as pd\n",
    "import re\n",
    "import numpy as np\n",
    "import seaborn as sns\n",
    "import matplotlib.pyplot as plt\n",
    "from sklearn.feature_extraction.text import TfidfVectorizer, CountVectorizer, TfidfTransformer\n",
    "from sklearn.svm import LinearSVC\n",
    "from sklearn.pipeline import Pipeline\n",
    "from sklearn.model_selection import train_test_split\n",
    "from sklearn.feature_selection import SelectKBest, chi2, SelectPercentile, f_classif\n",
    "from sklearn.naive_bayes import MultinomialNB\n",
    "from sklearn.ensemble import RandomForestClassifier\n",
    "from sklearn.linear_model import LogisticRegression\n",
    "from sklearn import metrics\n",
    "from sklearn.metrics import accuracy_score, confusion_matrix\n",
    "\n",
    "\n",
    "#Unterdrückung von Update Hinweisen\n",
    "import warnings\n",
    "warnings.filterwarnings('ignore')"
   ]
  },
  {
   "cell_type": "markdown",
   "metadata": {},
   "source": [
    "### Einlesen der Reviewdaten und Hinzufügen eines Labels"
   ]
  },
  {
   "cell_type": "code",
   "execution_count": 2,
   "metadata": {},
   "outputs": [],
   "source": [
    "#Import der Config Datei - genutzt um das Sentiment auf die Sternebewertung zu übertragen\n",
    "with open('config.json') as json_data_file:\n",
    "    config = json.load(json_data_file)"
   ]
  },
  {
   "cell_type": "code",
   "execution_count": 3,
   "metadata": {},
   "outputs": [
    {
     "data": {
      "text/html": [
       "<div>\n",
       "<style scoped>\n",
       "    .dataframe tbody tr th:only-of-type {\n",
       "        vertical-align: middle;\n",
       "    }\n",
       "\n",
       "    .dataframe tbody tr th {\n",
       "        vertical-align: top;\n",
       "    }\n",
       "\n",
       "    .dataframe thead th {\n",
       "        text-align: right;\n",
       "    }\n",
       "</style>\n",
       "<table border=\"1\" class=\"dataframe\">\n",
       "  <thead>\n",
       "    <tr style=\"text-align: right;\">\n",
       "      <th></th>\n",
       "      <th>review</th>\n",
       "      <th>rating</th>\n",
       "      <th>product</th>\n",
       "    </tr>\n",
       "  </thead>\n",
       "  <tbody>\n",
       "    <tr>\n",
       "      <th>0</th>\n",
       "      <td>['oily', 'creamy', 'expected', 'ordered', 'try...</td>\n",
       "      <td>1.0</td>\n",
       "      <td>7806397051</td>\n",
       "    </tr>\n",
       "    <tr>\n",
       "      <th>1</th>\n",
       "      <td>['palette', 'decent', 'price', 'looking', 'dif...</td>\n",
       "      <td>3.0</td>\n",
       "      <td>7806397051</td>\n",
       "    </tr>\n",
       "    <tr>\n",
       "      <th>2</th>\n",
       "      <td>['texture', 'concealer', 'pallet', 'fantastic'...</td>\n",
       "      <td>4.0</td>\n",
       "      <td>7806397051</td>\n",
       "    </tr>\n",
       "    <tr>\n",
       "      <th>3</th>\n",
       "      <td>['really', 'tell', 'exactly', 'thing', 'powder...</td>\n",
       "      <td>2.0</td>\n",
       "      <td>7806397051</td>\n",
       "    </tr>\n",
       "    <tr>\n",
       "      <th>4</th>\n",
       "      <td>['little', 'smaller', 'expected', 'okay', 'las...</td>\n",
       "      <td>3.0</td>\n",
       "      <td>7806397051</td>\n",
       "    </tr>\n",
       "  </tbody>\n",
       "</table>\n",
       "</div>"
      ],
      "text/plain": [
       "                                              review  rating     product\n",
       "0  ['oily', 'creamy', 'expected', 'ordered', 'try...     1.0  7806397051\n",
       "1  ['palette', 'decent', 'price', 'looking', 'dif...     3.0  7806397051\n",
       "2  ['texture', 'concealer', 'pallet', 'fantastic'...     4.0  7806397051\n",
       "3  ['really', 'tell', 'exactly', 'thing', 'powder...     2.0  7806397051\n",
       "4  ['little', 'smaller', 'expected', 'okay', 'las...     3.0  7806397051"
      ]
     },
     "execution_count": 3,
     "metadata": {},
     "output_type": "execute_result"
    }
   ],
   "source": [
    "#Einlesen der Datensätze, die die Preprocessing Schritte durchlaufen sind\n",
    "data = pd.read_csv(\"./Data_filtered/reviews_Beauty.csv\", sep=\";\")\n",
    "data.head(5)"
   ]
  },
  {
   "cell_type": "code",
   "execution_count": 4,
   "metadata": {},
   "outputs": [
    {
     "data": {
      "text/html": [
       "<div>\n",
       "<style scoped>\n",
       "    .dataframe tbody tr th:only-of-type {\n",
       "        vertical-align: middle;\n",
       "    }\n",
       "\n",
       "    .dataframe tbody tr th {\n",
       "        vertical-align: top;\n",
       "    }\n",
       "\n",
       "    .dataframe thead th {\n",
       "        text-align: right;\n",
       "    }\n",
       "</style>\n",
       "<table border=\"1\" class=\"dataframe\">\n",
       "  <thead>\n",
       "    <tr style=\"text-align: right;\">\n",
       "      <th></th>\n",
       "      <th>review</th>\n",
       "      <th>rating</th>\n",
       "      <th>product</th>\n",
       "      <th>label</th>\n",
       "    </tr>\n",
       "  </thead>\n",
       "  <tbody>\n",
       "    <tr>\n",
       "      <th>0</th>\n",
       "      <td>['oily', 'creamy', 'expected', 'ordered', 'try...</td>\n",
       "      <td>1.0</td>\n",
       "      <td>7806397051</td>\n",
       "      <td>negativ</td>\n",
       "    </tr>\n",
       "    <tr>\n",
       "      <th>1</th>\n",
       "      <td>['palette', 'decent', 'price', 'looking', 'dif...</td>\n",
       "      <td>3.0</td>\n",
       "      <td>7806397051</td>\n",
       "      <td>negativ</td>\n",
       "    </tr>\n",
       "    <tr>\n",
       "      <th>2</th>\n",
       "      <td>['texture', 'concealer', 'pallet', 'fantastic'...</td>\n",
       "      <td>4.0</td>\n",
       "      <td>7806397051</td>\n",
       "      <td>positiv</td>\n",
       "    </tr>\n",
       "    <tr>\n",
       "      <th>3</th>\n",
       "      <td>['really', 'tell', 'exactly', 'thing', 'powder...</td>\n",
       "      <td>2.0</td>\n",
       "      <td>7806397051</td>\n",
       "      <td>negativ</td>\n",
       "    </tr>\n",
       "    <tr>\n",
       "      <th>4</th>\n",
       "      <td>['little', 'smaller', 'expected', 'okay', 'las...</td>\n",
       "      <td>3.0</td>\n",
       "      <td>7806397051</td>\n",
       "      <td>negativ</td>\n",
       "    </tr>\n",
       "  </tbody>\n",
       "</table>\n",
       "</div>"
      ],
      "text/plain": [
       "                                              review  rating     product  \\\n",
       "0  ['oily', 'creamy', 'expected', 'ordered', 'try...     1.0  7806397051   \n",
       "1  ['palette', 'decent', 'price', 'looking', 'dif...     3.0  7806397051   \n",
       "2  ['texture', 'concealer', 'pallet', 'fantastic'...     4.0  7806397051   \n",
       "3  ['really', 'tell', 'exactly', 'thing', 'powder...     2.0  7806397051   \n",
       "4  ['little', 'smaller', 'expected', 'okay', 'las...     3.0  7806397051   \n",
       "\n",
       "     label  \n",
       "0  negativ  \n",
       "1  negativ  \n",
       "2  positiv  \n",
       "3  negativ  \n",
       "4  negativ  "
      ]
     },
     "execution_count": 4,
     "metadata": {},
     "output_type": "execute_result"
    }
   ],
   "source": [
    "#Hinzufügen eines Sentiment labels, auf Basis der Config Datei\n",
    "#Aktuell 1, 2, 3 = negativ 4, 5 = positiv\n",
    "data[\"label\"] = pd.cut(data[\"rating\"], bins = config[\"label_two\"][\"bins\"], labels = config[\"label_two\"][\"labels\"])\n",
    "data[\"label\"] = data[\"label\"].astype(str)\n",
    "data.head(5)"
   ]
  },
  {
   "cell_type": "markdown",
   "metadata": {},
   "source": [
    "### Möglichkeit den Datensatz gleichverteilt aufzubauen "
   ]
  },
  {
   "cell_type": "code",
   "execution_count": 5,
   "metadata": {},
   "outputs": [
    {
     "data": {
      "text/plain": [
       "88460"
      ]
     },
     "execution_count": 5,
     "metadata": {},
     "output_type": "execute_result"
    }
   ],
   "source": [
    "#Build an evenly distributed dataframe\n",
    "positiv = data[data['label'] =='positiv']\n",
    "negativ = data[data['label'] =='negativ']\n",
    "\n",
    "positiv_sample = positiv.sample(n=negativ.label.count(), replace=False, random_state=42)\n",
    "\n",
    "#Merge postiv und negativ dataframe\n",
    "balanced_dataset = pd.concat([negativ, positiv_sample])\n",
    "#Anzahl an Reviews im gleichverteilten Datensatz\n",
    "balanced_dataset.label.count()"
   ]
  },
  {
   "cell_type": "markdown",
   "metadata": {},
   "source": [
    "#### Splitten der gleichverteilten Daten in Test und Trainingsdaten"
   ]
  },
  {
   "cell_type": "code",
   "execution_count": 6,
   "metadata": {},
   "outputs": [],
   "source": [
    "#Gleichverteilte Daten\n",
    "X_train, X_test, y_train, y_test = train_test_split(balanced_dataset['review'], balanced_dataset['label'], test_size=0.2, random_state=42, stratify=balanced_dataset['label'])"
   ]
  },
  {
   "cell_type": "markdown",
   "metadata": {},
   "source": [
    "#### Splitten der unveränderten Reviewdaten in Test und Trainingsdaten"
   ]
  },
  {
   "cell_type": "code",
   "execution_count": 7,
   "metadata": {},
   "outputs": [],
   "source": [
    "#Verteilung der Sentimente wie in den Review\n",
    "X_train, X_test, y_train, y_test = train_test_split(data['review'], data['label'], test_size=0.2, random_state=42, stratify=data['label'])"
   ]
  },
  {
   "cell_type": "markdown",
   "metadata": {},
   "source": [
    "### Definition der Vectorizer, Begrenzung der Features und Auswahl der Classifiers"
   ]
  },
  {
   "cell_type": "code",
   "execution_count": 8,
   "metadata": {},
   "outputs": [],
   "source": [
    "#Vectorizer\n",
    "vect = CountVectorizer(stop_words=\"english\")\n",
    "#vect = TfidfVectorizer()\n",
    "\n",
    "#feature selection\n",
    "#f_select = SelectKBest(f_classif, k=10000)\n",
    "f_select = SelectPercentile(f_classif, percentile=20)\n",
    "\n",
    "#Classifier\n",
    "#clf = MultinomialNB(alpha=1.0, class_prior=None, fit_prior=False)\n",
    "#clf = LinearSVC(C=1.0, penalty= \"l1\", max_iter=3000, dual=False)\n",
    "#clf = RandomForestClassifier(n_estimators=1000, max_depth=2, random_state=42)\n",
    "clf = LogisticRegression(random_state=42, class_weight=None, max_iter=3000)\n",
    "\n",
    "\n",
    "#Building the Pipeline\n",
    "pipeline = Pipeline([('vect', vect),\n",
    "                     ('f_select', f_select), \n",
    "                     ('clf', clf)])"
   ]
  },
  {
   "cell_type": "markdown",
   "metadata": {},
   "source": [
    "### Trainieren des Models"
   ]
  },
  {
   "cell_type": "code",
   "execution_count": 9,
   "metadata": {
    "scrolled": true
   },
   "outputs": [
    {
     "name": "stdout",
     "output_type": "stream",
     "text": [
      "accuracy score: 0.8832878886153109\n"
     ]
    }
   ],
   "source": [
    "#Trainieren des Models\n",
    "model = pipeline.fit(X_train, y_train)\n",
    "\n",
    "#Results step of Pipeline\n",
    "vectorizer = model.named_steps['vect']\n",
    "feature_selection = model.named_steps['f_select']\n",
    "classifier = model.named_steps['clf']\n",
    "\n",
    "#Accuracy score of Train Data\n",
    "print(\"accuracy score: \" + str(model.score(X_train, y_train)))"
   ]
  },
  {
   "cell_type": "markdown",
   "metadata": {},
   "source": [
    "### Testen des Models"
   ]
  },
  {
   "cell_type": "code",
   "execution_count": 10,
   "metadata": {},
   "outputs": [],
   "source": [
    "#Falls gleichverteilte Daten zum Trainieren benutzt wurden, können hier wieder die unveränderten Daten zum Testen definiert werden\n",
    "X_train, X_test, y_train, y_test = train_test_split(data['review'], data['label'], test_size=0.2, random_state=42, stratify=data['label'])"
   ]
  },
  {
   "cell_type": "code",
   "execution_count": 11,
   "metadata": {
    "scrolled": true
   },
   "outputs": [
    {
     "name": "stdout",
     "output_type": "stream",
     "text": [
      "accuracy score: 0.8543613510994685\n",
      "Classificaton Report:\n",
      "             precision    recall  f1-score   support\n",
      "\n",
      "    negativ       0.75      0.52      0.62      8846\n",
      "    positiv       0.87      0.95      0.91     30855\n",
      "\n",
      "avg / total       0.85      0.85      0.84     39701\n",
      "\n"
     ]
    }
   ],
   "source": [
    "#Accuracy Score of Model prediction \n",
    "print(\"accuracy score: \" + str(model.score(X_test, y_test)))\n",
    "\n",
    "#Report on prediction of model\n",
    "predictions = model.predict(X_test)\n",
    "print(\"Classificaton Report:\")\n",
    "print(metrics.classification_report(y_true=y_test, y_pred=predictions))"
   ]
  },
  {
   "cell_type": "code",
   "execution_count": 12,
   "metadata": {},
   "outputs": [
    {
     "data": {
      "image/png": "[encoded data removed]",
      "text/plain": [
       "<Figure size 432x288 with 1 Axes>"
      ]
     },
     "metadata": {
      "needs_background": "light"
     },
     "output_type": "display_data"
    }
   ],
   "source": [
    "#Confusion matrix of model\n",
    "labels = model.predict(X_test)\n",
    "target_names = ['Negativ', 'Positiv']\n",
    "mat = confusion_matrix(y_test, labels)\n",
    "sns.heatmap(mat.T, square=True, annot=True, fmt='d', cbar=False,\n",
    "            xticklabels=target_names, yticklabels=target_names)\n",
    "plt.xlabel('true label')\n",
    "plt.ylabel('predicted label')\n",
    "plt.show()"
   ]
  },
  {
   "cell_type": "markdown",
   "metadata": {},
   "source": [
    "### Einsatz der Kreuzvalidierung"
   ]
  },
  {
   "cell_type": "code",
   "execution_count": 13,
   "metadata": {},
   "outputs": [
    {
     "name": "stdout",
     "output_type": "stream",
     "text": [
      "Cross-validation scores: [0.85334215 0.85526274 0.85277078 0.85352645 0.85301804]\n",
      "Mean accuracy: 0.8535840328283963\n"
     ]
    }
   ],
   "source": [
    "from sklearn.model_selection import cross_val_score,  KFold\n",
    "\n",
    "#kfold\n",
    "kfold = KFold(n_splits=5)\n",
    "\n",
    "#StratifiedKFold\n",
    "#standard for cv=INT is stratified k-fold\n",
    "\n",
    "scores = cross_val_score(pipeline, X_train, y_train, cv=5)\n",
    "print(\"Cross-validation scores: {}\".format(scores))\n",
    "print(\"Mean accuracy: {}\".format(scores.mean()))"
   ]
  },
  {
   "cell_type": "code",
   "execution_count": 14,
   "metadata": {},
   "outputs": [
    {
     "data": {
      "text/html": [
       "<div>\n",
       "<style scoped>\n",
       "    .dataframe tbody tr th:only-of-type {\n",
       "        vertical-align: middle;\n",
       "    }\n",
       "\n",
       "    .dataframe tbody tr th {\n",
       "        vertical-align: top;\n",
       "    }\n",
       "\n",
       "    .dataframe thead th {\n",
       "        text-align: right;\n",
       "    }\n",
       "</style>\n",
       "<table border=\"1\" class=\"dataframe\">\n",
       "  <thead>\n",
       "    <tr style=\"text-align: right;\">\n",
       "      <th></th>\n",
       "      <th>fit_time</th>\n",
       "      <th>score_time</th>\n",
       "      <th>test_score</th>\n",
       "      <th>train_score</th>\n",
       "    </tr>\n",
       "  </thead>\n",
       "  <tbody>\n",
       "    <tr>\n",
       "      <th>0</th>\n",
       "      <td>35.855841</td>\n",
       "      <td>1.733206</td>\n",
       "      <td>0.853342</td>\n",
       "      <td>0.884430</td>\n",
       "    </tr>\n",
       "    <tr>\n",
       "      <th>1</th>\n",
       "      <td>58.155965</td>\n",
       "      <td>1.785182</td>\n",
       "      <td>0.855263</td>\n",
       "      <td>0.883911</td>\n",
       "    </tr>\n",
       "    <tr>\n",
       "      <th>2</th>\n",
       "      <td>35.080647</td>\n",
       "      <td>1.759177</td>\n",
       "      <td>0.852771</td>\n",
       "      <td>0.884108</td>\n",
       "    </tr>\n",
       "    <tr>\n",
       "      <th>3</th>\n",
       "      <td>37.218426</td>\n",
       "      <td>1.809130</td>\n",
       "      <td>0.853526</td>\n",
       "      <td>0.884738</td>\n",
       "    </tr>\n",
       "    <tr>\n",
       "      <th>4</th>\n",
       "      <td>32.996804</td>\n",
       "      <td>1.792144</td>\n",
       "      <td>0.853018</td>\n",
       "      <td>0.885479</td>\n",
       "    </tr>\n",
       "  </tbody>\n",
       "</table>\n",
       "</div>"
      ],
      "text/plain": [
       "    fit_time  score_time  test_score  train_score\n",
       "0  35.855841    1.733206    0.853342     0.884430\n",
       "1  58.155965    1.785182    0.855263     0.883911\n",
       "2  35.080647    1.759177    0.852771     0.884108\n",
       "3  37.218426    1.809130    0.853526     0.884738\n",
       "4  32.996804    1.792144    0.853018     0.885479"
      ]
     },
     "metadata": {},
     "output_type": "display_data"
    },
    {
     "name": "stdout",
     "output_type": "stream",
     "text": [
      "Mean times and scores:\n",
      " fit_time       39.861537\n",
      "score_time      1.775768\n",
      "test_score      0.853584\n",
      "train_score     0.884533\n",
      "dtype: float64\n"
     ]
    }
   ],
   "source": [
    "from sklearn.model_selection import cross_validate\n",
    "res = cross_validate(pipeline, X_train, y_train, cv=5, return_train_score=True)\n",
    "\n",
    "#make DataFrame of result for better Visualisation\n",
    "res_df = pd.DataFrame(res)\n",
    "display(res_df)\n",
    "\n",
    "#Print Mean of all Scores\n",
    "print(\"Mean times and scores:\\n\", res_df.mean())"
   ]
  },
  {
   "cell_type": "markdown",
   "metadata": {},
   "source": [
    "### Manuelles Testen mit Reviews"
   ]
  },
  {
   "cell_type": "code",
   "execution_count": 15,
   "metadata": {},
   "outputs": [
    {
     "name": "stdout",
     "output_type": "stream",
     "text": [
      "['positiv']\n",
      "['negativ']\n",
      "['positiv']\n"
     ]
    }
   ],
   "source": [
    "#Test with Manual review Text\n",
    "print(model.predict([\"The product is very bad\"]))\n",
    "print(model.predict(['My order broke and I am very disappointed']))\n",
    "print(model.predict(['My order works perfect and and I am very glad I bought it']))"
   ]
  },
  {
   "cell_type": "code",
   "execution_count": 16,
   "metadata": {},
   "outputs": [
    {
     "name": "stdout",
     "output_type": "stream",
     "text": [
      "['positiv']\n",
      "['positiv']\n",
      "['positiv']\n",
      "['positiv']\n"
     ]
    }
   ],
   "source": [
    "#Test mit LIDL Reviews\n",
    "print(model.predict(['I found it a bit too rich. But heated up with some cream it is the most amazing taste']))\n",
    "print(model.predict(['Nice, but too sweet for me. Would prefer the icing to be more bitter. It would then complement the rich cake']))\n",
    "print(model.predict(['Very rich but moreish. The chocolate is creamy but the sponge is just ideal. It crumbles where it is so fresh. I find this cake tastes best served with cream or even a good vanilla ice-cream. The cake may not seem large enough, but it is a luxury cake so you would only need a sensible sized portion to enjoy it at its best.']))\n",
    "print(model.predict([\"I haven't seen this in my shop recently.\"]))"
   ]
  },
  {
   "cell_type": "markdown",
   "metadata": {},
   "source": [
    "### Untersuchung der Predictions"
   ]
  },
  {
   "cell_type": "code",
   "execution_count": 17,
   "metadata": {},
   "outputs": [
    {
     "data": {
      "text/html": [
       "<div>\n",
       "<style scoped>\n",
       "    .dataframe tbody tr th:only-of-type {\n",
       "        vertical-align: middle;\n",
       "    }\n",
       "\n",
       "    .dataframe tbody tr th {\n",
       "        vertical-align: top;\n",
       "    }\n",
       "\n",
       "    .dataframe thead th {\n",
       "        text-align: right;\n",
       "    }\n",
       "</style>\n",
       "<table border=\"1\" class=\"dataframe\">\n",
       "  <thead>\n",
       "    <tr style=\"text-align: right;\">\n",
       "      <th></th>\n",
       "      <th>X_test</th>\n",
       "      <th>y_test</th>\n",
       "      <th>prediction</th>\n",
       "      <th>vergleich</th>\n",
       "    </tr>\n",
       "  </thead>\n",
       "  <tbody>\n",
       "    <tr>\n",
       "      <th>182751</th>\n",
       "      <td>['glides', 'smooth', 'skin', 'seems', 'bright'...</td>\n",
       "      <td>positiv</td>\n",
       "      <td>positiv</td>\n",
       "      <td>True</td>\n",
       "    </tr>\n",
       "    <tr>\n",
       "      <th>97055</th>\n",
       "      <td>['warm', 'red', 'orange', 'great', 'color', 'p...</td>\n",
       "      <td>positiv</td>\n",
       "      <td>positiv</td>\n",
       "      <td>True</td>\n",
       "    </tr>\n",
       "    <tr>\n",
       "      <th>113998</th>\n",
       "      <td>['shade', 'pretty', 'call', 'thirty-four', 'ba...</td>\n",
       "      <td>positiv</td>\n",
       "      <td>positiv</td>\n",
       "      <td>True</td>\n",
       "    </tr>\n",
       "    <tr>\n",
       "      <th>70398</th>\n",
       "      <td>['bigger', 'hair', 'always', 'little', 'fun', ...</td>\n",
       "      <td>positiv</td>\n",
       "      <td>positiv</td>\n",
       "      <td>True</td>\n",
       "    </tr>\n",
       "    <tr>\n",
       "      <th>138697</th>\n",
       "      <td>['never', 'used', 'hairspray', 'recently', 'de...</td>\n",
       "      <td>negativ</td>\n",
       "      <td>positiv</td>\n",
       "      <td>False</td>\n",
       "    </tr>\n",
       "  </tbody>\n",
       "</table>\n",
       "</div>"
      ],
      "text/plain": [
       "                                                   X_test   y_test prediction  \\\n",
       "182751  ['glides', 'smooth', 'skin', 'seems', 'bright'...  positiv    positiv   \n",
       "97055   ['warm', 'red', 'orange', 'great', 'color', 'p...  positiv    positiv   \n",
       "113998  ['shade', 'pretty', 'call', 'thirty-four', 'ba...  positiv    positiv   \n",
       "70398   ['bigger', 'hair', 'always', 'little', 'fun', ...  positiv    positiv   \n",
       "138697  ['never', 'used', 'hairspray', 'recently', 'de...  negativ    positiv   \n",
       "\n",
       "        vergleich  \n",
       "182751       True  \n",
       "97055        True  \n",
       "113998       True  \n",
       "70398        True  \n",
       "138697      False  "
      ]
     },
     "execution_count": 17,
     "metadata": {},
     "output_type": "execute_result"
    }
   ],
   "source": [
    "# Erstellung eines DataFrames mit den Spalten: X_test, y_test, prediction\n",
    "predictions = model.predict(X_test)\n",
    "df_prediction = pd.DataFrame({\n",
    "    'X_test': X_test,\n",
    "    'y_test': y_test,\n",
    "    'prediction': predictions\n",
    "})\n",
    "\n",
    "# neue Spalte, die Values von Spalten y_test und prediction vergleicht\n",
    "df_prediction['vergleich'] = df_prediction['y_test'] == df_prediction['prediction']\n",
    "\n",
    "df_prediction.head()"
   ]
  },
  {
   "cell_type": "code",
   "execution_count": 18,
   "metadata": {},
   "outputs": [
    {
     "data": {
      "text/html": [
       "<div>\n",
       "<style scoped>\n",
       "    .dataframe tbody tr th:only-of-type {\n",
       "        vertical-align: middle;\n",
       "    }\n",
       "\n",
       "    .dataframe tbody tr th {\n",
       "        vertical-align: top;\n",
       "    }\n",
       "\n",
       "    .dataframe thead th {\n",
       "        text-align: right;\n",
       "    }\n",
       "</style>\n",
       "<table border=\"1\" class=\"dataframe\">\n",
       "  <thead>\n",
       "    <tr style=\"text-align: right;\">\n",
       "      <th></th>\n",
       "      <th>X_test</th>\n",
       "      <th>y_test</th>\n",
       "      <th>prediction</th>\n",
       "      <th>vergleich</th>\n",
       "    </tr>\n",
       "  </thead>\n",
       "  <tbody>\n",
       "    <tr>\n",
       "      <th>0</th>\n",
       "      <td>['never', 'used', 'hairspray', 'recently', 'de...</td>\n",
       "      <td>negativ</td>\n",
       "      <td>positiv</td>\n",
       "      <td>False</td>\n",
       "    </tr>\n",
       "    <tr>\n",
       "      <th>1</th>\n",
       "      <td>['ordered', 'wig', 'wear', 'american', 'dream'...</td>\n",
       "      <td>negativ</td>\n",
       "      <td>positiv</td>\n",
       "      <td>False</td>\n",
       "    </tr>\n",
       "    <tr>\n",
       "      <th>2</th>\n",
       "      <td>['highlighted', 'hair', 'stylist', 'recommende...</td>\n",
       "      <td>negativ</td>\n",
       "      <td>positiv</td>\n",
       "      <td>False</td>\n",
       "    </tr>\n",
       "    <tr>\n",
       "      <th>3</th>\n",
       "      <td>['bought', 'based', 'glorious', 'reviews', 'pe...</td>\n",
       "      <td>positiv</td>\n",
       "      <td>negativ</td>\n",
       "      <td>False</td>\n",
       "    </tr>\n",
       "    <tr>\n",
       "      <th>4</th>\n",
       "      <td>['expected', 'small', 'samples', 'full', 'bott...</td>\n",
       "      <td>negativ</td>\n",
       "      <td>positiv</td>\n",
       "      <td>False</td>\n",
       "    </tr>\n",
       "  </tbody>\n",
       "</table>\n",
       "</div>"
      ],
      "text/plain": [
       "                                              X_test   y_test prediction  \\\n",
       "0  ['never', 'used', 'hairspray', 'recently', 'de...  negativ    positiv   \n",
       "1  ['ordered', 'wig', 'wear', 'american', 'dream'...  negativ    positiv   \n",
       "2  ['highlighted', 'hair', 'stylist', 'recommende...  negativ    positiv   \n",
       "3  ['bought', 'based', 'glorious', 'reviews', 'pe...  positiv    negativ   \n",
       "4  ['expected', 'small', 'samples', 'full', 'bott...  negativ    positiv   \n",
       "\n",
       "   vergleich  \n",
       "0      False  \n",
       "1      False  \n",
       "2      False  \n",
       "3      False  \n",
       "4      False  "
      ]
     },
     "execution_count": 18,
     "metadata": {},
     "output_type": "execute_result"
    }
   ],
   "source": [
    "# Speichern der Zeilen mit unterschiedlichen Werten in den Spalten \"y_test\" und \"prediction\" in einem neuen DF \n",
    "# und setzt Index zurück \n",
    "df_false_predictions = df_prediction[df_prediction.vergleich == False].reset_index(drop = True)\n",
    "df_false_predictions.head()"
   ]
  },
  {
   "cell_type": "code",
   "execution_count": 19,
   "metadata": {},
   "outputs": [],
   "source": [
    "# Erstellung einer CSV Datei mit den falsch predicteden Zeilen\n",
    "df_false_predictions.to_csv(\"false_predictions.csv\", sep=';',index=False)"
   ]
  },
  {
   "cell_type": "code",
   "execution_count": 20,
   "metadata": {},
   "outputs": [
    {
     "data": {
      "text/plain": [
       "\"['never', 'used', 'hairspray', 'recently', 'decide', 'try', 'see', 'would', 'help', 'hold', 'curls', 'naturally', 'straightish', 'hair', 'little', 'bit', 'wave', 'never', 'able', 'keep', 'curls', 'hours', 'bought', 'small', 'travel', 'size', 'frizz', 'ease', 'walmart', 'gave', 'side', 'bangs', 'bit', 'curl', 'sprayed', 'curl', 'froze', 'move', 'next', 'twelve', 'hoursbut', 'seriously', 'sisters', 'hate', 'hair', 'spray', 'say', 'makes', 'hair', 'crispy', 'agree', 'smell', 'gives', 'headaches', 'keep', 'spraying', 'eye', 'mist', 'like', 'people', 'say', 'hairspray', 'ought', 'either', 'holds', 'well', 'well', 'ask', 'lookout', 'pliable', 'hairspray', 'make', 'feel', 'like', 'slathered', 'glue', 'head', 'ever', 'need', 'super', 'duper', 'strong', 'hair', 'glue', 'sure', 'top', 'list']\""
      ]
     },
     "execution_count": 20,
     "metadata": {},
     "output_type": "execute_result"
    }
   ],
   "source": [
    "# Ausgabe eines Reviews, das negativ ist aber positiv predicted wurde\n",
    "predict_false_positiv = df_false_predictions[df_false_predictions['prediction'] == 'positiv']\n",
    "predict_false_positiv['X_test'].iloc[0]"
   ]
  },
  {
   "cell_type": "code",
   "execution_count": 21,
   "metadata": {},
   "outputs": [
    {
     "data": {
      "text/plain": [
       "\"['bought', 'based', 'glorious', 'reviews', 'personally', 'never', 'used', 'vit', 'e', 'oil', 'sure', 'expect', 'thick', 'much', 'thicker', 'castor', 'oil', 'easy', 'spread', 'around', 'greasy', 'put', 'face', 'realized', 'going', 'spoil', 'pillow', 'covers', 'also', 'spreads', 'hair', 'makes', 'hair', 'greasy', 'yet', 'see', 'works', 'coz', 'soon', 'comment', 'results', 'coz', 'used', 'times', 'would', 'like', 'prospective', 'buyers', 'know', 'wear', 'makeup', 'fact', 'bed', 'sure', 'would', 'good', 'time', 'put']\""
      ]
     },
     "execution_count": 21,
     "metadata": {},
     "output_type": "execute_result"
    }
   ],
   "source": [
    "# Ausgabe eines Reviews, das positiv ist aber negativ predicted wurde\n",
    "predict_false_negativ = df_false_predictions[df_false_predictions['prediction'] == 'negativ']\n",
    "predict_false_negativ['X_test'].iloc[0]"
   ]
  }
 ],
 "metadata": {
  "kernelspec": {
   "display_name": "Python 3",
   "language": "python",
   "name": "python3"
  },
  "language_info": {
   "codemirror_mode": {
    "name": "ipython",
    "version": 3
   },
   "file_extension": ".py",
   "mimetype": "text/x-python",
   "name": "python",
   "nbconvert_exporter": "python",
   "pygments_lexer": "ipython3",
   "version": "3.7.0"
  }
 },
 "nbformat": 4,
 "nbformat_minor": 2
}
