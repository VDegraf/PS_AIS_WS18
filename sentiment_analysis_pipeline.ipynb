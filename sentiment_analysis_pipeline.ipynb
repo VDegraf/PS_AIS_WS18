{
 "cells": [
  {
   "cell_type": "markdown",
   "metadata": {},
   "source": [
    "## Sentiment Analysis of Amazon Review Data"
   ]
  },
  {
   "cell_type": "markdown",
   "metadata": {},
   "source": []
  },
  {
   "cell_type": "code",
   "execution_count": 165,
   "metadata": {},
   "outputs": [],
   "source": [
    "import json\n",
    "import pandas as pd\n",
    "import re\n",
    "import numpy as np\n",
    "from sklearn.feature_extraction.text import TfidfVectorizer, CountVectorizer, TfidfTransformer\n",
    "from sklearn.svm import LinearSVC\n",
    "from sklearn.pipeline import Pipeline\n",
    "from sklearn.model_selection import train_test_split\n",
    "from sklearn.feature_selection import SelectKBest, chi2, SelectPercentile, f_classif\n",
    "from sklearn.naive_bayes import MultinomialNB\n",
    "from sklearn.linear_model import LogisticRegression\n",
    "\n",
    "#Unterdrückung von Update Hinweisen\n",
    "import warnings\n",
    "warnings.filterwarnings('ignore')"
   ]
  },
  {
   "cell_type": "code",
   "execution_count": 166,
   "metadata": {},
   "outputs": [],
   "source": [
    "with open('config.json') as json_data_file:\n",
    "    config = json.load(json_data_file)"
   ]
  },
  {
   "cell_type": "code",
   "execution_count": 167,
   "metadata": {},
   "outputs": [
    {
     "data": {
      "text/html": [
       "<div>\n",
       "<style scoped>\n",
       "    .dataframe tbody tr th:only-of-type {\n",
       "        vertical-align: middle;\n",
       "    }\n",
       "\n",
       "    .dataframe tbody tr th {\n",
       "        vertical-align: top;\n",
       "    }\n",
       "\n",
       "    .dataframe thead th {\n",
       "        text-align: right;\n",
       "    }\n",
       "</style>\n",
       "<table border=\"1\" class=\"dataframe\">\n",
       "  <thead>\n",
       "    <tr style=\"text-align: right;\">\n",
       "      <th></th>\n",
       "      <th>review</th>\n",
       "      <th>rating</th>\n",
       "      <th>product</th>\n",
       "    </tr>\n",
       "  </thead>\n",
       "  <tbody>\n",
       "    <tr>\n",
       "      <th>0</th>\n",
       "      <td>['needed', 'set', 'jumper', 'cables', 'new', '...</td>\n",
       "      <td>5.0</td>\n",
       "      <td>B00002243X</td>\n",
       "    </tr>\n",
       "    <tr>\n",
       "      <th>1</th>\n",
       "      <td>['long', 'cables', 'work', 'fine', 'truck', 'q...</td>\n",
       "      <td>4.0</td>\n",
       "      <td>B00002243X</td>\n",
       "    </tr>\n",
       "    <tr>\n",
       "      <th>2</th>\n",
       "      <td>['comment', 'much', 'since', 'yet', 'used', 'c...</td>\n",
       "      <td>5.0</td>\n",
       "      <td>B00002243X</td>\n",
       "    </tr>\n",
       "    <tr>\n",
       "      <th>3</th>\n",
       "      <td>['absolutley', 'love', 'amazon', 'price', 'set...</td>\n",
       "      <td>5.0</td>\n",
       "      <td>B00002243X</td>\n",
       "    </tr>\n",
       "    <tr>\n",
       "      <th>4</th>\n",
       "      <td>['purchased', 'twelve', 'feet', 'long', 'cable...</td>\n",
       "      <td>5.0</td>\n",
       "      <td>B00002243X</td>\n",
       "    </tr>\n",
       "  </tbody>\n",
       "</table>\n",
       "</div>"
      ],
      "text/plain": [
       "                                              review  rating     product\n",
       "0  ['needed', 'set', 'jumper', 'cables', 'new', '...     5.0  B00002243X\n",
       "1  ['long', 'cables', 'work', 'fine', 'truck', 'q...     4.0  B00002243X\n",
       "2  ['comment', 'much', 'since', 'yet', 'used', 'c...     5.0  B00002243X\n",
       "3  ['absolutley', 'love', 'amazon', 'price', 'set...     5.0  B00002243X\n",
       "4  ['purchased', 'twelve', 'feet', 'long', 'cable...     5.0  B00002243X"
      ]
     },
     "execution_count": 167,
     "metadata": {},
     "output_type": "execute_result"
    }
   ],
   "source": [
    "data = pd.read_csv(\"./Data_filtered/reviews_Automotive.csv\", sep=\";\")\n",
    "data.head(5)"
   ]
  },
  {
   "cell_type": "code",
   "execution_count": 168,
   "metadata": {},
   "outputs": [
    {
     "data": {
      "text/html": [
       "<div>\n",
       "<style scoped>\n",
       "    .dataframe tbody tr th:only-of-type {\n",
       "        vertical-align: middle;\n",
       "    }\n",
       "\n",
       "    .dataframe tbody tr th {\n",
       "        vertical-align: top;\n",
       "    }\n",
       "\n",
       "    .dataframe thead th {\n",
       "        text-align: right;\n",
       "    }\n",
       "</style>\n",
       "<table border=\"1\" class=\"dataframe\">\n",
       "  <thead>\n",
       "    <tr style=\"text-align: right;\">\n",
       "      <th></th>\n",
       "      <th>review</th>\n",
       "      <th>rating</th>\n",
       "      <th>product</th>\n",
       "      <th>label</th>\n",
       "    </tr>\n",
       "  </thead>\n",
       "  <tbody>\n",
       "    <tr>\n",
       "      <th>0</th>\n",
       "      <td>['needed', 'set', 'jumper', 'cables', 'new', '...</td>\n",
       "      <td>5.0</td>\n",
       "      <td>B00002243X</td>\n",
       "      <td>positiv</td>\n",
       "    </tr>\n",
       "    <tr>\n",
       "      <th>1</th>\n",
       "      <td>['long', 'cables', 'work', 'fine', 'truck', 'q...</td>\n",
       "      <td>4.0</td>\n",
       "      <td>B00002243X</td>\n",
       "      <td>positiv</td>\n",
       "    </tr>\n",
       "    <tr>\n",
       "      <th>2</th>\n",
       "      <td>['comment', 'much', 'since', 'yet', 'used', 'c...</td>\n",
       "      <td>5.0</td>\n",
       "      <td>B00002243X</td>\n",
       "      <td>positiv</td>\n",
       "    </tr>\n",
       "    <tr>\n",
       "      <th>3</th>\n",
       "      <td>['absolutley', 'love', 'amazon', 'price', 'set...</td>\n",
       "      <td>5.0</td>\n",
       "      <td>B00002243X</td>\n",
       "      <td>positiv</td>\n",
       "    </tr>\n",
       "    <tr>\n",
       "      <th>4</th>\n",
       "      <td>['purchased', 'twelve', 'feet', 'long', 'cable...</td>\n",
       "      <td>5.0</td>\n",
       "      <td>B00002243X</td>\n",
       "      <td>positiv</td>\n",
       "    </tr>\n",
       "  </tbody>\n",
       "</table>\n",
       "</div>"
      ],
      "text/plain": [
       "                                              review  rating     product  \\\n",
       "0  ['needed', 'set', 'jumper', 'cables', 'new', '...     5.0  B00002243X   \n",
       "1  ['long', 'cables', 'work', 'fine', 'truck', 'q...     4.0  B00002243X   \n",
       "2  ['comment', 'much', 'since', 'yet', 'used', 'c...     5.0  B00002243X   \n",
       "3  ['absolutley', 'love', 'amazon', 'price', 'set...     5.0  B00002243X   \n",
       "4  ['purchased', 'twelve', 'feet', 'long', 'cable...     5.0  B00002243X   \n",
       "\n",
       "     label  \n",
       "0  positiv  \n",
       "1  positiv  \n",
       "2  positiv  \n",
       "3  positiv  \n",
       "4  positiv  "
      ]
     },
     "execution_count": 168,
     "metadata": {},
     "output_type": "execute_result"
    }
   ],
   "source": [
    "# 1, 2, 3 = negativ 4, 5 = positiv\n",
    "data[\"label\"] = pd.cut(data[\"rating\"], bins = config[\"label_two\"][\"bins\"], labels = config[\"label_two\"][\"labels\"])\n",
    "data[\"label\"] = data[\"label\"].astype(str)\n",
    "data.head(5)"
   ]
  },
  {
   "cell_type": "code",
   "execution_count": 169,
   "metadata": {},
   "outputs": [],
   "source": [
    "#Build an evenly distribued dataframe\n",
    "positiv = data[data['label'] =='positiv']\n",
    "negativ = data[data['label'] =='negativ']\n",
    "\n",
    "positiv_sample = positiv.sample(n=negativ.label.count(), replace=False, random_state=42)\n",
    "\n",
    "#Merge postiv und negativ dataframe\n",
    "balanced_dataset = pd.concat([negativ, positiv_sample])\n",
    "#data = balanced_dataset"
   ]
  },
  {
   "cell_type": "code",
   "execution_count": 170,
   "metadata": {},
   "outputs": [],
   "source": [
    "X_train, X_test, y_train, y_test = train_test_split(data['review'], data['label'], test_size=0.2, random_state=42, stratify=data['label'])\n",
    "\n",
    "#Vectorizer\n",
    "vect = CountVectorizer(stop_words=\"english\")\n",
    "#vect = TfidfVectorizer()\n",
    "\n",
    "#feature selection\n",
    "f_select = SelectKBest(f_classif, k=10000)\n",
    "f_select = SelectPercentile(f_classif, percentile=20)\n",
    "\n",
    "from sklearn.ensemble import RandomForestClassifier\n",
    "\n",
    "#Classifier\n",
    "clf = MultinomialNB(alpha=1.0, class_prior=[0.5, 0.5], fit_prior=False)\n",
    "#clf = LinearSVC(C=1.0, penalty= \"l1\", max_iter=3000, dual=False)\n",
    "#clf = RandomForestClassifier(n_estimators=1000, max_depth=2, random_state=42)\n",
    "#clf = LogisticRegression(random_state=42, class_weight=None, max_iter=3000)\n",
    "\n",
    "\n",
    "\n",
    "#Building the Pipeline\n",
    "pipeline = Pipeline([('vect', vect),\n",
    "                     ('f_select', f_select), \n",
    "                     ('clf', clf)])"
   ]
  },
  {
   "cell_type": "code",
   "execution_count": 171,
   "metadata": {
    "scrolled": true
   },
   "outputs": [
    {
     "name": "stdout",
     "output_type": "stream",
     "text": [
      "accuracy score: 0.9311881792648675\n"
     ]
    }
   ],
   "source": [
    "from sklearn import metrics\n",
    "model = pipeline.fit(X_train, y_train)\n",
    "\n",
    "#Results step of Pipeline\n",
    "vectorizer = model.named_steps['vect']\n",
    "feature_selection = model.named_steps['f_select']\n",
    "classifier = model.named_steps['clf']\n",
    "\n",
    "\n",
    "#Accuracy score of Train Data\n",
    "print(\"accuracy score: \" + str(model.score(X_train, y_train)))"
   ]
  },
  {
   "cell_type": "code",
   "execution_count": 172,
   "metadata": {
    "scrolled": true
   },
   "outputs": [
    {
     "name": "stdout",
     "output_type": "stream",
     "text": [
      "accuracy score: 0.8586080586080586\n",
      "Classificaton Report:\n",
      "             precision    recall  f1-score   support\n",
      "\n",
      "    negativ       0.42      0.30      0.35       516\n",
      "    positiv       0.90      0.94      0.92      3579\n",
      "\n",
      "avg / total       0.84      0.86      0.85      4095\n",
      "\n"
     ]
    }
   ],
   "source": [
    "from sklearn.metrics import accuracy_score\n",
    "model = pipeline.fit(X_train, y_train)\n",
    "\n",
    "#Accuracy Score of Model prediction \n",
    "print(\"accuracy score: \" + str(model.score(X_test, y_test)))\n",
    "\n",
    "#Report on prediction of model\n",
    "predictions = model.predict(X_test)\n",
    "print(\"Classificaton Report:\")\n",
    "print(metrics.classification_report(y_true=y_test, y_pred=predictions))"
   ]
  },
  {
   "cell_type": "code",
   "execution_count": 173,
   "metadata": {},
   "outputs": [
    {
     "name": "stdout",
     "output_type": "stream",
     "text": [
      "['negativ']\n",
      "['negativ']\n",
      "['positiv']\n"
     ]
    }
   ],
   "source": [
    "#Test with Manual review Text\n",
    "print(model.predict([\"the bad\"]))\n",
    "print(model.predict(['My order broke and I am very disappointed']))\n",
    "print(model.predict(['My order works perfect and and I am very glad I bought it']))"
   ]
  },
  {
   "cell_type": "code",
   "execution_count": 174,
   "metadata": {},
   "outputs": [
    {
     "name": "stdout",
     "output_type": "stream",
     "text": [
      "['positiv']\n",
      "['positiv']\n",
      "['positiv']\n"
     ]
    }
   ],
   "source": [
    "#Test mit LIDL Reviews\n",
    "print(model.predict(['I found it a bit too rich. But heated up with some cream it is the most amazing taste']))\n",
    "print(model.predict(['Nice, but too sweet for me. Would prefer the icing to be more bitter. It would then complement the rich cake']))\n",
    "print(model.predict(['Very rich but moreish.. The chocolate is creamy but the sponge is just ideal. It crumbles where it is so fresh. I find this cake tastes best served with cream or even a good vanilla ice-cream. The cake may not seem large enough, but it is a luxury cake so you would only need a sensible sized portion to enjoy it at its best.']))"
   ]
  },
  {
   "cell_type": "code",
   "execution_count": 175,
   "metadata": {},
   "outputs": [
    {
     "data": {
      "image/png": "[encoded data removed]",
      "text/plain": [
       "<Figure size 432x288 with 1 Axes>"
      ]
     },
     "metadata": {
      "needs_background": "light"
     },
     "output_type": "display_data"
    }
   ],
   "source": [
    "#Confusion matrix of model\n",
    "from sklearn.metrics import confusion_matrix\n",
    "import seaborn as sns\n",
    "import matplotlib.pyplot as plt\n",
    "\n",
    "labels = model.predict(X_test)\n",
    "target_names = ['Negativ', 'Positiv']\n",
    "mat = confusion_matrix(y_test, labels)\n",
    "sns.heatmap(mat.T, square=True, annot=True, fmt='d', cbar=False,\n",
    "            xticklabels=target_names, yticklabels=target_names)\n",
    "plt.xlabel('true label')\n",
    "plt.ylabel('predicted label')\n",
    "plt.show()"
   ]
  },
  {
   "cell_type": "code",
   "execution_count": 176,
   "metadata": {},
   "outputs": [
    {
     "name": "stdout",
     "output_type": "stream",
     "text": [
      "Cross-validation scores: [0.85779677 0.85775336 0.86534351 0.85587786 0.85435115]\n",
      "Mean accuracy: 0.8582245284342948\n"
     ]
    }
   ],
   "source": [
    "from sklearn.model_selection import cross_val_score,  KFold\n",
    "\n",
    "#kfold\n",
    "kfold = KFold(n_splits=5)\n",
    "\n",
    "#StratifiedKFold\n",
    "#standard for cv=INT is stratified k-fold\n",
    "\n",
    "scores = cross_val_score(pipeline, X_train, y_train, cv=5)\n",
    "print(\"Cross-validation scores: {}\".format(scores))\n",
    "print(\"Mean accuracy: {}\".format(scores.mean()))"
   ]
  },
  {
   "cell_type": "code",
   "execution_count": 177,
   "metadata": {},
   "outputs": [
    {
     "data": {
      "text/html": [
       "<div>\n",
       "<style scoped>\n",
       "    .dataframe tbody tr th:only-of-type {\n",
       "        vertical-align: middle;\n",
       "    }\n",
       "\n",
       "    .dataframe tbody tr th {\n",
       "        vertical-align: top;\n",
       "    }\n",
       "\n",
       "    .dataframe thead th {\n",
       "        text-align: right;\n",
       "    }\n",
       "</style>\n",
       "<table border=\"1\" class=\"dataframe\">\n",
       "  <thead>\n",
       "    <tr style=\"text-align: right;\">\n",
       "      <th></th>\n",
       "      <th>fit_time</th>\n",
       "      <th>score_time</th>\n",
       "      <th>test_score</th>\n",
       "      <th>train_score</th>\n",
       "    </tr>\n",
       "  </thead>\n",
       "  <tbody>\n",
       "    <tr>\n",
       "      <th>0</th>\n",
       "      <td>1.008953</td>\n",
       "      <td>0.195798</td>\n",
       "      <td>0.857797</td>\n",
       "      <td>0.929776</td>\n",
       "    </tr>\n",
       "    <tr>\n",
       "      <th>1</th>\n",
       "      <td>1.076886</td>\n",
       "      <td>0.209783</td>\n",
       "      <td>0.857753</td>\n",
       "      <td>0.930087</td>\n",
       "    </tr>\n",
       "    <tr>\n",
       "      <th>2</th>\n",
       "      <td>0.988977</td>\n",
       "      <td>0.195807</td>\n",
       "      <td>0.865344</td>\n",
       "      <td>0.932916</td>\n",
       "    </tr>\n",
       "    <tr>\n",
       "      <th>3</th>\n",
       "      <td>1.006958</td>\n",
       "      <td>0.187806</td>\n",
       "      <td>0.855878</td>\n",
       "      <td>0.930779</td>\n",
       "    </tr>\n",
       "    <tr>\n",
       "      <th>4</th>\n",
       "      <td>0.982983</td>\n",
       "      <td>0.191803</td>\n",
       "      <td>0.854351</td>\n",
       "      <td>0.928948</td>\n",
       "    </tr>\n",
       "  </tbody>\n",
       "</table>\n",
       "</div>"
      ],
      "text/plain": [
       "   fit_time  score_time  test_score  train_score\n",
       "0  1.008953    0.195798    0.857797     0.929776\n",
       "1  1.076886    0.209783    0.857753     0.930087\n",
       "2  0.988977    0.195807    0.865344     0.932916\n",
       "3  1.006958    0.187806    0.855878     0.930779\n",
       "4  0.982983    0.191803    0.854351     0.928948"
      ]
     },
     "metadata": {},
     "output_type": "display_data"
    },
    {
     "name": "stdout",
     "output_type": "stream",
     "text": [
      "Mean times and scores:\n",
      " fit_time       1.012951\n",
      "score_time     0.196199\n",
      "test_score     0.858225\n",
      "train_score    0.930501\n",
      "dtype: float64\n"
     ]
    }
   ],
   "source": [
    "from sklearn.model_selection import cross_validate\n",
    "res = cross_validate(pipeline, X_train, y_train, cv=5, return_train_score=True)\n",
    "\n",
    "#make DataFrame of result for better Visualisation\n",
    "res_df = pd.DataFrame(res)\n",
    "display(res_df)\n",
    "\n",
    "#Print Mean of all Scores\n",
    "print(\"Mean times and scores:\\n\", res_df.mean())"
   ]
  },
  {
   "cell_type": "markdown",
   "metadata": {},
   "source": [
    "### Untersuchung der Predictions"
   ]
  },
  {
   "cell_type": "code",
   "execution_count": 178,
   "metadata": {},
   "outputs": [
    {
     "data": {
      "text/html": [
       "<div>\n",
       "<style scoped>\n",
       "    .dataframe tbody tr th:only-of-type {\n",
       "        vertical-align: middle;\n",
       "    }\n",
       "\n",
       "    .dataframe tbody tr th {\n",
       "        vertical-align: top;\n",
       "    }\n",
       "\n",
       "    .dataframe thead th {\n",
       "        text-align: right;\n",
       "    }\n",
       "</style>\n",
       "<table border=\"1\" class=\"dataframe\">\n",
       "  <thead>\n",
       "    <tr style=\"text-align: right;\">\n",
       "      <th></th>\n",
       "      <th>X_test</th>\n",
       "      <th>y_test</th>\n",
       "      <th>prediction</th>\n",
       "      <th>vergleich</th>\n",
       "    </tr>\n",
       "  </thead>\n",
       "  <tbody>\n",
       "    <tr>\n",
       "      <th>15806</th>\n",
       "      <td>['tire', 'gauges', 'kind', 'thing', 'makes', '...</td>\n",
       "      <td>positiv</td>\n",
       "      <td>negativ</td>\n",
       "      <td>False</td>\n",
       "    </tr>\n",
       "    <tr>\n",
       "      <th>541</th>\n",
       "      <td>['like', 'said', 'title', 'review', 'say', 'pr...</td>\n",
       "      <td>positiv</td>\n",
       "      <td>positiv</td>\n",
       "      <td>True</td>\n",
       "    </tr>\n",
       "    <tr>\n",
       "      <th>1724</th>\n",
       "      <td>['comfortable', 'product', 'eliminate', 'stubb...</td>\n",
       "      <td>positiv</td>\n",
       "      <td>positiv</td>\n",
       "      <td>True</td>\n",
       "    </tr>\n",
       "    <tr>\n",
       "      <th>3586</th>\n",
       "      <td>['must', 'tool', 'people', 'work', 'cars', 'se...</td>\n",
       "      <td>positiv</td>\n",
       "      <td>positiv</td>\n",
       "      <td>True</td>\n",
       "    </tr>\n",
       "    <tr>\n",
       "      <th>15830</th>\n",
       "      <td>['purchased', 'joe', 'racing', 'pressure', 'ga...</td>\n",
       "      <td>positiv</td>\n",
       "      <td>positiv</td>\n",
       "      <td>True</td>\n",
       "    </tr>\n",
       "  </tbody>\n",
       "</table>\n",
       "</div>"
      ],
      "text/plain": [
       "                                                  X_test   y_test prediction  \\\n",
       "15806  ['tire', 'gauges', 'kind', 'thing', 'makes', '...  positiv    negativ   \n",
       "541    ['like', 'said', 'title', 'review', 'say', 'pr...  positiv    positiv   \n",
       "1724   ['comfortable', 'product', 'eliminate', 'stubb...  positiv    positiv   \n",
       "3586   ['must', 'tool', 'people', 'work', 'cars', 'se...  positiv    positiv   \n",
       "15830  ['purchased', 'joe', 'racing', 'pressure', 'ga...  positiv    positiv   \n",
       "\n",
       "       vergleich  \n",
       "15806      False  \n",
       "541         True  \n",
       "1724        True  \n",
       "3586        True  \n",
       "15830       True  "
      ]
     },
     "execution_count": 178,
     "metadata": {},
     "output_type": "execute_result"
    }
   ],
   "source": [
    "# Erstellung eines DataFrames mit den Spalten: X_test, y_test, prediction\n",
    "predictions = model.predict(X_test)\n",
    "df_prediction = pd.DataFrame({\n",
    "    'X_test': X_test,\n",
    "    'y_test': y_test,\n",
    "    'prediction': predictions\n",
    "})\n",
    "\n",
    "# neue Spalte, die Values von Spalten y_test und prediction vergleicht\n",
    "df_prediction['vergleich'] = df_prediction['y_test'] == df_prediction['prediction']\n",
    "\n",
    "df_prediction.head()"
   ]
  },
  {
   "cell_type": "code",
   "execution_count": 179,
   "metadata": {},
   "outputs": [
    {
     "data": {
      "text/html": [
       "<div>\n",
       "<style scoped>\n",
       "    .dataframe tbody tr th:only-of-type {\n",
       "        vertical-align: middle;\n",
       "    }\n",
       "\n",
       "    .dataframe tbody tr th {\n",
       "        vertical-align: top;\n",
       "    }\n",
       "\n",
       "    .dataframe thead th {\n",
       "        text-align: right;\n",
       "    }\n",
       "</style>\n",
       "<table border=\"1\" class=\"dataframe\">\n",
       "  <thead>\n",
       "    <tr style=\"text-align: right;\">\n",
       "      <th></th>\n",
       "      <th>X_test</th>\n",
       "      <th>y_test</th>\n",
       "      <th>prediction</th>\n",
       "      <th>vergleich</th>\n",
       "    </tr>\n",
       "  </thead>\n",
       "  <tbody>\n",
       "    <tr>\n",
       "      <th>0</th>\n",
       "      <td>['tire', 'gauges', 'kind', 'thing', 'makes', '...</td>\n",
       "      <td>positiv</td>\n",
       "      <td>negativ</td>\n",
       "      <td>False</td>\n",
       "    </tr>\n",
       "    <tr>\n",
       "      <th>1</th>\n",
       "      <td>['regulator', 'well', 'made', 'leak', 'job', '...</td>\n",
       "      <td>negativ</td>\n",
       "      <td>positiv</td>\n",
       "      <td>False</td>\n",
       "    </tr>\n",
       "    <tr>\n",
       "      <th>2</th>\n",
       "      <td>['sleek', 'easy', 'mount', 'note', 'middle', '...</td>\n",
       "      <td>negativ</td>\n",
       "      <td>positiv</td>\n",
       "      <td>False</td>\n",
       "    </tr>\n",
       "    <tr>\n",
       "      <th>3</th>\n",
       "      <td>['used', 'limited', 'fashion', 'preping', 'thi...</td>\n",
       "      <td>negativ</td>\n",
       "      <td>positiv</td>\n",
       "      <td>False</td>\n",
       "    </tr>\n",
       "    <tr>\n",
       "      <th>4</th>\n",
       "      <td>['ok']</td>\n",
       "      <td>positiv</td>\n",
       "      <td>negativ</td>\n",
       "      <td>False</td>\n",
       "    </tr>\n",
       "  </tbody>\n",
       "</table>\n",
       "</div>"
      ],
      "text/plain": [
       "                                              X_test   y_test prediction  \\\n",
       "0  ['tire', 'gauges', 'kind', 'thing', 'makes', '...  positiv    negativ   \n",
       "1  ['regulator', 'well', 'made', 'leak', 'job', '...  negativ    positiv   \n",
       "2  ['sleek', 'easy', 'mount', 'note', 'middle', '...  negativ    positiv   \n",
       "3  ['used', 'limited', 'fashion', 'preping', 'thi...  negativ    positiv   \n",
       "4                                             ['ok']  positiv    negativ   \n",
       "\n",
       "   vergleich  \n",
       "0      False  \n",
       "1      False  \n",
       "2      False  \n",
       "3      False  \n",
       "4      False  "
      ]
     },
     "execution_count": 179,
     "metadata": {},
     "output_type": "execute_result"
    }
   ],
   "source": [
    "# Speichern der Zeilen mit unterschiedlichen Werten in den Spalten \"y_test\" und \"prediction\" in einem neuen DF \n",
    "# und setzt Index zurück \n",
    "df_false_predictions = df_prediction[df_prediction.vergleich == False].reset_index(drop = True)\n",
    "\n",
    "df_false_predictions.head()"
   ]
  },
  {
   "cell_type": "code",
   "execution_count": 180,
   "metadata": {},
   "outputs": [],
   "source": [
    "# Erstellung einer CSV Datei mit den falsch predicteden Zeilen\n",
    "df_false_predictions.to_csv(\"false_predictions.csv\", sep=';',index=False)"
   ]
  },
  {
   "cell_type": "code",
   "execution_count": 181,
   "metadata": {},
   "outputs": [
    {
     "data": {
      "text/plain": [
       "\"['tire', 'gauges', 'kind', 'thing', 'makes', 'many', 'people', 'excited', 'unless', 'gauge', 'poorly', 'designed', 'piece', 'junk', 'really', 'want', 'throw', 'trash', 'another', 'one', 'handy', 'keep', 'go', 'hassle', 'next', 'time', 'use', 'itdo', 'favor', 'get', 'one', 'well', 'made', 'usa', 'reasonably', 'priced', 'deadon', 'accurate', 'toss', 'old', 'one', 'away', 'give', 'someone', 'like', 'much', 'let', 'get', 'frustrated']\""
      ]
     },
     "execution_count": 181,
     "metadata": {},
     "output_type": "execute_result"
    }
   ],
   "source": [
    "# Ausgabe eines Reviews, das negativ ist aber positiv predicted wurde\n",
    "df_false_predictions['X_test'].iloc[0]"
   ]
  },
  {
   "cell_type": "code",
   "execution_count": 182,
   "metadata": {},
   "outputs": [
    {
     "data": {
      "text/plain": [
       "\"['used', 'limited', 'fashion', 'preping', 'thirteen', 'year', 'old', 'truck', 'admit', 'see', 'lot', 'difference', 'area', 'prepped', 'cleaning', 'clay', 'area', 'straight', 'polishing', 'compound', 'need', 'try', 'reaching', 'final', 'verdict']\""
      ]
     },
     "execution_count": 182,
     "metadata": {},
     "output_type": "execute_result"
    }
   ],
   "source": [
    "# Ausgabe eines Reviews, das positiv ist aber negativ predicted wurde\n",
    "df_false_predictions['X_test'].iloc[3]"
   ]
  }
 ],
 "metadata": {
  "kernelspec": {
   "display_name": "Python 3",
   "language": "python",
   "name": "python3"
  },
  "language_info": {
   "codemirror_mode": {
    "name": "ipython",
    "version": 3
   },
   "file_extension": ".py",
   "mimetype": "text/x-python",
   "name": "python",
   "nbconvert_exporter": "python",
   "pygments_lexer": "ipython3",
   "version": "3.7.0"
  }
 },
 "nbformat": 4,
 "nbformat_minor": 2
}
