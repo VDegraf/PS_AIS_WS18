{
 "cells": [
  {
   "cell_type": "markdown",
   "metadata": {},
   "source": [
    "## Sentiment Analysis of Amazon Review Data"
   ]
  },
  {
   "cell_type": "markdown",
   "metadata": {},
   "source": []
  },
  {
   "cell_type": "code",
   "execution_count": 23,
   "metadata": {},
   "outputs": [],
   "source": [
    "import json\n",
    "import pandas as pd\n",
    "import re\n",
    "import numpy as np\n",
    "from sklearn.feature_extraction.text import TfidfVectorizer, CountVectorizer, TfidfTransformer\n",
    "from sklearn.svm import LinearSVC\n",
    "from sklearn.pipeline import Pipeline\n",
    "from sklearn.model_selection import train_test_split\n",
    "from sklearn.feature_selection import SelectKBest, chi2, SelectPercentile, f_classif\n",
    "from sklearn.naive_bayes import MultinomialNB\n",
    "from sklearn.linear_model import LogisticRegression\n",
    "\n",
    "#Unterdrückung von Update Hinweisen\n",
    "import warnings\n",
    "warnings.filterwarnings('ignore')"
   ]
  },
  {
   "cell_type": "code",
   "execution_count": 24,
   "metadata": {},
   "outputs": [],
   "source": [
    "with open('config.json') as json_data_file:\n",
    "    config = json.load(json_data_file)"
   ]
  },
  {
   "cell_type": "code",
   "execution_count": 25,
   "metadata": {},
   "outputs": [
    {
     "data": {
      "text/html": [
       "<div>\n",
       "<style scoped>\n",
       "    .dataframe tbody tr th:only-of-type {\n",
       "        vertical-align: middle;\n",
       "    }\n",
       "\n",
       "    .dataframe tbody tr th {\n",
       "        vertical-align: top;\n",
       "    }\n",
       "\n",
       "    .dataframe thead th {\n",
       "        text-align: right;\n",
       "    }\n",
       "</style>\n",
       "<table border=\"1\" class=\"dataframe\">\n",
       "  <thead>\n",
       "    <tr style=\"text-align: right;\">\n",
       "      <th></th>\n",
       "      <th>review</th>\n",
       "      <th>rating</th>\n",
       "      <th>products</th>\n",
       "    </tr>\n",
       "  </thead>\n",
       "  <tbody>\n",
       "    <tr>\n",
       "      <th>0</th>\n",
       "      <td>['needed', 'set', 'jumper', 'cables', 'new', '...</td>\n",
       "      <td>5.0</td>\n",
       "      <td>B00KIAQ8VW</td>\n",
       "    </tr>\n",
       "    <tr>\n",
       "      <th>1</th>\n",
       "      <td>['long', 'cables', 'work', 'fine', 'truck', 'q...</td>\n",
       "      <td>4.0</td>\n",
       "      <td>B00KIAQ8VW</td>\n",
       "    </tr>\n",
       "    <tr>\n",
       "      <th>2</th>\n",
       "      <td>['comment', 'much', 'since', 'yet', 'used', 'c...</td>\n",
       "      <td>5.0</td>\n",
       "      <td>B00KIAQ8VW</td>\n",
       "    </tr>\n",
       "    <tr>\n",
       "      <th>3</th>\n",
       "      <td>['absolutley', 'love', 'amazon', 'price', 'set...</td>\n",
       "      <td>5.0</td>\n",
       "      <td>B00KIAQ8VW</td>\n",
       "    </tr>\n",
       "    <tr>\n",
       "      <th>4</th>\n",
       "      <td>['purchased', 'twelve', 'feet', 'long', 'cable...</td>\n",
       "      <td>5.0</td>\n",
       "      <td>B00KIAQ8VW</td>\n",
       "    </tr>\n",
       "  </tbody>\n",
       "</table>\n",
       "</div>"
      ],
      "text/plain": [
       "                                              review  rating    products\n",
       "0  ['needed', 'set', 'jumper', 'cables', 'new', '...     5.0  B00KIAQ8VW\n",
       "1  ['long', 'cables', 'work', 'fine', 'truck', 'q...     4.0  B00KIAQ8VW\n",
       "2  ['comment', 'much', 'since', 'yet', 'used', 'c...     5.0  B00KIAQ8VW\n",
       "3  ['absolutley', 'love', 'amazon', 'price', 'set...     5.0  B00KIAQ8VW\n",
       "4  ['purchased', 'twelve', 'feet', 'long', 'cable...     5.0  B00KIAQ8VW"
      ]
     },
     "execution_count": 25,
     "metadata": {},
     "output_type": "execute_result"
    }
   ],
   "source": [
    "data = pd.read_csv(\"./Data_filtered/reviews_Automotive.csv\", sep=\";\")\n",
    "data.head(5)"
   ]
  },
  {
   "cell_type": "code",
   "execution_count": 26,
   "metadata": {},
   "outputs": [
    {
     "data": {
      "text/html": [
       "<div>\n",
       "<style scoped>\n",
       "    .dataframe tbody tr th:only-of-type {\n",
       "        vertical-align: middle;\n",
       "    }\n",
       "\n",
       "    .dataframe tbody tr th {\n",
       "        vertical-align: top;\n",
       "    }\n",
       "\n",
       "    .dataframe thead th {\n",
       "        text-align: right;\n",
       "    }\n",
       "</style>\n",
       "<table border=\"1\" class=\"dataframe\">\n",
       "  <thead>\n",
       "    <tr style=\"text-align: right;\">\n",
       "      <th></th>\n",
       "      <th>review</th>\n",
       "      <th>rating</th>\n",
       "      <th>products</th>\n",
       "      <th>label</th>\n",
       "    </tr>\n",
       "  </thead>\n",
       "  <tbody>\n",
       "    <tr>\n",
       "      <th>0</th>\n",
       "      <td>['needed', 'set', 'jumper', 'cables', 'new', '...</td>\n",
       "      <td>5.0</td>\n",
       "      <td>B00KIAQ8VW</td>\n",
       "      <td>positiv</td>\n",
       "    </tr>\n",
       "    <tr>\n",
       "      <th>1</th>\n",
       "      <td>['long', 'cables', 'work', 'fine', 'truck', 'q...</td>\n",
       "      <td>4.0</td>\n",
       "      <td>B00KIAQ8VW</td>\n",
       "      <td>positiv</td>\n",
       "    </tr>\n",
       "    <tr>\n",
       "      <th>2</th>\n",
       "      <td>['comment', 'much', 'since', 'yet', 'used', 'c...</td>\n",
       "      <td>5.0</td>\n",
       "      <td>B00KIAQ8VW</td>\n",
       "      <td>positiv</td>\n",
       "    </tr>\n",
       "    <tr>\n",
       "      <th>3</th>\n",
       "      <td>['absolutley', 'love', 'amazon', 'price', 'set...</td>\n",
       "      <td>5.0</td>\n",
       "      <td>B00KIAQ8VW</td>\n",
       "      <td>positiv</td>\n",
       "    </tr>\n",
       "    <tr>\n",
       "      <th>4</th>\n",
       "      <td>['purchased', 'twelve', 'feet', 'long', 'cable...</td>\n",
       "      <td>5.0</td>\n",
       "      <td>B00KIAQ8VW</td>\n",
       "      <td>positiv</td>\n",
       "    </tr>\n",
       "  </tbody>\n",
       "</table>\n",
       "</div>"
      ],
      "text/plain": [
       "                                              review  rating    products  \\\n",
       "0  ['needed', 'set', 'jumper', 'cables', 'new', '...     5.0  B00KIAQ8VW   \n",
       "1  ['long', 'cables', 'work', 'fine', 'truck', 'q...     4.0  B00KIAQ8VW   \n",
       "2  ['comment', 'much', 'since', 'yet', 'used', 'c...     5.0  B00KIAQ8VW   \n",
       "3  ['absolutley', 'love', 'amazon', 'price', 'set...     5.0  B00KIAQ8VW   \n",
       "4  ['purchased', 'twelve', 'feet', 'long', 'cable...     5.0  B00KIAQ8VW   \n",
       "\n",
       "     label  \n",
       "0  positiv  \n",
       "1  positiv  \n",
       "2  positiv  \n",
       "3  positiv  \n",
       "4  positiv  "
      ]
     },
     "execution_count": 26,
     "metadata": {},
     "output_type": "execute_result"
    }
   ],
   "source": [
    "# 1, 2, 3 = negativ 4, 5 = positiv\n",
    "data[\"label\"] = pd.cut(data[\"rating\"], bins = config[\"label_two\"][\"bins\"], labels = config[\"label_two\"][\"labels\"])\n",
    "data[\"label\"] = data[\"label\"].astype(str)\n",
    "data.head(5)"
   ]
  },
  {
   "cell_type": "code",
   "execution_count": 51,
   "metadata": {},
   "outputs": [
    {
     "data": {
      "text/plain": [
       "5156"
      ]
     },
     "execution_count": 51,
     "metadata": {},
     "output_type": "execute_result"
    }
   ],
   "source": [
    "#Build an evenly distribued dataframe\n",
    "positiv = data[data['label'] =='positiv']\n",
    "negativ = data[data['label'] =='negativ']\n",
    "\n",
    "positiv_sample = positiv.sample(n=negativ.label.count(), replace=False, random_state=42)\n",
    "\n",
    "#Merge postiv und negativ dataframe\n",
    "balanced_dataset = pd.concat([negativ, positiv_sample])\n",
    "data = balanced_dataset\n",
    "data.label.count()"
   ]
  },
  {
   "cell_type": "code",
   "execution_count": 76,
   "metadata": {},
   "outputs": [],
   "source": [
    "X_train, X_test, y_train, y_test = train_test_split(data['review'], data['label'], test_size=0.2, random_state=42, stratify=data['label'])\n",
    "\n",
    "#Vectorizer\n",
    "vect = CountVectorizer(stop_words=\"english\")\n",
    "#vect = TfidfVectorizer()\n",
    "\n",
    "#feature selection\n",
    "f_select = SelectKBest(f_classif, k=10000)\n",
    "#f_select = SelectPercentile(f_classif, percentile=20)\n",
    "\n",
    "from sklearn.ensemble import RandomForestClassifier\n",
    "\n",
    "#Classifier\n",
    "clf = MultinomialNB(alpha=1.0, class_prior=[0.5, 0.5], fit_prior=False)\n",
    "#clf = LinearSVC(C=1.0, penalty= \"l1\", max_iter=3000, dual=False)\n",
    "#clf = RandomForestClassifier(n_estimators=1000, max_depth=2, random_state=42)\n",
    "#clf = LogisticRegression(random_state=42, class_weight=None, max_iter=3000)\n",
    "\n",
    "\n",
    "\n",
    "#Building the Pipeline\n",
    "pipeline = Pipeline([('vect', vect),\n",
    "                     ('f_select', f_select), \n",
    "                     ('clf', clf)])"
   ]
  },
  {
   "cell_type": "code",
   "execution_count": 77,
   "metadata": {
    "scrolled": true
   },
   "outputs": [
    {
     "name": "stdout",
     "output_type": "stream",
     "text": [
      "accuracy score: 0.8959747817652765\n"
     ]
    }
   ],
   "source": [
    "from sklearn import metrics\n",
    "model = pipeline.fit(X_train, y_train)\n",
    "\n",
    "#Results step of Pipeline\n",
    "vectorizer = model.named_steps['vect']\n",
    "feature_selection = model.named_steps['f_select']\n",
    "classifier = model.named_steps['clf']\n",
    "\n",
    "\n",
    "#Accuracy score of Train Data\n",
    "print(\"accuracy score: \" + str(model.score(X_train, y_train)))"
   ]
  },
  {
   "cell_type": "code",
   "execution_count": 78,
   "metadata": {
    "scrolled": true
   },
   "outputs": [
    {
     "name": "stdout",
     "output_type": "stream",
     "text": [
      "accuracy score: 0.7189922480620154\n",
      "Classificaton Report:\n",
      "              precision    recall  f1-score   support\n",
      "\n",
      "     negativ       0.70      0.76      0.73       516\n",
      "     positiv       0.74      0.67      0.71       516\n",
      "\n",
      "   micro avg       0.72      0.72      0.72      1032\n",
      "   macro avg       0.72      0.72      0.72      1032\n",
      "weighted avg       0.72      0.72      0.72      1032\n",
      "\n"
     ]
    }
   ],
   "source": [
    "from sklearn.metrics import accuracy_score\n",
    "model = pipeline.fit(X_train, y_train)\n",
    "\n",
    "#Accuracy Score of Model prediction \n",
    "print(\"accuracy score: \" + str(model.score(X_test, y_test)))\n",
    "\n",
    "#Report on prediction of model\n",
    "predictions = model.predict(X_test)\n",
    "print(\"Classificaton Report:\")\n",
    "print(metrics.classification_report(y_true=y_test, y_pred=predictions))"
   ]
  },
  {
   "cell_type": "code",
   "execution_count": 88,
   "metadata": {},
   "outputs": [
    {
     "data": {
      "text/plain": [
       "'\\nfeature_names = vectorizer.get_feature_names()\\nfeature_names = [feature_names[i] for i in feature_selection.get_support(indices=True)]\\nfeature_names = np.asarray(feature_names)\\n\\ntarget_names = [\\'Negativ\\', \\'Positv\\']\\nprint(\"top 10 keywords per class:\")\\nfor i, label in enumerate(target_names):\\n    top10 = np.argsort(classifier.coef_[0])[-10:]\\nprint(\"%s: %s\" % (label, \" \".join(feature_names[top10])))\\n\\nclassifier.coef_\\'\\n'"
      ]
     },
     "execution_count": 88,
     "metadata": {},
     "output_type": "execute_result"
    }
   ],
   "source": [
    "\"\"\"\n",
    "feature_names = vectorizer.get_feature_names()\n",
    "feature_names = [feature_names[i] for i in feature_selection.get_support(indices=True)]\n",
    "feature_names = np.asarray(feature_names)\n",
    "\n",
    "target_names = ['Negativ', 'Positv']\n",
    "print(\"top 10 keywords per class:\")\n",
    "for i, label in enumerate(target_names):\n",
    "    top10 = np.argsort(classifier.coef_[0])[-10:]\n",
    "print(\"%s: %s\" % (label, \" \".join(feature_names[top10])))\n",
    "\n",
    "classifier.coef_'\n",
    "\"\"\""
   ]
  },
  {
   "cell_type": "code",
   "execution_count": 85,
   "metadata": {},
   "outputs": [
    {
     "name": "stdout",
     "output_type": "stream",
     "text": [
      "['negativ']\n",
      "['negativ']\n",
      "['positiv']\n"
     ]
    }
   ],
   "source": [
    "#Test with Manual review Text\n",
    "print(model.predict([\"the bad\"]))\n",
    "print(model.predict(['My order broke and I am very disappointed']))\n",
    "print(model.predict(['My order works perfect and and I am very glad I bought it']))"
   ]
  },
  {
   "cell_type": "code",
   "execution_count": 86,
   "metadata": {},
   "outputs": [
    {
     "name": "stdout",
     "output_type": "stream",
     "text": [
      "['negativ']\n",
      "['positiv']\n",
      "['positiv']\n",
      "['positiv']\n"
     ]
    }
   ],
   "source": [
    "#Test mit LIDL Reviews\n",
    "print(model.predict(['I found it a bit too rich. But heated up with some cream it is the most amazing taste']))\n",
    "print(model.predict(['Nice, but too sweet for me. Would prefer the icing to be more bitter. It would then complement the rich cake']))\n",
    "print(model.predict(['Very rich but moreish. The chocolate is creamy but the sponge is just ideal. It crumbles where it is so fresh. I find this cake tastes best served with cream or even a good vanilla ice-cream. The cake may not seem large enough, but it is a luxury cake so you would only need a sensible sized portion to enjoy it at its best.']))\n",
    "print(model.predict([\"I haven't seen this in my shop recently.\"]))\n"
   ]
  },
  {
   "cell_type": "code",
   "execution_count": 48,
   "metadata": {},
   "outputs": [
    {
     "data": {
      "image/png": "[encoded data removed]",
      "text/plain": [
       "<Figure size 432x288 with 1 Axes>"
      ]
     },
     "metadata": {
      "needs_background": "light"
     },
     "output_type": "display_data"
    }
   ],
   "source": [
    "#Confusion matrix of model\n",
    "from sklearn.metrics import confusion_matrix\n",
    "import seaborn as sns\n",
    "import matplotlib.pyplot as plt\n",
    "\n",
    "labels = model.predict(X_test)\n",
    "target_names = ['Negativ', 'Positiv']\n",
    "mat = confusion_matrix(y_test, labels)\n",
    "sns.heatmap(mat.T, square=True, annot=True, fmt='d', cbar=False,\n",
    "            xticklabels=target_names, yticklabels=target_names)\n",
    "plt.xlabel('true label')\n",
    "plt.ylabel('predicted label')\n",
    "plt.show()"
   ]
  },
  {
   "cell_type": "code",
   "execution_count": 49,
   "metadata": {},
   "outputs": [
    {
     "name": "stdout",
     "output_type": "stream",
     "text": [
      "Cross-validation scores: [0.75786925 0.69491525 0.7184466  0.69417476 0.7038835 ]\n",
      "Mean accuracy: 0.7138578716001787\n"
     ]
    }
   ],
   "source": [
    "from sklearn.model_selection import cross_val_score,  KFold\n",
    "\n",
    "#kfold\n",
    "kfold = KFold(n_splits=5)\n",
    "\n",
    "#StratifiedKFold\n",
    "#standard for cv=INT is stratified k-fold\n",
    "\n",
    "scores = cross_val_score(pipeline, X_train, y_train, cv=5)\n",
    "print(\"Cross-validation scores: {}\".format(scores))\n",
    "print(\"Mean accuracy: {}\".format(scores.mean()))"
   ]
  },
  {
   "cell_type": "code",
   "execution_count": 36,
   "metadata": {},
   "outputs": [
    {
     "data": {
      "text/html": [
       "<div>\n",
       "<style scoped>\n",
       "    .dataframe tbody tr th:only-of-type {\n",
       "        vertical-align: middle;\n",
       "    }\n",
       "\n",
       "    .dataframe tbody tr th {\n",
       "        vertical-align: top;\n",
       "    }\n",
       "\n",
       "    .dataframe thead th {\n",
       "        text-align: right;\n",
       "    }\n",
       "</style>\n",
       "<table border=\"1\" class=\"dataframe\">\n",
       "  <thead>\n",
       "    <tr style=\"text-align: right;\">\n",
       "      <th></th>\n",
       "      <th>fit_time</th>\n",
       "      <th>score_time</th>\n",
       "      <th>test_score</th>\n",
       "      <th>train_score</th>\n",
       "    </tr>\n",
       "  </thead>\n",
       "  <tbody>\n",
       "    <tr>\n",
       "      <th>0</th>\n",
       "      <td>0.910798</td>\n",
       "      <td>0.193535</td>\n",
       "      <td>0.857797</td>\n",
       "      <td>0.929776</td>\n",
       "    </tr>\n",
       "    <tr>\n",
       "      <th>1</th>\n",
       "      <td>1.087337</td>\n",
       "      <td>0.256694</td>\n",
       "      <td>0.857753</td>\n",
       "      <td>0.930087</td>\n",
       "    </tr>\n",
       "    <tr>\n",
       "      <th>2</th>\n",
       "      <td>1.234218</td>\n",
       "      <td>0.198464</td>\n",
       "      <td>0.865344</td>\n",
       "      <td>0.932916</td>\n",
       "    </tr>\n",
       "    <tr>\n",
       "      <th>3</th>\n",
       "      <td>0.899036</td>\n",
       "      <td>0.161094</td>\n",
       "      <td>0.855878</td>\n",
       "      <td>0.930779</td>\n",
       "    </tr>\n",
       "    <tr>\n",
       "      <th>4</th>\n",
       "      <td>0.925805</td>\n",
       "      <td>0.232259</td>\n",
       "      <td>0.854351</td>\n",
       "      <td>0.928948</td>\n",
       "    </tr>\n",
       "  </tbody>\n",
       "</table>\n",
       "</div>"
      ],
      "text/plain": [
       "   fit_time  score_time  test_score  train_score\n",
       "0  0.910798    0.193535    0.857797     0.929776\n",
       "1  1.087337    0.256694    0.857753     0.930087\n",
       "2  1.234218    0.198464    0.865344     0.932916\n",
       "3  0.899036    0.161094    0.855878     0.930779\n",
       "4  0.925805    0.232259    0.854351     0.928948"
      ]
     },
     "metadata": {},
     "output_type": "display_data"
    },
    {
     "name": "stdout",
     "output_type": "stream",
     "text": [
      "Mean times and scores:\n",
      " fit_time       1.011439\n",
      "score_time     0.208409\n",
      "test_score     0.858225\n",
      "train_score    0.930501\n",
      "dtype: float64\n"
     ]
    }
   ],
   "source": [
    "from sklearn.model_selection import cross_validate\n",
    "res = cross_validate(pipeline, X_train, y_train, cv=5, return_train_score=True)\n",
    "\n",
    "#make DataFrame of result for better Visualisation\n",
    "res_df = pd.DataFrame(res)\n",
    "display(res_df)\n",
    "\n",
    "#Print Mean of all Scores\n",
    "print(\"Mean times and scores:\\n\", res_df.mean())"
   ]
  },
  {
   "cell_type": "markdown",
   "metadata": {},
   "source": [
    "### Untersuchung der Predictions"
   ]
  },
  {
   "cell_type": "code",
   "execution_count": 52,
   "metadata": {},
   "outputs": [
    {
     "data": {
      "text/html": [
       "<div>\n",
       "<style scoped>\n",
       "    .dataframe tbody tr th:only-of-type {\n",
       "        vertical-align: middle;\n",
       "    }\n",
       "\n",
       "    .dataframe tbody tr th {\n",
       "        vertical-align: top;\n",
       "    }\n",
       "\n",
       "    .dataframe thead th {\n",
       "        text-align: right;\n",
       "    }\n",
       "</style>\n",
       "<table border=\"1\" class=\"dataframe\">\n",
       "  <thead>\n",
       "    <tr style=\"text-align: right;\">\n",
       "      <th></th>\n",
       "      <th>X_test</th>\n",
       "      <th>y_test</th>\n",
       "      <th>prediction</th>\n",
       "      <th>vergleich</th>\n",
       "    </tr>\n",
       "  </thead>\n",
       "  <tbody>\n",
       "    <tr>\n",
       "      <th>13113</th>\n",
       "      <td>['speed', 'shine', 'good', 'product', 'purchas...</td>\n",
       "      <td>positiv</td>\n",
       "      <td>positiv</td>\n",
       "      <td>True</td>\n",
       "    </tr>\n",
       "    <tr>\n",
       "      <th>3016</th>\n",
       "      <td>['wheel', 'covers', 'ordered', 'properly', 'si...</td>\n",
       "      <td>negativ</td>\n",
       "      <td>positiv</td>\n",
       "      <td>False</td>\n",
       "    </tr>\n",
       "    <tr>\n",
       "      <th>10355</th>\n",
       "      <td>['definitely', 'improvement', 'results', 'near...</td>\n",
       "      <td>negativ</td>\n",
       "      <td>negativ</td>\n",
       "      <td>True</td>\n",
       "    </tr>\n",
       "    <tr>\n",
       "      <th>10208</th>\n",
       "      <td>['ordered', 'based', 'product', 'name', 'size'...</td>\n",
       "      <td>negativ</td>\n",
       "      <td>negativ</td>\n",
       "      <td>True</td>\n",
       "    </tr>\n",
       "    <tr>\n",
       "      <th>12661</th>\n",
       "      <td>['price', 'best', 'option', 'simple', 'black',...</td>\n",
       "      <td>negativ</td>\n",
       "      <td>positiv</td>\n",
       "      <td>False</td>\n",
       "    </tr>\n",
       "  </tbody>\n",
       "</table>\n",
       "</div>"
      ],
      "text/plain": [
       "                                                  X_test   y_test prediction  \\\n",
       "13113  ['speed', 'shine', 'good', 'product', 'purchas...  positiv    positiv   \n",
       "3016   ['wheel', 'covers', 'ordered', 'properly', 'si...  negativ    positiv   \n",
       "10355  ['definitely', 'improvement', 'results', 'near...  negativ    negativ   \n",
       "10208  ['ordered', 'based', 'product', 'name', 'size'...  negativ    negativ   \n",
       "12661  ['price', 'best', 'option', 'simple', 'black',...  negativ    positiv   \n",
       "\n",
       "       vergleich  \n",
       "13113       True  \n",
       "3016       False  \n",
       "10355       True  \n",
       "10208       True  \n",
       "12661      False  "
      ]
     },
     "execution_count": 52,
     "metadata": {},
     "output_type": "execute_result"
    }
   ],
   "source": [
    "# Erstellung eines DataFrames mit den Spalten: X_test, y_test, prediction\n",
    "predictions = model.predict(X_test)\n",
    "df_prediction = pd.DataFrame({\n",
    "    'X_test': X_test,\n",
    "    'y_test': y_test,\n",
    "    'prediction': predictions\n",
    "})\n",
    "\n",
    "# neue Spalte, die Values von Spalten y_test und prediction vergleicht\n",
    "df_prediction['vergleich'] = df_prediction['y_test'] == df_prediction['prediction']\n",
    "\n",
    "df_prediction.head()"
   ]
  },
  {
   "cell_type": "code",
   "execution_count": 53,
   "metadata": {},
   "outputs": [
    {
     "data": {
      "text/html": [
       "<div>\n",
       "<style scoped>\n",
       "    .dataframe tbody tr th:only-of-type {\n",
       "        vertical-align: middle;\n",
       "    }\n",
       "\n",
       "    .dataframe tbody tr th {\n",
       "        vertical-align: top;\n",
       "    }\n",
       "\n",
       "    .dataframe thead th {\n",
       "        text-align: right;\n",
       "    }\n",
       "</style>\n",
       "<table border=\"1\" class=\"dataframe\">\n",
       "  <thead>\n",
       "    <tr style=\"text-align: right;\">\n",
       "      <th></th>\n",
       "      <th>X_test</th>\n",
       "      <th>y_test</th>\n",
       "      <th>prediction</th>\n",
       "      <th>vergleich</th>\n",
       "    </tr>\n",
       "  </thead>\n",
       "  <tbody>\n",
       "    <tr>\n",
       "      <th>0</th>\n",
       "      <td>['wheel', 'covers', 'ordered', 'properly', 'si...</td>\n",
       "      <td>negativ</td>\n",
       "      <td>positiv</td>\n",
       "      <td>False</td>\n",
       "    </tr>\n",
       "    <tr>\n",
       "      <th>1</th>\n",
       "      <td>['price', 'best', 'option', 'simple', 'black',...</td>\n",
       "      <td>negativ</td>\n",
       "      <td>positiv</td>\n",
       "      <td>False</td>\n",
       "    </tr>\n",
       "    <tr>\n",
       "      <th>2</th>\n",
       "      <td>['much', 'say', 'product', 'fits', '125a', '5a...</td>\n",
       "      <td>negativ</td>\n",
       "      <td>positiv</td>\n",
       "      <td>False</td>\n",
       "    </tr>\n",
       "    <tr>\n",
       "      <th>3</th>\n",
       "      <td>['ice', 'scraper', 'well', 'designed', 'sturdy...</td>\n",
       "      <td>positiv</td>\n",
       "      <td>negativ</td>\n",
       "      <td>False</td>\n",
       "    </tr>\n",
       "    <tr>\n",
       "      <th>4</th>\n",
       "      <td>['based', 'several', 'reviews', 'reputation', ...</td>\n",
       "      <td>negativ</td>\n",
       "      <td>positiv</td>\n",
       "      <td>False</td>\n",
       "    </tr>\n",
       "  </tbody>\n",
       "</table>\n",
       "</div>"
      ],
      "text/plain": [
       "                                              X_test   y_test prediction  \\\n",
       "0  ['wheel', 'covers', 'ordered', 'properly', 'si...  negativ    positiv   \n",
       "1  ['price', 'best', 'option', 'simple', 'black',...  negativ    positiv   \n",
       "2  ['much', 'say', 'product', 'fits', '125a', '5a...  negativ    positiv   \n",
       "3  ['ice', 'scraper', 'well', 'designed', 'sturdy...  positiv    negativ   \n",
       "4  ['based', 'several', 'reviews', 'reputation', ...  negativ    positiv   \n",
       "\n",
       "   vergleich  \n",
       "0      False  \n",
       "1      False  \n",
       "2      False  \n",
       "3      False  \n",
       "4      False  "
      ]
     },
     "execution_count": 53,
     "metadata": {},
     "output_type": "execute_result"
    }
   ],
   "source": [
    "# Speichern der Zeilen mit unterschiedlichen Werten in den Spalten \"y_test\" und \"prediction\" in einem neuen DF \n",
    "# und setzt Index zurück \n",
    "df_false_predictions = df_prediction[df_prediction.vergleich == False].reset_index(drop = True)\n",
    "\n",
    "df_false_predictions.head()"
   ]
  },
  {
   "cell_type": "code",
   "execution_count": 54,
   "metadata": {},
   "outputs": [],
   "source": [
    "# Erstellung einer CSV Datei mit den falsch predicteden Zeilen\n",
    "df_false_predictions.to_csv(\"false_predictions.csv\", sep=';',index=False)"
   ]
  },
  {
   "cell_type": "code",
   "execution_count": 64,
   "metadata": {},
   "outputs": [
    {
     "data": {
      "text/plain": [
       "\"['wheel', 'covers', 'ordered', 'properly', 'size', 'tires', 'fit', 'nice', 'snug', 'one', 'covers', 'blows', 'wheel', 'winds', 'happy', 'product', 'even', 'though', 'purchased', 'amazon']\""
      ]
     },
     "execution_count": 64,
     "metadata": {},
     "output_type": "execute_result"
    }
   ],
   "source": [
    "# Ausgabe eines Reviews, das negativ ist aber positiv predicted wurde\n",
    "predict_false_positiv = df_false_predictions[df_false_predictions['prediction'] == 'positiv']\n",
    "predict_false_positiv['X_test'].iloc[0]"
   ]
  },
  {
   "cell_type": "code",
   "execution_count": 65,
   "metadata": {},
   "outputs": [
    {
     "data": {
      "text/plain": [
       "\"['ice', 'scraper', 'well', 'designed', 'sturdy', 'enough', 'chisel', 'ice', 'brush', 'away', 'large', 'amounts', 'snow', 'lot', 'ice', 'scrapers', 'chisels', 'brushes', 'opposite', 'ends', 'handle', 'makes', 'using', 'chisel', 'cumbersome', 'since', 'hold', 'device', 'brush', 'however', 'hopkins', 'ice', 'hammer', 'placed', 'chisel', 'brush', 'end', 'device', 'overall', 'satisfied']\""
      ]
     },
     "execution_count": 65,
     "metadata": {},
     "output_type": "execute_result"
    }
   ],
   "source": [
    "# Ausgabe eines Reviews, das positiv ist aber negativ predicted wurde\n",
    "predict_false_negativ = df_false_predictions[df_false_predictions['prediction'] == 'negativ']\n",
    "predict_false_negativ['X_test'].iloc[0]"
   ]
  },
  {
   "cell_type": "code",
   "execution_count": null,
   "metadata": {},
   "outputs": [],
   "source": []
  }
 ],
 "metadata": {
  "kernelspec": {
   "display_name": "Python 3",
   "language": "python",
   "name": "python3"
  },
  "language_info": {
   "codemirror_mode": {
    "name": "ipython",
    "version": 3
   },
   "file_extension": ".py",
   "mimetype": "text/x-python",
   "name": "python",
   "nbconvert_exporter": "python",
   "pygments_lexer": "ipython3",
   "version": "3.7.0"
  }
 },
 "nbformat": 4,
 "nbformat_minor": 2
}
