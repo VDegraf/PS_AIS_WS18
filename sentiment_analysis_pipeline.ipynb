{
 "cells": [
  {
   "cell_type": "markdown",
   "metadata": {},
   "source": [
    "## Sentiment Analysis of Amazon Review Data"
   ]
  },
  {
   "cell_type": "markdown",
   "metadata": {},
   "source": []
  },
  {
   "cell_type": "code",
   "execution_count": 151,
   "metadata": {},
   "outputs": [],
   "source": [
    "import json\n",
    "import pandas as pd\n",
    "import re\n",
    "import numpy as np\n",
    "from sklearn.feature_extraction.text import TfidfVectorizer, CountVectorizer, TfidfTransformer\n",
    "from sklearn.svm import LinearSVC\n",
    "from sklearn.pipeline import Pipeline\n",
    "from sklearn.model_selection import train_test_split\n",
    "from sklearn.feature_selection import SelectKBest, chi2, SelectPercentile, f_classif\n",
    "from sklearn.naive_bayes import MultinomialNB\n",
    "from sklearn.linear_model import LogisticRegression"
   ]
  },
  {
   "cell_type": "code",
   "execution_count": 152,
   "metadata": {},
   "outputs": [],
   "source": [
    "with open('config.json') as json_data_file:\n",
    "    config = json.load(json_data_file)"
   ]
  },
  {
   "cell_type": "code",
   "execution_count": 153,
   "metadata": {},
   "outputs": [
    {
     "data": {
      "text/html": [
       "<div>\n",
       "<style scoped>\n",
       "    .dataframe tbody tr th:only-of-type {\n",
       "        vertical-align: middle;\n",
       "    }\n",
       "\n",
       "    .dataframe tbody tr th {\n",
       "        vertical-align: top;\n",
       "    }\n",
       "\n",
       "    .dataframe thead th {\n",
       "        text-align: right;\n",
       "    }\n",
       "</style>\n",
       "<table border=\"1\" class=\"dataframe\">\n",
       "  <thead>\n",
       "    <tr style=\"text-align: right;\">\n",
       "      <th></th>\n",
       "      <th>review</th>\n",
       "      <th>rating</th>\n",
       "      <th>product</th>\n",
       "    </tr>\n",
       "  </thead>\n",
       "  <tbody>\n",
       "    <tr>\n",
       "      <th>0</th>\n",
       "      <td>['needed', 'set', 'jumper', 'cables', 'new', '...</td>\n",
       "      <td>5.0</td>\n",
       "      <td>B00002243X</td>\n",
       "    </tr>\n",
       "    <tr>\n",
       "      <th>1</th>\n",
       "      <td>['long', 'cables', 'work', 'fine', 'truck', 'q...</td>\n",
       "      <td>4.0</td>\n",
       "      <td>B00002243X</td>\n",
       "    </tr>\n",
       "    <tr>\n",
       "      <th>2</th>\n",
       "      <td>['comment', 'much', 'since', 'yet', 'used', 'c...</td>\n",
       "      <td>5.0</td>\n",
       "      <td>B00002243X</td>\n",
       "    </tr>\n",
       "    <tr>\n",
       "      <th>3</th>\n",
       "      <td>['absolutley', 'love', 'amazon', 'price', 'set...</td>\n",
       "      <td>5.0</td>\n",
       "      <td>B00002243X</td>\n",
       "    </tr>\n",
       "    <tr>\n",
       "      <th>4</th>\n",
       "      <td>['purchased', 'twelve', 'feet', 'long', 'cable...</td>\n",
       "      <td>5.0</td>\n",
       "      <td>B00002243X</td>\n",
       "    </tr>\n",
       "  </tbody>\n",
       "</table>\n",
       "</div>"
      ],
      "text/plain": [
       "                                              review  rating     product\n",
       "0  ['needed', 'set', 'jumper', 'cables', 'new', '...     5.0  B00002243X\n",
       "1  ['long', 'cables', 'work', 'fine', 'truck', 'q...     4.0  B00002243X\n",
       "2  ['comment', 'much', 'since', 'yet', 'used', 'c...     5.0  B00002243X\n",
       "3  ['absolutley', 'love', 'amazon', 'price', 'set...     5.0  B00002243X\n",
       "4  ['purchased', 'twelve', 'feet', 'long', 'cable...     5.0  B00002243X"
      ]
     },
     "execution_count": 153,
     "metadata": {},
     "output_type": "execute_result"
    }
   ],
   "source": [
    "data = pd.read_csv(\"./Data_filtered/reviews_Automotive.csv\", sep=\";\")\n",
    "data.head(5)"
   ]
  },
  {
   "cell_type": "code",
   "execution_count": 154,
   "metadata": {},
   "outputs": [
    {
     "data": {
      "text/html": [
       "<div>\n",
       "<style scoped>\n",
       "    .dataframe tbody tr th:only-of-type {\n",
       "        vertical-align: middle;\n",
       "    }\n",
       "\n",
       "    .dataframe tbody tr th {\n",
       "        vertical-align: top;\n",
       "    }\n",
       "\n",
       "    .dataframe thead th {\n",
       "        text-align: right;\n",
       "    }\n",
       "</style>\n",
       "<table border=\"1\" class=\"dataframe\">\n",
       "  <thead>\n",
       "    <tr style=\"text-align: right;\">\n",
       "      <th></th>\n",
       "      <th>review</th>\n",
       "      <th>rating</th>\n",
       "      <th>product</th>\n",
       "      <th>label</th>\n",
       "    </tr>\n",
       "  </thead>\n",
       "  <tbody>\n",
       "    <tr>\n",
       "      <th>0</th>\n",
       "      <td>['needed', 'set', 'jumper', 'cables', 'new', '...</td>\n",
       "      <td>5.0</td>\n",
       "      <td>B00002243X</td>\n",
       "      <td>positiv</td>\n",
       "    </tr>\n",
       "    <tr>\n",
       "      <th>1</th>\n",
       "      <td>['long', 'cables', 'work', 'fine', 'truck', 'q...</td>\n",
       "      <td>4.0</td>\n",
       "      <td>B00002243X</td>\n",
       "      <td>positiv</td>\n",
       "    </tr>\n",
       "    <tr>\n",
       "      <th>2</th>\n",
       "      <td>['comment', 'much', 'since', 'yet', 'used', 'c...</td>\n",
       "      <td>5.0</td>\n",
       "      <td>B00002243X</td>\n",
       "      <td>positiv</td>\n",
       "    </tr>\n",
       "    <tr>\n",
       "      <th>3</th>\n",
       "      <td>['absolutley', 'love', 'amazon', 'price', 'set...</td>\n",
       "      <td>5.0</td>\n",
       "      <td>B00002243X</td>\n",
       "      <td>positiv</td>\n",
       "    </tr>\n",
       "    <tr>\n",
       "      <th>4</th>\n",
       "      <td>['purchased', 'twelve', 'feet', 'long', 'cable...</td>\n",
       "      <td>5.0</td>\n",
       "      <td>B00002243X</td>\n",
       "      <td>positiv</td>\n",
       "    </tr>\n",
       "  </tbody>\n",
       "</table>\n",
       "</div>"
      ],
      "text/plain": [
       "                                              review  rating     product  \\\n",
       "0  ['needed', 'set', 'jumper', 'cables', 'new', '...     5.0  B00002243X   \n",
       "1  ['long', 'cables', 'work', 'fine', 'truck', 'q...     4.0  B00002243X   \n",
       "2  ['comment', 'much', 'since', 'yet', 'used', 'c...     5.0  B00002243X   \n",
       "3  ['absolutley', 'love', 'amazon', 'price', 'set...     5.0  B00002243X   \n",
       "4  ['purchased', 'twelve', 'feet', 'long', 'cable...     5.0  B00002243X   \n",
       "\n",
       "     label  \n",
       "0  positiv  \n",
       "1  positiv  \n",
       "2  positiv  \n",
       "3  positiv  \n",
       "4  positiv  "
      ]
     },
     "execution_count": 154,
     "metadata": {},
     "output_type": "execute_result"
    }
   ],
   "source": [
    "# 1, 2, 3 = negativ 4, 5 = positiv\n",
    "data[\"label\"] = pd.cut(data[\"rating\"], bins = config[\"label_two\"][\"bins\"], labels = config[\"label_two\"][\"labels\"])\n",
    "data[\"label\"] = data[\"label\"].astype(str)\n",
    "data.head(5)"
   ]
  },
  {
   "cell_type": "code",
   "execution_count": 155,
   "metadata": {},
   "outputs": [],
   "source": [
    "X_train, X_test, y_train, y_test = train_test_split(data['review'], data['label'], test_size=0.2, random_state=42, stratify=data['label'])\n",
    "\n",
    "#Vectorizer\n",
    "vect = CountVectorizer()\n",
    "#vect = TfidfVectorizer()\n",
    "\n",
    "#feature selection\n",
    "f_select = SelectKBest(f_classif, k=10000)\n",
    "f_select = SelectPercentile(f_classif, percentile=20)\n",
    "\n",
    "from sklearn.ensemble import RandomForestClassifier\n",
    "\n",
    "#Classifier\n",
    "#clf = MultinomialNB(alpha=1.0, class_prior=None, fit_prior=False)\n",
    "#clf = LinearSVC(C=1.0, penalty= \"l1\", max_iter=3000, dual=False)\n",
    "clf = RandomForestClassifier(n_estimators=1000, max_depth=2, random_state=42)\n",
    "#clf = LogisticRegression(random_state=42, class_weight=None, max_iter=3000)\n",
    "\n",
    "\n",
    "\n",
    "#Building the Pipeline\n",
    "pipeline = Pipeline([('vect', vect),\n",
    "                     ('f_select', f_select), \n",
    "                     ('clf', clf)])"
   ]
  },
  {
   "cell_type": "code",
   "execution_count": 156,
   "metadata": {
    "scrolled": true
   },
   "outputs": [
    {
     "name": "stdout",
     "output_type": "stream",
     "text": [
      "accuracy score: 0.8740994016363415\n"
     ]
    }
   ],
   "source": [
    "from sklearn import metrics\n",
    "model = pipeline.fit(X_train, y_train)\n",
    "\n",
    "#Results step of Pipeline\n",
    "vectorizer = model.named_steps['vect']\n",
    "feature_selection = model.named_steps['f_select']\n",
    "classifier = model.named_steps['clf']\n",
    "\n",
    "\n",
    "#Accuracy score of Train Data\n",
    "print(\"accuracy score: \" + str(model.score(X_train, y_train)))"
   ]
  },
  {
   "cell_type": "code",
   "execution_count": 157,
   "metadata": {
    "scrolled": true
   },
   "outputs": [
    {
     "name": "stdout",
     "output_type": "stream",
     "text": [
      "accuracy score: 0.873992673992674\n",
      "Classificaton Report:\n",
      "              precision    recall  f1-score   support\n",
      "\n",
      "     negativ       0.00      0.00      0.00       516\n",
      "     positiv       0.87      1.00      0.93      3579\n",
      "\n",
      "   micro avg       0.87      0.87      0.87      4095\n",
      "   macro avg       0.44      0.50      0.47      4095\n",
      "weighted avg       0.76      0.87      0.82      4095\n",
      "\n"
     ]
    },
    {
     "name": "stderr",
     "output_type": "stream",
     "text": [
      "C:\\Users\\Vitalstuttgarter\\Anaconda3\\lib\\site-packages\\sklearn\\metrics\\classification.py:1143: UndefinedMetricWarning: Precision and F-score are ill-defined and being set to 0.0 in labels with no predicted samples.\n",
      "  'precision', 'predicted', average, warn_for)\n",
      "C:\\Users\\Vitalstuttgarter\\Anaconda3\\lib\\site-packages\\sklearn\\metrics\\classification.py:1143: UndefinedMetricWarning: Precision and F-score are ill-defined and being set to 0.0 in labels with no predicted samples.\n",
      "  'precision', 'predicted', average, warn_for)\n",
      "C:\\Users\\Vitalstuttgarter\\Anaconda3\\lib\\site-packages\\sklearn\\metrics\\classification.py:1143: UndefinedMetricWarning: Precision and F-score are ill-defined and being set to 0.0 in labels with no predicted samples.\n",
      "  'precision', 'predicted', average, warn_for)\n"
     ]
    }
   ],
   "source": [
    "from sklearn.metrics import accuracy_score\n",
    "model = pipeline.fit(X_train, y_train)\n",
    "\n",
    "#Accuracy Score of Model prediction \n",
    "print(\"accuracy score: \" + str(model.score(X_test, y_test)))\n",
    "\n",
    "#Report on prediction of model\n",
    "predictions = model.predict(X_test)\n",
    "print(\"Classificaton Report:\")\n",
    "print(metrics.classification_report(y_true=y_test, y_pred=predictions))"
   ]
  },
  {
   "cell_type": "code",
   "execution_count": 158,
   "metadata": {},
   "outputs": [
    {
     "name": "stdout",
     "output_type": "stream",
     "text": [
      "['positiv']\n",
      "['positiv']\n",
      "['positiv']\n"
     ]
    }
   ],
   "source": [
    "#Test with Manual review Text\n",
    "print(model.predict(['My thing broke, very bad']))\n",
    "print(model.predict(['My order broke and I am very disappointed']))\n",
    "print(model.predict(['My order works perfect and and I am very glad I bought it']))"
   ]
  },
  {
   "cell_type": "code",
   "execution_count": 159,
   "metadata": {},
   "outputs": [
    {
     "data": {
      "image/png": "[encoded data removed]",
      "text/plain": [
       "<Figure size 432x288 with 1 Axes>"
      ]
     },
     "metadata": {
      "needs_background": "light"
     },
     "output_type": "display_data"
    }
   ],
   "source": [
    "#Confusion matrix of model\n",
    "from sklearn.metrics import confusion_matrix\n",
    "import seaborn as sns\n",
    "import matplotlib.pyplot as plt\n",
    "\n",
    "labels = model.predict(X_test)\n",
    "target_names = ['Negativ', 'Positiv']\n",
    "mat = confusion_matrix(y_test, labels)\n",
    "sns.heatmap(mat.T, square=True, annot=True, fmt='d', cbar=False,\n",
    "            xticklabels=target_names, yticklabels=target_names)\n",
    "plt.xlabel('true label')\n",
    "plt.ylabel('predicted label')\n",
    "plt.show()"
   ]
  },
  {
   "cell_type": "code",
   "execution_count": 160,
   "metadata": {},
   "outputs": [
    {
     "name": "stdout",
     "output_type": "stream",
     "text": [
      "Cross-validation scores: [0.87397009 0.87393162 0.87419847 0.87419847 0.87419847]\n",
      "Mean accuracy: 0.8740994276755341\n"
     ]
    }
   ],
   "source": [
    "from sklearn.model_selection import cross_val_score,  KFold\n",
    "\n",
    "#kfold\n",
    "kfold = KFold(n_splits=5)\n",
    "\n",
    "#StratifiedKFold\n",
    "#standard for cv=INT is stratified k-fold\n",
    "\n",
    "scores = cross_val_score(pipeline, X_train, y_train, cv=5)\n",
    "print(\"Cross-validation scores: {}\".format(scores))\n",
    "print(\"Mean accuracy: {}\".format(scores.mean()))"
   ]
  },
  {
   "cell_type": "code",
   "execution_count": 161,
   "metadata": {},
   "outputs": [
    {
     "data": {
      "text/html": [
       "<div>\n",
       "<style scoped>\n",
       "    .dataframe tbody tr th:only-of-type {\n",
       "        vertical-align: middle;\n",
       "    }\n",
       "\n",
       "    .dataframe tbody tr th {\n",
       "        vertical-align: top;\n",
       "    }\n",
       "\n",
       "    .dataframe thead th {\n",
       "        text-align: right;\n",
       "    }\n",
       "</style>\n",
       "<table border=\"1\" class=\"dataframe\">\n",
       "  <thead>\n",
       "    <tr style=\"text-align: right;\">\n",
       "      <th></th>\n",
       "      <th>fit_time</th>\n",
       "      <th>score_time</th>\n",
       "      <th>test_score</th>\n",
       "      <th>train_score</th>\n",
       "    </tr>\n",
       "  </thead>\n",
       "  <tbody>\n",
       "    <tr>\n",
       "      <th>0</th>\n",
       "      <td>2.846407</td>\n",
       "      <td>0.590400</td>\n",
       "      <td>0.873970</td>\n",
       "      <td>0.874132</td>\n",
       "    </tr>\n",
       "    <tr>\n",
       "      <th>1</th>\n",
       "      <td>3.259351</td>\n",
       "      <td>0.605317</td>\n",
       "      <td>0.873932</td>\n",
       "      <td>0.874141</td>\n",
       "    </tr>\n",
       "    <tr>\n",
       "      <th>2</th>\n",
       "      <td>3.882621</td>\n",
       "      <td>0.861696</td>\n",
       "      <td>0.874198</td>\n",
       "      <td>0.874075</td>\n",
       "    </tr>\n",
       "    <tr>\n",
       "      <th>3</th>\n",
       "      <td>3.138578</td>\n",
       "      <td>0.929549</td>\n",
       "      <td>0.874198</td>\n",
       "      <td>0.874075</td>\n",
       "    </tr>\n",
       "    <tr>\n",
       "      <th>4</th>\n",
       "      <td>3.355119</td>\n",
       "      <td>0.655132</td>\n",
       "      <td>0.874198</td>\n",
       "      <td>0.874075</td>\n",
       "    </tr>\n",
       "  </tbody>\n",
       "</table>\n",
       "</div>"
      ],
      "text/plain": [
       "   fit_time  score_time  test_score  train_score\n",
       "0  2.846407    0.590400    0.873970     0.874132\n",
       "1  3.259351    0.605317    0.873932     0.874141\n",
       "2  3.882621    0.861696    0.874198     0.874075\n",
       "3  3.138578    0.929549    0.874198     0.874075\n",
       "4  3.355119    0.655132    0.874198     0.874075"
      ]
     },
     "metadata": {},
     "output_type": "display_data"
    },
    {
     "name": "stdout",
     "output_type": "stream",
     "text": [
      "Mean times and scores:\n",
      " fit_time       3.296415\n",
      "score_time     0.728419\n",
      "test_score     0.874099\n",
      "train_score    0.874099\n",
      "dtype: float64\n"
     ]
    }
   ],
   "source": [
    "from sklearn.model_selection import cross_validate\n",
    "res = cross_validate(pipeline, X_train, y_train, cv=5, return_train_score=True)\n",
    "\n",
    "#make DataFrame of result for better Visualisation\n",
    "res_df = pd.DataFrame(res)\n",
    "display(res_df)\n",
    "\n",
    "#Print Mean of all Scores\n",
    "print(\"Mean times and scores:\\n\", res_df.mean())"
   ]
  },
  {
   "cell_type": "markdown",
   "metadata": {},
   "source": [
    "### Untersuchung der Predictions"
   ]
  },
  {
   "cell_type": "code",
   "execution_count": 162,
   "metadata": {},
   "outputs": [
    {
     "data": {
      "text/html": [
       "<div>\n",
       "<style scoped>\n",
       "    .dataframe tbody tr th:only-of-type {\n",
       "        vertical-align: middle;\n",
       "    }\n",
       "\n",
       "    .dataframe tbody tr th {\n",
       "        vertical-align: top;\n",
       "    }\n",
       "\n",
       "    .dataframe thead th {\n",
       "        text-align: right;\n",
       "    }\n",
       "</style>\n",
       "<table border=\"1\" class=\"dataframe\">\n",
       "  <thead>\n",
       "    <tr style=\"text-align: right;\">\n",
       "      <th></th>\n",
       "      <th>X_test</th>\n",
       "      <th>y_test</th>\n",
       "      <th>prediction</th>\n",
       "      <th>vergleich</th>\n",
       "    </tr>\n",
       "  </thead>\n",
       "  <tbody>\n",
       "    <tr>\n",
       "      <th>15806</th>\n",
       "      <td>['tire', 'gauges', 'kind', 'thing', 'makes', '...</td>\n",
       "      <td>positiv</td>\n",
       "      <td>positiv</td>\n",
       "      <td>True</td>\n",
       "    </tr>\n",
       "    <tr>\n",
       "      <th>541</th>\n",
       "      <td>['like', 'said', 'title', 'review', 'say', 'pr...</td>\n",
       "      <td>positiv</td>\n",
       "      <td>positiv</td>\n",
       "      <td>True</td>\n",
       "    </tr>\n",
       "    <tr>\n",
       "      <th>1724</th>\n",
       "      <td>['comfortable', 'product', 'eliminate', 'stubb...</td>\n",
       "      <td>positiv</td>\n",
       "      <td>positiv</td>\n",
       "      <td>True</td>\n",
       "    </tr>\n",
       "    <tr>\n",
       "      <th>3586</th>\n",
       "      <td>['must', 'tool', 'people', 'work', 'cars', 'se...</td>\n",
       "      <td>positiv</td>\n",
       "      <td>positiv</td>\n",
       "      <td>True</td>\n",
       "    </tr>\n",
       "    <tr>\n",
       "      <th>15830</th>\n",
       "      <td>['purchased', 'joe', 'racing', 'pressure', 'ga...</td>\n",
       "      <td>positiv</td>\n",
       "      <td>positiv</td>\n",
       "      <td>True</td>\n",
       "    </tr>\n",
       "  </tbody>\n",
       "</table>\n",
       "</div>"
      ],
      "text/plain": [
       "                                                  X_test   y_test prediction  \\\n",
       "15806  ['tire', 'gauges', 'kind', 'thing', 'makes', '...  positiv    positiv   \n",
       "541    ['like', 'said', 'title', 'review', 'say', 'pr...  positiv    positiv   \n",
       "1724   ['comfortable', 'product', 'eliminate', 'stubb...  positiv    positiv   \n",
       "3586   ['must', 'tool', 'people', 'work', 'cars', 'se...  positiv    positiv   \n",
       "15830  ['purchased', 'joe', 'racing', 'pressure', 'ga...  positiv    positiv   \n",
       "\n",
       "       vergleich  \n",
       "15806       True  \n",
       "541         True  \n",
       "1724        True  \n",
       "3586        True  \n",
       "15830       True  "
      ]
     },
     "execution_count": 162,
     "metadata": {},
     "output_type": "execute_result"
    }
   ],
   "source": [
    "# Erstellung eines DataFrames mit den Spalten: X_test, y_test, prediction\n",
    "predictions = model.predict(X_test)\n",
    "df_prediction = pd.DataFrame({\n",
    "    'X_test': X_test,\n",
    "    'y_test': y_test,\n",
    "    'prediction': predictions\n",
    "})\n",
    "\n",
    "# neue Spalte, die Values von Spalten y_test und prediction vergleicht\n",
    "df_prediction['vergleich'] = df_prediction['y_test'] == df_prediction['prediction']\n",
    "\n",
    "df_prediction.head()"
   ]
  },
  {
   "cell_type": "code",
   "execution_count": 163,
   "metadata": {},
   "outputs": [
    {
     "data": {
      "text/html": [
       "<div>\n",
       "<style scoped>\n",
       "    .dataframe tbody tr th:only-of-type {\n",
       "        vertical-align: middle;\n",
       "    }\n",
       "\n",
       "    .dataframe tbody tr th {\n",
       "        vertical-align: top;\n",
       "    }\n",
       "\n",
       "    .dataframe thead th {\n",
       "        text-align: right;\n",
       "    }\n",
       "</style>\n",
       "<table border=\"1\" class=\"dataframe\">\n",
       "  <thead>\n",
       "    <tr style=\"text-align: right;\">\n",
       "      <th></th>\n",
       "      <th>X_test</th>\n",
       "      <th>y_test</th>\n",
       "      <th>prediction</th>\n",
       "      <th>vergleich</th>\n",
       "    </tr>\n",
       "  </thead>\n",
       "  <tbody>\n",
       "    <tr>\n",
       "      <th>15707</th>\n",
       "      <td>['regulator', 'well', 'made', 'leak', 'job', '...</td>\n",
       "      <td>negativ</td>\n",
       "      <td>positiv</td>\n",
       "      <td>False</td>\n",
       "    </tr>\n",
       "    <tr>\n",
       "      <th>4998</th>\n",
       "      <td>['sleek', 'easy', 'mount', 'note', 'middle', '...</td>\n",
       "      <td>negativ</td>\n",
       "      <td>positiv</td>\n",
       "      <td>False</td>\n",
       "    </tr>\n",
       "    <tr>\n",
       "      <th>16996</th>\n",
       "      <td>['used', 'limited', 'fashion', 'preping', 'thi...</td>\n",
       "      <td>negativ</td>\n",
       "      <td>positiv</td>\n",
       "      <td>False</td>\n",
       "    </tr>\n",
       "    <tr>\n",
       "      <th>11443</th>\n",
       "      <td>['like', 'reviewers', 'found', 'blade', 'wipes...</td>\n",
       "      <td>negativ</td>\n",
       "      <td>positiv</td>\n",
       "      <td>False</td>\n",
       "    </tr>\n",
       "    <tr>\n",
       "      <th>10258</th>\n",
       "      <td>['thought', 'would', 'good', 'tool', 'cleaning...</td>\n",
       "      <td>negativ</td>\n",
       "      <td>positiv</td>\n",
       "      <td>False</td>\n",
       "    </tr>\n",
       "  </tbody>\n",
       "</table>\n",
       "</div>"
      ],
      "text/plain": [
       "                                                  X_test   y_test prediction  \\\n",
       "15707  ['regulator', 'well', 'made', 'leak', 'job', '...  negativ    positiv   \n",
       "4998   ['sleek', 'easy', 'mount', 'note', 'middle', '...  negativ    positiv   \n",
       "16996  ['used', 'limited', 'fashion', 'preping', 'thi...  negativ    positiv   \n",
       "11443  ['like', 'reviewers', 'found', 'blade', 'wipes...  negativ    positiv   \n",
       "10258  ['thought', 'would', 'good', 'tool', 'cleaning...  negativ    positiv   \n",
       "\n",
       "       vergleich  \n",
       "15707      False  \n",
       "4998       False  \n",
       "16996      False  \n",
       "11443      False  \n",
       "10258      False  "
      ]
     },
     "execution_count": 163,
     "metadata": {},
     "output_type": "execute_result"
    }
   ],
   "source": [
    "# Speichern der Zeilen mit unterschiedlichen Werten in den Spalten \"y_test\" und \"prediction\" in einem neuen DF\n",
    "df_false_predictions = df_prediction[df_prediction.vergleich == False]\n",
    "\n",
    "df_false_predictions.head()"
   ]
  },
  {
   "cell_type": "code",
   "execution_count": 164,
   "metadata": {},
   "outputs": [],
   "source": [
    "# Erstellung einer CSV Datei mit den falsch predicteden Zeilen\n",
    "df_false_predictions.to_csv(\"false_predictions.csv\", sep=';',index=False)"
   ]
  },
  {
   "cell_type": "code",
   "execution_count": null,
   "metadata": {},
   "outputs": [],
   "source": []
  }
 ],
 "metadata": {
  "kernelspec": {
   "display_name": "Python 3",
   "language": "python",
   "name": "python3"
  },
  "language_info": {
   "codemirror_mode": {
    "name": "ipython",
    "version": 3
   },
   "file_extension": ".py",
   "mimetype": "text/x-python",
   "name": "python",
   "nbconvert_exporter": "python",
   "pygments_lexer": "ipython3",
   "version": "3.7.0"
  }
 },
 "nbformat": 4,
 "nbformat_minor": 2
}
