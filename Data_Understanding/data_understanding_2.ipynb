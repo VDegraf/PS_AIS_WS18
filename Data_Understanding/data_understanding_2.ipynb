{
 "cells": [
  {
   "cell_type": "code",
   "execution_count": null,
   "metadata": {},
   "outputs": [],
   "source": [
    "import pandas as pd\n",
    "import numpy as np\n",
    "\n",
    "listwords=[[1,2,3,4,5,6],[1,2,3,4,5,6,7,8,9],[1,2,3,4,5,6,7,8,9,0,0],[1,2,3,4,5,6,7,8,9,1,2,3,4,5,6,7,8,9],[1,2,3,4,5,6],[1,2,3,4,5,6,7,8,9],[1,2,3,4,5,6,7,8,9,0,0],[1,2,3,4,5,6,7,8,9,1,2,3,4,5,6,7,8,9],[1,2,3,4,5,6],[1,2,3,4,5,6,7,8,9],[1,2,3,4,5,6,7,8,9,0,0],[1,2,3,4,5,6,7,8,9,1,2,3,4,5,6,7,8,9],[1,2,3,4,5,6],[1,2,3,4,5,6,7,8,9],[1,2,3,4,5,6,7,8,9,0,0],[1,2,3,4,5,6,7,8,9,1,2,3,4,5,6,7,8,9],[1,2,3,4,5,6],[1,2,3,4,5,6,7,8,9],[1,2,3,4,5,6,7,8,9,0,0],[1,2,3,4,5,6,7,8,9,1,2,3,4,5,6,7,8,9],[1,2,3,4,5,6],[1,2,3,4,5,6,7,8,9],[1,2,3,4,5,6,7,8,9,0,0],[1,2,3,4,5,6,7,8,9,1,2,3,4,5,6,7,8,9],[1,2,3,4,5,6],[1,2,3,4,5,6,7,8,9],[1,2,3,4,5,6,7,8,9,0,0],[1,2,3,4,5,6,7,8,9,1,2,3,4,5,6,7,8,9],[1,2,3,4,5,6],[1,2,3,4,5,6,7,8,9],[1,2,3,4,5,6,7,8,9,0,0],[1,2,3,4,5,6,7,8,9,1,2,3,4,5,6,7,8,9]]\n",
    "\n",
    "def reviewlength(listwords):\n",
    "    l=[]\n",
    "    for i in range(len(listwords)):\n",
    "        l.append(len(listwords[i])) \n",
    "    m=pd.value_counts(l)\n",
    "    n=sum(l)/len(l)\n",
    "    print(\"Verteilung der Länge der Reviews:\")\n",
    "    print()\n",
    "    print(m)\n",
    "    print()\n",
    "    print()\n",
    "    print(\"Durchschnittliche Länge der Reviews:\")\n",
    "    print()\n",
    "    print(n)"
   ]
  }
 ],
 "metadata": {
  "kernelspec": {
   "display_name": "Python 3",
   "language": "python",
   "name": "python3"
  },
  "language_info": {
   "codemirror_mode": {
    "name": "ipython",
    "version": 3
   },
   "file_extension": ".py",
   "mimetype": "text/x-python",
   "name": "python",
   "nbconvert_exporter": "python",
   "pygments_lexer": "ipython3",
   "version": "3.7.0"
  }
 },
 "nbformat": 4,
 "nbformat_minor": 2
}
