{
 "cells": [
  {
   "cell_type": "markdown",
   "metadata": {},
   "source": [
    "# Datenverständnis 2"
   ]
  },
  {
   "cell_type": "markdown",
   "metadata": {},
   "source": [
    "## Beschreibungen"
   ]
  },
  {
   "cell_type": "markdown",
   "metadata": {},
   "source": [
    "## 1.Allgemeines"
   ]
  },
  {
   "cell_type": "code",
   "execution_count": null,
   "metadata": {},
   "outputs": [],
   "source": [
    "#Importbefehle von Pandas und Numphy\n",
    "import pandas as pd\n",
    "import numpy as np"
   ]
  },
  {
   "cell_type": "code",
   "execution_count": null,
   "metadata": {},
   "outputs": [],
   "source": [
    "#Einlesen der Daten\n",
    "listwords= pd.read_csv(path)"
   ]
  },
  {
   "cell_type": "markdown",
   "metadata": {},
   "source": [
    "## 2.Verteilung der Länge der Reviews "
   ]
  },
  {
   "cell_type": "code",
   "execution_count": null,
   "metadata": {},
   "outputs": [],
   "source": [
    "#Erstellen einer leeren Liste zu Ergebnissicherung\n",
    "l=[]"
   ]
  },
  {
   "cell_type": "code",
   "execution_count": null,
   "metadata": {},
   "outputs": [],
   "source": [
    "#Durchlaufen der Liste und Einfügen in die Ergebnissliste\n",
    "for i in range(len(listwords)):\n",
    "        l.append(len(listwords[i])) "
   ]
  },
  {
   "cell_type": "code",
   "execution_count": null,
   "metadata": {},
   "outputs": [],
   "source": [
    "#Zählen und Anzeigen der verschiedenen Längen der Reviews\n",
    "print(pd.value_counts(l))"
   ]
  },
  {
   "cell_type": "markdown",
   "metadata": {},
   "source": [
    "## 3.Durchschnittliche Länge der Reviews"
   ]
  },
  {
   "cell_type": "code",
   "execution_count": null,
   "metadata": {},
   "outputs": [],
   "source": [
    "#Berechnung der durchschnittlichen Länge der Reviews\n",
    "print(sum(l)/len(l))"
   ]
  },
  {
   "cell_type": "markdown",
   "metadata": {},
   "source": [
    "## 4.Erstellung einer Funktion mit den oben genannten Aktivitäten"
   ]
  },
  {
   "cell_type": "code",
   "execution_count": null,
   "metadata": {},
   "outputs": [],
   "source": [
    "import pandas as pd\n",
    "import numpy as np\n",
    "\n",
    "def reviewlength(path):\n",
    "    def parse(path):\n",
    "      g = gzip.open(path, 'rb')\n",
    "      for l in g:\n",
    "            yield eval(l)\n",
    "\n",
    "    def getDF(path):\n",
    "      i = 0\n",
    "      df = {}\n",
    "      for d in parse(path):\n",
    "        df[i] = d\n",
    "        i += 1\n",
    "      return pd.DataFrame.from_dict(df, orient='index')\n",
    "\n",
    "    path = './Rumprobieren/data/data.json.gz'\n",
    "    listwords = getDF(path)\n",
    "    \n",
    "    listwords= pd.read_csv(path)\n",
    "    l=[]\n",
    "    for i in range(len(listwords)):\n",
    "        l.append(len(listwords[i])) \n",
    "    m=pd.value_counts(l)\n",
    "    n=sum(l)/len(l)\n",
    "    print(\"Verteilung der Länge der Reviews:\")\n",
    "    print()\n",
    "    print(m)\n",
    "    print()\n",
    "    print()\n",
    "    print(\"Durchschnittliche Länge der Reviews:\")\n",
    "    print()\n",
    "    print(n)"
   ]
  }
 ],
 "metadata": {
  "kernelspec": {
   "display_name": "Python 3",
   "language": "python",
   "name": "python3"
  },
  "language_info": {
   "codemirror_mode": {
    "name": "ipython",
    "version": 3
   },
   "file_extension": ".py",
   "mimetype": "text/x-python",
   "name": "python",
   "nbconvert_exporter": "python",
   "pygments_lexer": "ipython3",
   "version": "3.7.0"
  }
 },
 "nbformat": 4,
 "nbformat_minor": 2
}
