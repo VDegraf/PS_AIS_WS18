{
 "cells": [
  {
   "cell_type": "markdown",
   "metadata": {},
   "source": [
    "# Datenverständnis"
   ]
  },
  {
   "cell_type": "markdown",
   "metadata": {},
   "source": [
    "In diesem Notebook werden unbereinigte Datensätze analysiert.\n",
    "\n",
    "Der Datensatz wird beschrieben und es werden Informationen wie die Sterneverteilung, durchschnittliche Bewertung und die durchschnittliche Anzahl der Bewertungen pro Artikel geliefert."
   ]
  },
  {
   "cell_type": "markdown",
   "metadata": {},
   "source": [
    "### Import"
   ]
  },
  {
   "cell_type": "code",
   "execution_count": 5,
   "metadata": {},
   "outputs": [],
   "source": [
    "import pandas as pd\n",
    "import gzip"
   ]
  },
  {
   "cell_type": "markdown",
   "metadata": {},
   "source": [
    "### Erzeugen eines Data Frames"
   ]
  },
  {
   "cell_type": "code",
   "execution_count": 6,
   "metadata": {},
   "outputs": [],
   "source": [
    "def parse(path):\n",
    "  g = gzip.open(path, 'rb')\n",
    "  for l in g:\n",
    "    yield eval(l)\n",
    "\n",
    "def getDF(path):\n",
    "  i = 0\n",
    "  df = {}\n",
    "  for d in parse(path):\n",
    "    df[i] = d\n",
    "    i += 1\n",
    "  return pd.DataFrame.from_dict(df, orient='index')\n",
    "\n",
    "def data_understanding_1(path):\n",
    "    return getDF(path)"
   ]
  },
  {
   "cell_type": "markdown",
   "metadata": {},
   "source": [
    "#### Einlesen der Daten"
   ]
  },
  {
   "cell_type": "markdown",
   "metadata": {},
   "source": [
    "*Die Variable \"path\" muss durch den Pfad der Datei ersetzt werden.*"
   ]
  },
  {
   "cell_type": "code",
   "execution_count": 7,
   "metadata": {},
   "outputs": [],
   "source": [
    "df=data_understanding_1('../Rumprobieren/data/data.json.gz')"
   ]
  },
  {
   "cell_type": "markdown",
   "metadata": {},
   "source": [
    "### Analyse des Data Frames"
   ]
  },
  {
   "cell_type": "markdown",
   "metadata": {},
   "source": [
    "#### Sterneverteilung"
   ]
  },
  {
   "cell_type": "code",
   "execution_count": 8,
   "metadata": {},
   "outputs": [
    {
     "data": {
      "text/plain": [
       "5.0    6938\n",
       "4.0    2084\n",
       "3.0     772\n",
       "2.0     250\n",
       "1.0     217\n",
       "Name: overall, dtype: int64"
      ]
     },
     "execution_count": 8,
     "metadata": {},
     "output_type": "execute_result"
    }
   ],
   "source": [
    "df[\"overall\"].value_counts()"
   ]
  },
  {
   "cell_type": "markdown",
   "metadata": {},
   "source": [
    "#### Durchschnittliche Bewertungen pro Artikel"
   ]
  },
  {
   "cell_type": "code",
   "execution_count": 9,
   "metadata": {},
   "outputs": [
    {
     "data": {
      "text/plain": [
       "11.401111111111112"
      ]
     },
     "execution_count": 9,
     "metadata": {},
     "output_type": "execute_result"
    }
   ],
   "source": [
    "df[\"asin\"].count()/(df[\"asin\"].value_counts().count())"
   ]
  },
  {
   "cell_type": "markdown",
   "metadata": {},
   "source": [
    "#### Durchschnittliche Bewertung"
   ]
  },
  {
   "cell_type": "code",
   "execution_count": 10,
   "metadata": {},
   "outputs": [
    {
     "data": {
      "text/plain": [
       "4.488743787155248"
      ]
     },
     "execution_count": 10,
     "metadata": {},
     "output_type": "execute_result"
    }
   ],
   "source": [
    "df[\"overall\"].sum()/df.shape[0]"
   ]
  },
  {
   "cell_type": "markdown",
   "metadata": {},
   "source": [
    "#### Anzahl Zeilen und Spalten"
   ]
  },
  {
   "cell_type": "code",
   "execution_count": 11,
   "metadata": {},
   "outputs": [
    {
     "data": {
      "text/plain": [
       "(10261, 9)"
      ]
     },
     "execution_count": 11,
     "metadata": {},
     "output_type": "execute_result"
    }
   ],
   "source": [
    "df.shape"
   ]
  },
  {
   "cell_type": "markdown",
   "metadata": {},
   "source": [
    "#### Information der Daten"
   ]
  },
  {
   "cell_type": "code",
   "execution_count": 12,
   "metadata": {},
   "outputs": [
    {
     "name": "stdout",
     "output_type": "stream",
     "text": [
      "<class 'pandas.core.frame.DataFrame'>\n",
      "Int64Index: 10261 entries, 0 to 10260\n",
      "Data columns (total 9 columns):\n",
      "reviewerID        10261 non-null object\n",
      "asin              10261 non-null object\n",
      "reviewerName      10234 non-null object\n",
      "helpful           10261 non-null object\n",
      "reviewText        10261 non-null object\n",
      "overall           10261 non-null float64\n",
      "summary           10261 non-null object\n",
      "unixReviewTime    10261 non-null int64\n",
      "reviewTime        10261 non-null object\n",
      "dtypes: float64(1), int64(1), object(7)\n",
      "memory usage: 801.6+ KB\n"
     ]
    }
   ],
   "source": [
    "df.info()"
   ]
  },
  {
   "cell_type": "markdown",
   "metadata": {},
   "source": [
    "#### Beschreibung der Daten"
   ]
  },
  {
   "cell_type": "code",
   "execution_count": 13,
   "metadata": {},
   "outputs": [
    {
     "data": {
      "text/html": [
       "<div>\n",
       "<style scoped>\n",
       "    .dataframe tbody tr th:only-of-type {\n",
       "        vertical-align: middle;\n",
       "    }\n",
       "\n",
       "    .dataframe tbody tr th {\n",
       "        vertical-align: top;\n",
       "    }\n",
       "\n",
       "    .dataframe thead th {\n",
       "        text-align: right;\n",
       "    }\n",
       "</style>\n",
       "<table border=\"1\" class=\"dataframe\">\n",
       "  <thead>\n",
       "    <tr style=\"text-align: right;\">\n",
       "      <th></th>\n",
       "      <th>overall</th>\n",
       "      <th>unixReviewTime</th>\n",
       "    </tr>\n",
       "  </thead>\n",
       "  <tbody>\n",
       "    <tr>\n",
       "      <th>count</th>\n",
       "      <td>10261.000000</td>\n",
       "      <td>1.026100e+04</td>\n",
       "    </tr>\n",
       "    <tr>\n",
       "      <th>mean</th>\n",
       "      <td>4.488744</td>\n",
       "      <td>1.360606e+09</td>\n",
       "    </tr>\n",
       "    <tr>\n",
       "      <th>std</th>\n",
       "      <td>0.894642</td>\n",
       "      <td>3.779735e+07</td>\n",
       "    </tr>\n",
       "    <tr>\n",
       "      <th>min</th>\n",
       "      <td>1.000000</td>\n",
       "      <td>1.095466e+09</td>\n",
       "    </tr>\n",
       "    <tr>\n",
       "      <th>25%</th>\n",
       "      <td>4.000000</td>\n",
       "      <td>1.343434e+09</td>\n",
       "    </tr>\n",
       "    <tr>\n",
       "      <th>50%</th>\n",
       "      <td>5.000000</td>\n",
       "      <td>1.368490e+09</td>\n",
       "    </tr>\n",
       "    <tr>\n",
       "      <th>75%</th>\n",
       "      <td>5.000000</td>\n",
       "      <td>1.388966e+09</td>\n",
       "    </tr>\n",
       "    <tr>\n",
       "      <th>max</th>\n",
       "      <td>5.000000</td>\n",
       "      <td>1.405987e+09</td>\n",
       "    </tr>\n",
       "  </tbody>\n",
       "</table>\n",
       "</div>"
      ],
      "text/plain": [
       "            overall  unixReviewTime\n",
       "count  10261.000000    1.026100e+04\n",
       "mean       4.488744    1.360606e+09\n",
       "std        0.894642    3.779735e+07\n",
       "min        1.000000    1.095466e+09\n",
       "25%        4.000000    1.343434e+09\n",
       "50%        5.000000    1.368490e+09\n",
       "75%        5.000000    1.388966e+09\n",
       "max        5.000000    1.405987e+09"
      ]
     },
     "execution_count": 13,
     "metadata": {},
     "output_type": "execute_result"
    }
   ],
   "source": [
    "df.describe()"
   ]
  },
  {
   "cell_type": "markdown",
   "metadata": {},
   "source": [
    "#### Auf Nullwerte überprüfen"
   ]
  },
  {
   "cell_type": "code",
   "execution_count": 14,
   "metadata": {},
   "outputs": [
    {
     "data": {
      "text/plain": [
       "reviewerID         0\n",
       "asin               0\n",
       "reviewerName      27\n",
       "helpful            0\n",
       "reviewText         0\n",
       "overall            0\n",
       "summary            0\n",
       "unixReviewTime     0\n",
       "reviewTime         0\n",
       "dtype: int64"
      ]
     },
     "execution_count": 14,
     "metadata": {},
     "output_type": "execute_result"
    }
   ],
   "source": [
    "df.isnull().sum()"
   ]
  },
  {
   "cell_type": "markdown",
   "metadata": {},
   "source": [
    "#### Header der Daten"
   ]
  },
  {
   "cell_type": "code",
   "execution_count": 15,
   "metadata": {},
   "outputs": [
    {
     "data": {
      "text/html": [
       "<div>\n",
       "<style scoped>\n",
       "    .dataframe tbody tr th:only-of-type {\n",
       "        vertical-align: middle;\n",
       "    }\n",
       "\n",
       "    .dataframe tbody tr th {\n",
       "        vertical-align: top;\n",
       "    }\n",
       "\n",
       "    .dataframe thead th {\n",
       "        text-align: right;\n",
       "    }\n",
       "</style>\n",
       "<table border=\"1\" class=\"dataframe\">\n",
       "  <thead>\n",
       "    <tr style=\"text-align: right;\">\n",
       "      <th></th>\n",
       "      <th>reviewerID</th>\n",
       "      <th>asin</th>\n",
       "      <th>reviewerName</th>\n",
       "      <th>helpful</th>\n",
       "      <th>reviewText</th>\n",
       "      <th>overall</th>\n",
       "      <th>summary</th>\n",
       "      <th>unixReviewTime</th>\n",
       "      <th>reviewTime</th>\n",
       "    </tr>\n",
       "  </thead>\n",
       "  <tbody>\n",
       "    <tr>\n",
       "      <th>0</th>\n",
       "      <td>A2IBPI20UZIR0U</td>\n",
       "      <td>1384719342</td>\n",
       "      <td>cassandra tu \"Yeah, well, that's just like, u...</td>\n",
       "      <td>[0, 0]</td>\n",
       "      <td>Not much to write about here, but it does exac...</td>\n",
       "      <td>5.0</td>\n",
       "      <td>good</td>\n",
       "      <td>1393545600</td>\n",
       "      <td>02 28, 2014</td>\n",
       "    </tr>\n",
       "    <tr>\n",
       "      <th>1</th>\n",
       "      <td>A14VAT5EAX3D9S</td>\n",
       "      <td>1384719342</td>\n",
       "      <td>Jake</td>\n",
       "      <td>[13, 14]</td>\n",
       "      <td>The product does exactly as it should and is q...</td>\n",
       "      <td>5.0</td>\n",
       "      <td>Jake</td>\n",
       "      <td>1363392000</td>\n",
       "      <td>03 16, 2013</td>\n",
       "    </tr>\n",
       "    <tr>\n",
       "      <th>2</th>\n",
       "      <td>A195EZSQDW3E21</td>\n",
       "      <td>1384719342</td>\n",
       "      <td>Rick Bennette \"Rick Bennette\"</td>\n",
       "      <td>[1, 1]</td>\n",
       "      <td>The primary job of this device is to block the...</td>\n",
       "      <td>5.0</td>\n",
       "      <td>It Does The Job Well</td>\n",
       "      <td>1377648000</td>\n",
       "      <td>08 28, 2013</td>\n",
       "    </tr>\n",
       "    <tr>\n",
       "      <th>3</th>\n",
       "      <td>A2C00NNG1ZQQG2</td>\n",
       "      <td>1384719342</td>\n",
       "      <td>RustyBill \"Sunday Rocker\"</td>\n",
       "      <td>[0, 0]</td>\n",
       "      <td>Nice windscreen protects my MXL mic and preven...</td>\n",
       "      <td>5.0</td>\n",
       "      <td>GOOD WINDSCREEN FOR THE MONEY</td>\n",
       "      <td>1392336000</td>\n",
       "      <td>02 14, 2014</td>\n",
       "    </tr>\n",
       "    <tr>\n",
       "      <th>4</th>\n",
       "      <td>A94QU4C90B1AX</td>\n",
       "      <td>1384719342</td>\n",
       "      <td>SEAN MASLANKA</td>\n",
       "      <td>[0, 0]</td>\n",
       "      <td>This pop filter is great. It looks and perform...</td>\n",
       "      <td>5.0</td>\n",
       "      <td>No more pops when I record my vocals.</td>\n",
       "      <td>1392940800</td>\n",
       "      <td>02 21, 2014</td>\n",
       "    </tr>\n",
       "  </tbody>\n",
       "</table>\n",
       "</div>"
      ],
      "text/plain": [
       "       reviewerID        asin  \\\n",
       "0  A2IBPI20UZIR0U  1384719342   \n",
       "1  A14VAT5EAX3D9S  1384719342   \n",
       "2  A195EZSQDW3E21  1384719342   \n",
       "3  A2C00NNG1ZQQG2  1384719342   \n",
       "4   A94QU4C90B1AX  1384719342   \n",
       "\n",
       "                                       reviewerName   helpful  \\\n",
       "0  cassandra tu \"Yeah, well, that's just like, u...    [0, 0]   \n",
       "1                                              Jake  [13, 14]   \n",
       "2                     Rick Bennette \"Rick Bennette\"    [1, 1]   \n",
       "3                         RustyBill \"Sunday Rocker\"    [0, 0]   \n",
       "4                                     SEAN MASLANKA    [0, 0]   \n",
       "\n",
       "                                          reviewText  overall  \\\n",
       "0  Not much to write about here, but it does exac...      5.0   \n",
       "1  The product does exactly as it should and is q...      5.0   \n",
       "2  The primary job of this device is to block the...      5.0   \n",
       "3  Nice windscreen protects my MXL mic and preven...      5.0   \n",
       "4  This pop filter is great. It looks and perform...      5.0   \n",
       "\n",
       "                                 summary  unixReviewTime   reviewTime  \n",
       "0                                   good      1393545600  02 28, 2014  \n",
       "1                                   Jake      1363392000  03 16, 2013  \n",
       "2                   It Does The Job Well      1377648000  08 28, 2013  \n",
       "3          GOOD WINDSCREEN FOR THE MONEY      1392336000  02 14, 2014  \n",
       "4  No more pops when I record my vocals.      1392940800  02 21, 2014  "
      ]
     },
     "execution_count": 15,
     "metadata": {},
     "output_type": "execute_result"
    }
   ],
   "source": [
    "df.head()"
   ]
  },
  {
   "cell_type": "markdown",
   "metadata": {},
   "source": [
    "### Zusammenfassende Funktion"
   ]
  },
  {
   "cell_type": "code",
   "execution_count": 16,
   "metadata": {},
   "outputs": [],
   "source": [
    "import pandas as pd\n",
    "import gzip\n",
    "\n",
    "def parse(path):\n",
    "  g = gzip.open(path, 'rb')\n",
    "  for l in g:\n",
    "    yield eval(l)\n",
    "\n",
    "def getDF(path):\n",
    "  i = 0\n",
    "  df = {}\n",
    "  for d in parse(path):\n",
    "    df[i] = d\n",
    "    i += 1\n",
    "  return pd.DataFrame.from_dict(df, orient='index')\n",
    "\n",
    "def data_understanding_1(path):\n",
    "    df = getDF(path)\n",
    "\n",
    "    # Sterneverteilung\n",
    "    a=df[\"overall\"].value_counts()\n",
    "\n",
    "    # Durchschnittliche Anzahl Bewertungen pro Artikel\n",
    "    b=df[\"asin\"].count()/(df[\"asin\"].value_counts().count())\n",
    "\n",
    "    # Durchschnittliche Bewertung\n",
    "    c=df[\"overall\"].sum()/df.shape[0]\n",
    "\n",
    "    print(\"Durchschnittliche Anzahl Bewertungen pro Artikel:\")\n",
    "    print()\n",
    "    print(b)\n",
    "    print()\n",
    "    print()\n",
    "    print(\"Sterneverteilung:\")\n",
    "    print()\n",
    "    print(a)\n",
    "    print()\n",
    "    print()\n",
    "    print(\"Durchschnittliche Bewertung:\")\n",
    "    print()\n",
    "    print(c)\n",
    "    print()\n",
    "    print()\n",
    "    print(\"Anzahl Zeilen und Spalten:\")\n",
    "    print()\n",
    "    print(df.shape)\n",
    "    print()\n",
    "    print()\n",
    "    print(\"Informationen der Daten:\")\n",
    "    print()\n",
    "    print(df.info())\n",
    "    print()\n",
    "    print()\n",
    "    print(\"Beschreibung der Daten:\")\n",
    "    print()\n",
    "    print(df.describe())\n",
    "    print()\n",
    "    print()\n",
    "    print(\"Auf Nullwerte überprüfen:\")\n",
    "    print()\n",
    "    print(df.isnull().sum())\n",
    "    print()\n",
    "    print()\n",
    "    print(\"Header der Daten:\")\n",
    "    print()\n",
    "    print(df.head())"
   ]
  },
  {
   "cell_type": "code",
   "execution_count": 27,
   "metadata": {},
   "outputs": [
    {
     "name": "stdout",
     "output_type": "stream",
     "text": [
      "Durchschnittliche Anzahl Bewertungen pro Artikel:\n",
      "\n",
      "11.401111111111112\n",
      "\n",
      "\n",
      "Sterneverteilung:\n",
      "\n",
      "5.0    6938\n",
      "4.0    2084\n",
      "3.0     772\n",
      "2.0     250\n",
      "1.0     217\n",
      "Name: overall, dtype: int64\n",
      "\n",
      "\n",
      "Durchschnittliche Bewertung:\n",
      "\n",
      "4.488743787155248\n",
      "\n",
      "\n",
      "Anzahl Zeilen und Spalten:\n",
      "\n",
      "(10261, 9)\n",
      "\n",
      "\n",
      "Informationen der Daten:\n",
      "\n",
      "<class 'pandas.core.frame.DataFrame'>\n",
      "Int64Index: 10261 entries, 0 to 10260\n",
      "Data columns (total 9 columns):\n",
      "reviewerID        10261 non-null object\n",
      "asin              10261 non-null object\n",
      "reviewerName      10234 non-null object\n",
      "helpful           10261 non-null object\n",
      "reviewText        10261 non-null object\n",
      "overall           10261 non-null float64\n",
      "summary           10261 non-null object\n",
      "unixReviewTime    10261 non-null int64\n",
      "reviewTime        10261 non-null object\n",
      "dtypes: float64(1), int64(1), object(7)\n",
      "memory usage: 801.6+ KB\n",
      "None\n",
      "\n",
      "\n",
      "Beschreibung der Daten:\n",
      "\n",
      "            overall  unixReviewTime\n",
      "count  10261.000000    1.026100e+04\n",
      "mean       4.488744    1.360606e+09\n",
      "std        0.894642    3.779735e+07\n",
      "min        1.000000    1.095466e+09\n",
      "25%        4.000000    1.343434e+09\n",
      "50%        5.000000    1.368490e+09\n",
      "75%        5.000000    1.388966e+09\n",
      "max        5.000000    1.405987e+09\n",
      "\n",
      "\n",
      "Auf Nullwerte überprüfen:\n",
      "\n",
      "reviewerID         0\n",
      "asin               0\n",
      "reviewerName      27\n",
      "helpful            0\n",
      "reviewText         0\n",
      "overall            0\n",
      "summary            0\n",
      "unixReviewTime     0\n",
      "reviewTime         0\n",
      "dtype: int64\n",
      "\n",
      "\n",
      "Header der Daten:\n",
      "\n",
      "       reviewerID        asin  \\\n",
      "0  A2IBPI20UZIR0U  1384719342   \n",
      "1  A14VAT5EAX3D9S  1384719342   \n",
      "2  A195EZSQDW3E21  1384719342   \n",
      "3  A2C00NNG1ZQQG2  1384719342   \n",
      "4   A94QU4C90B1AX  1384719342   \n",
      "\n",
      "                                       reviewerName   helpful  \\\n",
      "0  cassandra tu \"Yeah, well, that's just like, u...    [0, 0]   \n",
      "1                                              Jake  [13, 14]   \n",
      "2                     Rick Bennette \"Rick Bennette\"    [1, 1]   \n",
      "3                         RustyBill \"Sunday Rocker\"    [0, 0]   \n",
      "4                                     SEAN MASLANKA    [0, 0]   \n",
      "\n",
      "                                          reviewText  overall  \\\n",
      "0  Not much to write about here, but it does exac...      5.0   \n",
      "1  The product does exactly as it should and is q...      5.0   \n",
      "2  The primary job of this device is to block the...      5.0   \n",
      "3  Nice windscreen protects my MXL mic and preven...      5.0   \n",
      "4  This pop filter is great. It looks and perform...      5.0   \n",
      "\n",
      "                                 summary  unixReviewTime   reviewTime  \n",
      "0                                   good      1393545600  02 28, 2014  \n",
      "1                                   Jake      1363392000  03 16, 2013  \n",
      "2                   It Does The Job Well      1377648000  08 28, 2013  \n",
      "3          GOOD WINDSCREEN FOR THE MONEY      1392336000  02 14, 2014  \n",
      "4  No more pops when I record my vocals.      1392940800  02 21, 2014  \n"
     ]
    }
   ],
   "source": [
    "data_understanding_1('../Rumprobieren/data/data.json.gz')"
   ]
  },
  {
   "cell_type": "code",
   "execution_count": null,
   "metadata": {},
   "outputs": [],
   "source": []
  }
 ],
 "metadata": {
  "kernelspec": {
   "display_name": "Python 3",
   "language": "python",
   "name": "python3"
  },
  "language_info": {
   "codemirror_mode": {
    "name": "ipython",
    "version": 3
   },
   "file_extension": ".py",
   "mimetype": "text/x-python",
   "name": "python",
   "nbconvert_exporter": "python",
   "pygments_lexer": "ipython3",
   "version": "3.7.0"
  }
 },
 "nbformat": 4,
 "nbformat_minor": 2
}
