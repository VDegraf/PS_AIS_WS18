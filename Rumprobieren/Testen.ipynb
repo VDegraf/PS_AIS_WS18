{
 "cells": [
  {
   "cell_type": "code",
   "execution_count": null,
   "metadata": {},
   "outputs": [
    {
     "name": "stdout",
     "output_type": "stream",
     "text": [
      "showing info https://raw.githubusercontent.com/nltk/nltk_data/gh-pages/index.xml\n"
     ]
    }
   ],
   "source": [
    "import nltk\n",
    "nltk.download()"
   ]
  },
  {
   "cell_type": "code",
   "execution_count": 100,
   "metadata": {},
   "outputs": [],
   "source": [
    "\n",
    "import gzip\n",
    "\n",
    "def parse(path):\n",
    "  g = gzip.open(path, 'r')\n",
    "  for l in g:\n",
    "    yield eval(l)"
   ]
  },
  {
   "cell_type": "code",
   "execution_count": 75,
   "metadata": {},
   "outputs": [],
   "source": [
    "df = list(parse(\"data/data.json.gz\"))\n",
    "df2 = list(parse(\"data/metadata.json.gz\"))"
   ]
  },
  {
   "cell_type": "code",
   "execution_count": 95,
   "metadata": {},
   "outputs": [
    {
     "data": {
      "text/plain": [
       "{'reviewerID': 'A2IBPI20UZIR0U',\n",
       " 'asin': '1384719342',\n",
       " 'reviewerName': 'cassandra tu \"Yeah, well, that\\'s just like, u...',\n",
       " 'helpful': [0, 0],\n",
       " 'reviewText': \"Not much to write about here, but it does exactly what it's supposed to. filters out the pop sounds. now my recordings are much more crisp. it is one of the lowest prices pop filters on amazon so might as well buy it, they honestly work the same despite their pricing,\",\n",
       " 'overall': 5.0,\n",
       " 'summary': 'good',\n",
       " 'unixReviewTime': 1393545600,\n",
       " 'reviewTime': '02 28, 2014'}"
      ]
     },
     "execution_count": 95,
     "metadata": {},
     "output_type": "execute_result"
    }
   ],
   "source": [
    "df[0]"
   ]
  },
  {
   "cell_type": "code",
   "execution_count": 99,
   "metadata": {
    "scrolled": false
   },
   "outputs": [],
   "source": [
    "def getTitle(prodID):\n",
    "    for i in range(len(df2)):\n",
    "        if df2[i][\"asin\"] == prodID:\n",
    "            return df2[i][\"title\"]"
   ]
  },
  {
   "cell_type": "code",
   "execution_count": 93,
   "metadata": {},
   "outputs": [
    {
     "name": "stdout",
     "output_type": "stream",
     "text": [
      "1384719342\n",
      "\n",
      "Not much to write about here, but it does exactly what it's supposed to. filters out the pop sounds. now my recordings are much more crisp. it is one of the lowest prices pop filters on amazon so might as well buy it, they honestly work the same despite their pricing,\n",
      "5.0\n",
      "\n",
      "1384719342\n",
      "\n",
      "The product does exactly as it should and is quite affordable.I did not realized it was double screened until it arrived, so it was even better than I had expected.As an added bonus, one of the screens carries a small hint of the smell of an old grape candy I used to buy, so for reminiscent's sake, I cannot stop putting the pop filter next to my nose and smelling it after recording. :DIf you needed a pop filter, this will work just as well as the expensive ones, and it may even come with a pleasing aroma like mine did!Buy this product! :]\n",
      "5.0\n",
      "\n",
      "1384719342\n",
      "\n",
      "The primary job of this device is to block the breath that would otherwise produce a popping sound, while allowing your voice to pass through with no noticeable reduction of volume or high frequencies. The double cloth filter blocks the pops and lets the voice through with no coloration. The metal clamp mount attaches to the mike stand secure enough to keep it attached. The goose neck needs a little coaxing to stay where you put it.\n",
      "5.0\n",
      "\n",
      "1384719342\n",
      "\n",
      "Nice windscreen protects my MXL mic and prevents pops. Only thing is that the gooseneck is only marginally able to hold the screen in position and requires careful positioning of the clamp to avoid sagging.\n",
      "5.0\n",
      "\n",
      "1384719342\n",
      "\n",
      "This pop filter is great. It looks and performs like a studio filter. If you're recording vocals this will eliminate the pops that gets recorded when you sing.\n",
      "5.0\n",
      "\n",
      "B00004Y2UT\n",
      "\n",
      "So good that I bought another one.  Love the heavy cord and gold connectors.  Bass sounds great.  I just learned last night how to coil them up.  I guess I should read instructions more carefully.  But no harm done, still works great!\n",
      "5.0\n",
      "\n",
      "B00004Y2UT\n",
      "\n",
      "I have used monster cables for years, and with good reason. The lifetime warranty is worth the price alone. Simple fact: cables break, but getting to replace them at no cost is where it's at.\n",
      "5.0\n",
      "\n",
      "B00004Y2UT\n",
      "\n",
      "I now use this cable to run from the output of my pedal chain to the input of my Fender Amp. After I bought Monster Cable to hook up my pedal board I thought I would try another one and update my guitar. I had been using a high end Planet Waves cable that I bought in the 1980's... Once I found out the input jacks on the new Monster cable didn't fit into the Fender Strat jack I was a little disappointed... I didn't return it and as stated I use it for the output on the pedal board. Save your money... I went back to my Planet Waves Cable...I payed $30.00 back in the eighties for the Planet Waves which now comes in at around $50.00. What I'm getting at is you get what you pay for. I thought Waves was a lot of money back in the day...but I haven't bought a guitar cable since this one...20 plus years and still working...Planet Waves wins.\n",
      "3.0\n",
      "\n",
      "B00004Y2UT\n",
      "\n",
      "Perfect for my Epiphone Sheraton II.  Monster cables are well constructed.  I have several and never had any problems with any of them over the years.  Got this one because I wanted the 90 degree plug.\n",
      "5.0\n",
      "\n",
      "B00004Y2UT\n",
      "\n",
      "Monster makes the best cables and a lifetime warranty doesnt hurt either. This isnt their top of the line series but it works great with my bass guitar rig and has for some time. You cant go wrong with Monster Cables.\n",
      "5.0\n",
      "\n"
     ]
    }
   ],
   "source": [
    "titles = []\n",
    "review = [] \n",
    "ratings = []\n",
    "\n",
    "for i in range(100):\n",
    "    review.append(df[i][\"reviewText\"])\n",
    "    ratings.append(df[i][\"overall\"])\n",
    "    titles.append(df[i][\"asin\"])\n",
    "for i in range(0,10):\n",
    "    print(titles[i])\n",
    "    \n",
    "    print(review[i])\n",
    "    print(ratings[i])\n",
    "    print(\"\")"
   ]
  },
  {
   "cell_type": "code",
   "execution_count": null,
   "metadata": {},
   "outputs": [],
   "source": []
  },
  {
   "cell_type": "code",
   "execution_count": 82,
   "metadata": {},
   "outputs": [
    {
     "name": "stdout",
     "output_type": "stream",
     "text": [
      "4.488743787155248\n"
     ]
    }
   ],
   "source": [
    "\n",
    "\n",
    "for review in parse(\"data/data.json.gz\"):\n",
    "  ratings.append(review['overall'])\n",
    "\n",
    "print(sum(ratings)/len(ratings))"
   ]
  },
  {
   "cell_type": "code",
   "execution_count": null,
   "metadata": {},
   "outputs": [],
   "source": []
  }
 ],
 "metadata": {
  "kernelspec": {
   "display_name": "Python 3",
   "language": "python",
   "name": "python3"
  },
  "language_info": {
   "codemirror_mode": {
    "name": "ipython",
    "version": 3
   },
   "file_extension": ".py",
   "mimetype": "text/x-python",
   "name": "python",
   "nbconvert_exporter": "python",
   "pygments_lexer": "ipython3",
   "version": "3.7.0"
  }
 },
 "nbformat": 4,
 "nbformat_minor": 2
}
